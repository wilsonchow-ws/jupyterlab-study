{
 "cells": [
  {
   "cell_type": "code",
   "execution_count": 1,
   "id": "26a4f183-27a8-4a50-9a1e-82b35cbf6d48",
   "metadata": {},
   "outputs": [],
   "source": [
    "## Python basic learning:\n",
    "## Objective for Data Engineer:\n",
    "# 1. Object-oriebted programming\n",
    "# 2. Decorators\n",
    "# 3. Good practices\n",
    "# 4. Version control\n"
   ]
  },
  {
   "cell_type": "code",
   "execution_count": 2,
   "id": "43fa201f-7bc8-4752-a916-de50f2aa8de0",
   "metadata": {},
   "outputs": [
    {
     "data": {
      "text/plain": [
       "5"
      ]
     },
     "execution_count": 2,
     "metadata": {},
     "output_type": "execute_result"
    }
   ],
   "source": [
    "# Decorators:\n",
    "def plus_one(number):\n",
    "    def add_one(number):\n",
    "        return number + 1\n",
    "\n",
    "\n",
    "    result = add_one(number)\n",
    "    return result\n",
    "plus_one(4)\n"
   ]
  },
  {
   "cell_type": "code",
   "execution_count": 3,
   "id": "ee3fcfdd-07c1-44a7-bc40-3107b52b60be",
   "metadata": {},
   "outputs": [
    {
     "data": {
      "text/plain": [
       "6"
      ]
     },
     "execution_count": 3,
     "metadata": {},
     "output_type": "execute_result"
    }
   ],
   "source": [
    "#Passing Functions as Arguments to other Functions\n",
    "def plus_one(number):\n",
    "    return number + 1\n",
    "\n",
    "def square(number):\n",
    "    return number ** 2\n",
    "\n",
    "def function_call(function):\n",
    "    number_to_add = 5\n",
    "    return function(number_to_add)\n",
    "\n",
    "function_call(plus_one)"
   ]
  },
  {
   "cell_type": "code",
   "execution_count": 4,
   "id": "9e628f54-2e4d-4b19-a6c1-35fa5215c63d",
   "metadata": {},
   "outputs": [
    {
     "data": {
      "text/plain": [
       "25"
      ]
     },
     "execution_count": 4,
     "metadata": {},
     "output_type": "execute_result"
    }
   ],
   "source": [
    "function_call(square)"
   ]
  },
  {
   "cell_type": "code",
   "execution_count": 5,
   "id": "5be1382e-b065-4f3e-ace7-0b0d5b2f9e92",
   "metadata": {},
   "outputs": [
    {
     "data": {
      "text/plain": [
       "'Hi'"
      ]
     },
     "execution_count": 5,
     "metadata": {},
     "output_type": "execute_result"
    }
   ],
   "source": [
    "## Function return other function\n",
    "def hello_function():\n",
    "    def say_hi():\n",
    "        return \"Hi\"\n",
    "    return say_hi\n",
    "hello = hello_function()\n",
    "hello()\n"
   ]
  },
  {
   "cell_type": "code",
   "execution_count": 6,
   "id": "a2ccf68c-4703-4241-b298-dee32c496d13",
   "metadata": {},
   "outputs": [
    {
     "name": "stdout",
     "output_type": "stream",
     "text": [
      "Some random message\n"
     ]
    }
   ],
   "source": [
    "# Nested Functions have access to the Enclosing Function's Variable Scope\n",
    "\n",
    "## This code defines a function called print_message that takes a single argument message. Within the print_message function, there is a nested function called message_sender that simply prints the message argument. \n",
    "## The message_sender function is then called within the print_message function. \n",
    "\n",
    "## When the code is executed, the print_message function is called with the argument \"Some random message\". This causes the message_sender function to be called, which in turn prints the message \"Some random message\". \n",
    "## The purpose of this code is to demonstrate how nested functions work in Python. \n",
    "## The message_sender function is nested within the print_message function, which means it has access to the message argument even though it is not passed as an argument to the message_sender function itself. \n",
    "## This is because nested functions have access to the variables and arguments of their enclosing functions.\n",
    "\n",
    "def print_message(message):\n",
    "    \"Enclosong Function\"\n",
    "    def message_sender():\n",
    "        \"Nested Function\"\n",
    "        print(message)\n",
    "        \n",
    "    message_sender()\n",
    "\n",
    "print_message(\"Some random message\")\n"
   ]
  },
  {
   "cell_type": "code",
   "execution_count": 7,
   "id": "efdfd692-24ce-4112-b7f2-fb8376e23f72",
   "metadata": {},
   "outputs": [],
   "source": [
    "#Creating Decorators\n",
    "\n",
    "# With these prerequisites out of the way, let's go ahead and create a simple decorator that will convert a sentence to uppercase. \n",
    "# We do this by defining a wrapper inside an enclosed function. As you can see it very similar to the function inside another function that we created earlier.\n",
    "\n",
    "# This code defines a decorator function called uppercase_decorator that takes in another function as an argument. The decorator function returns a new function called wrapper that wraps the original function. \n",
    "\n",
    "# The wrapper function first calls the original function using function(), and then converts the result to uppercase using the upper() method. Finally, it returns the uppercase result.\n",
    "\n",
    "# The purpose of this decorator is to modify the output of the original function by converting it to uppercase. To use this decorator, you would apply it to a function by placing @uppercase_decorator above the function definition.\n",
    "\n",
    "def uppercase_decorator(function):\n",
    "    def wrapper():\n",
    "        func = str(function())\n",
    "        make_uppercase = func.upper()\n",
    "        return make_uppercase\n",
    "\n",
    "    return wrapper\n"
   ]
  },
  {
   "cell_type": "code",
   "execution_count": 8,
   "id": "404d0578-a780-4bb5-8b0b-87f963580fa5",
   "metadata": {},
   "outputs": [
    {
     "data": {
      "text/plain": [
       "'HELLO THERE'"
      ]
     },
     "execution_count": 8,
     "metadata": {},
     "output_type": "execute_result"
    }
   ],
   "source": [
    "def say_hi():\n",
    "    return 'hello there'\n",
    "\n",
    "decorate = uppercase_decorator(say_hi)\n",
    "decorate()"
   ]
  },
  {
   "cell_type": "code",
   "execution_count": 9,
   "id": "c85c774a-1b6b-4b08-ae66-350a5ff5962d",
   "metadata": {},
   "outputs": [],
   "source": [
    "# It would becomes TypeError: 'NoneType' object is not callable. Because print_message() only use print to out the parameter, not return string.\n",
    "#pmsg = uppercase_decorator(print_message(\"Some random message\"))\n",
    "\n",
    "# But hello_function(), is RETURN a string. It would not be error in there as it returns a string to uppercase_decorator\n",
    "pmsg = uppercase_decorator(hello_function())\n",
    "#pmsg()\n",
    "#print_message(\"Some random message\")"
   ]
  },
  {
   "cell_type": "code",
   "execution_count": 10,
   "id": "180580f2-7bb2-409b-b436-44f37098e86b",
   "metadata": {},
   "outputs": [
    {
     "data": {
      "text/plain": [
       "'HI'"
      ]
     },
     "execution_count": 10,
     "metadata": {},
     "output_type": "execute_result"
    }
   ],
   "source": [
    "pmsg()"
   ]
  },
  {
   "cell_type": "code",
   "execution_count": 11,
   "id": "cd2cb27f-0f9c-4b69-af69-5ae32c8ba6c8",
   "metadata": {},
   "outputs": [],
   "source": [
    "## Applying Multiple Decorators to a Single Function\n",
    "# We can use multiple decorators to a single function. However, the decorators will be applied in the order that we've called them. \n",
    "# Below we'll define another decorator that splits the sentence into a list. We'll then apply the uppercase_decorator and split_string decorator to a single function.\n",
    "\n",
    "# Adding @split_string, @uppercase_decorator to adding specified function in there.\n",
    "import functools\n",
    "def split_string(function):\n",
    "    @functools.wraps(function)\n",
    "    def wrapper():\n",
    "        func = function()\n",
    "        splitted_string = func.split()\n",
    "        return splitted_string\n",
    "\n",
    "    return wrapper "
   ]
  },
  {
   "cell_type": "code",
   "execution_count": 12,
   "id": "b6780006-b408-4f22-84d7-dd2a8c97b3bb",
   "metadata": {},
   "outputs": [
    {
     "data": {
      "text/plain": [
       "['HELLO', 'THERE']"
      ]
     },
     "execution_count": 12,
     "metadata": {},
     "output_type": "execute_result"
    }
   ],
   "source": [
    "@split_string\n",
    "@uppercase_decorator\n",
    "def say_hi():\n",
    "    return 'hello there'\n",
    "say_hi()\n"
   ]
  },
  {
   "cell_type": "code",
   "execution_count": 13,
   "id": "ec76d6b9-18a8-402f-b117-4ffc3bc39d57",
   "metadata": {},
   "outputs": [
    {
     "name": "stdout",
     "output_type": "stream",
     "text": [
      "My arguments are: Nairobi, Accra\n",
      "Cities I love are Nairobi and Accra\n"
     ]
    }
   ],
   "source": [
    "## Accepting Arguments in Decorator Functions\n",
    "\n",
    "# Sometimes we might need to define a decorator that accepts arguments. We achieve this by passing the arguments to the wrapper function. The arguments will then be passed to the function that is being decorated at call time.\n",
    "def decorator_with_arguments(function):\n",
    "    def wrapper_accepting_arguments(arg1, arg2):\n",
    "        print(\"My arguments are: {0}, {1}\".format(arg1,arg2))\n",
    "        function(arg1, arg2)\n",
    "    return wrapper_accepting_arguments\n",
    "\n",
    "\n",
    "@decorator_with_arguments\n",
    "def cities(city_one, city_two):\n",
    "    print(\"Cities I love are {0} and {1}\".format(city_one, city_two))\n",
    "\n",
    "cities(\"Nairobi\", \"Accra\")\n"
   ]
  },
  {
   "cell_type": "code",
   "execution_count": 14,
   "id": "045a0688-c840-4ab9-bbb0-325490dc8334",
   "metadata": {},
   "outputs": [
    {
     "name": "stdout",
     "output_type": "stream",
     "text": [
      "The positional arguments are ()\n",
      "The keyword arguments are {}\n",
      "No arguments here.\n"
     ]
    },
    {
     "data": {
      "text/plain": [
       "'\\nThe positional arguments are ()\\nThe keyword arguments are {}\\nNo arguments here.\\n'"
      ]
     },
     "execution_count": 14,
     "metadata": {},
     "output_type": "execute_result"
    }
   ],
   "source": [
    "# Defining General Purpose Decorators\n",
    "# To define a general purpose decorator that can be applied to any function we use args and **kwargs. \n",
    "# args and **kwargs collect all positional and keyword arguments and stores them in the args and kwargs variables. \n",
    "# args and kwargs allow us to pass as many arguments as we would like during function calls.\n",
    "\n",
    "def a_decorator_passing_arbitrary_arguments(function_to_decorate):\n",
    "    def a_wrapper_accepting_arbitrary_arguments(*args,**kwargs):\n",
    "        print('The positional arguments are', args)\n",
    "        print('The keyword arguments are', kwargs)\n",
    "        function_to_decorate(*args)\n",
    "    return a_wrapper_accepting_arbitrary_arguments\n",
    "\n",
    "@a_decorator_passing_arbitrary_arguments\n",
    "def function_with_no_argument():\n",
    "    print(\"No arguments here.\")\n",
    "\n",
    "function_with_no_argument()\n",
    "\n",
    "# This code defines a decorator function called a_decorator_passing_arbitrary_arguments that takes in a function as an argument. \n",
    "# The decorator function then defines an inner function called a_wrapper_accepting_arbitrary_arguments that accepts arbitrary arguments using the *args and **kwargs syntax. \n",
    "# The inner function then prints out the positional and keyword arguments passed to it and calls the original function with the positional arguments using function_to_decorate(*args). \n",
    "\n",
    "# The @a_decorator_passing_arbitrary_arguments syntax is used to apply the decorator to the function_with_no_argument function. \n",
    "# When function_with_no_argument is called, it is actually calling the a_wrapper_accepting_arbitrary_arguments function defined in the decorator, \n",
    "# which in turn calls the original function_with_no_argument function with no arguments. The output of the code will be:\n",
    "\n",
    "\"\"\"\n",
    "The positional arguments are ()\n",
    "The keyword arguments are {}\n",
    "No arguments here.\n",
    "\"\"\"\n",
    "\n",
    "# This shows that the decorator successfully passed the arguments to the inner function and called the original function with no arguments."
   ]
  },
  {
   "cell_type": "code",
   "execution_count": 15,
   "id": "8eb7dd34-d9a6-474a-a659-3f5999dc98eb",
   "metadata": {},
   "outputs": [],
   "source": [
    "#The positional arguments are ()\n",
    "#The keyword arguments are {}\n",
    "#No arguments here.\n"
   ]
  },
  {
   "cell_type": "code",
   "execution_count": 16,
   "id": "e22f5c01-4772-4b02-b7e5-db2d8137cd76",
   "metadata": {},
   "outputs": [
    {
     "name": "stdout",
     "output_type": "stream",
     "text": [
      "The positional arguments are (1, 2, 3)\n",
      "The keyword arguments are {}\n",
      "1 2 3\n"
     ]
    }
   ],
   "source": [
    "@a_decorator_passing_arbitrary_arguments\n",
    "def function_with_arguments(a, b, c):\n",
    "    print(a, b, c)\n",
    "\n",
    "function_with_arguments(1,2,3)\n"
   ]
  },
  {
   "cell_type": "code",
   "execution_count": 17,
   "id": "c353496c-4e56-4f05-a825-c6a88a7de634",
   "metadata": {},
   "outputs": [
    {
     "name": "stdout",
     "output_type": "stream",
     "text": [
      "The positional arguments are ()\n",
      "The keyword arguments are {'first_name': 'Derrick', 'last_name': 'Mwiti'}\n",
      "This has shown keyword arguments\n"
     ]
    }
   ],
   "source": [
    "@a_decorator_passing_arbitrary_arguments\n",
    "def function_with_keyword_arguments():\n",
    "    print(\"This has shown keyword arguments\")\n",
    "\n",
    "function_with_keyword_arguments(first_name=\"Derrick\", last_name=\"Mwiti\")\n",
    "## Note: The use of **kwargs in the decorator allows it to handle keyword arguments. This makes the general-purpose decorator versatile and capable of handling a variety of argument types during function calls."
   ]
  },
  {
   "cell_type": "code",
   "execution_count": 18,
   "id": "bea1bd29-bc5d-4da3-99b3-51d51fbd5fd0",
   "metadata": {},
   "outputs": [
    {
     "name": "stdout",
     "output_type": "stream",
     "text": [
      "The wrapper can access all the variables\n",
      "\t- from the decorator maker: Pandas Numpy Scikit-learn\n",
      "\t- from the function call: Pandas Science Tools\n",
      "and pass them to the decorated function\n",
      "This is the decorated function and it only knows about its arguments: Pandas Science Tools\n"
     ]
    }
   ],
   "source": [
    "## Passing Arguments to the Decorator\n",
    "# Now let's see how we'd pass arguments to the decorator itself. \n",
    "# In order to achieve this, we define a decorator maker that accepts arguments then define a decorator inside it. \n",
    "# We then define a wrapper function inside the decorator as we did earlier.\n",
    "\n",
    "def decorator_maker_with_arguments(decorator_arg1, decorator_arg2, decorator_arg3):\n",
    "    def decorator(func):\n",
    "        def wrapper(function_arg1, function_arg2, function_arg3) :\n",
    "            \"This is the wrapper function\"\n",
    "            print(\"The wrapper can access all the variables\\n\"\n",
    "                  \"\\t- from the decorator maker: {0} {1} {2}\\n\"\n",
    "                  \"\\t- from the function call: {3} {4} {5}\\n\"\n",
    "                  \"and pass them to the decorated function\"\n",
    "                  .format(decorator_arg1, decorator_arg2,decorator_arg3,\n",
    "                          function_arg1, function_arg2,function_arg3))\n",
    "            return func(function_arg1, function_arg2,function_arg3)\n",
    "\n",
    "        return wrapper\n",
    "\n",
    "    return decorator\n",
    "\n",
    "pandas = \"Pandas\"\n",
    "@decorator_maker_with_arguments(pandas, \"Numpy\",\"Scikit-learn\")\n",
    "def decorated_function_with_arguments(function_arg1, function_arg2,function_arg3):\n",
    "    print(\"This is the decorated function and it only knows about its arguments: {0}\"\n",
    "           \" {1}\" \" {2}\".format(function_arg1, function_arg2,function_arg3))\n",
    "\n",
    "decorated_function_with_arguments(pandas, \"Science\", \"Tools\")"
   ]
  },
  {
   "cell_type": "code",
   "execution_count": 19,
   "id": "51e43776-7440-4b7d-92d0-b954007a6088",
   "metadata": {},
   "outputs": [
    {
     "name": "stdout",
     "output_type": "stream",
     "text": [
      " Jankson\n",
      "ABC\n"
     ]
    }
   ],
   "source": [
    "def right(inString, nofchar):\n",
    "    length = len(inString)\n",
    "    if length < nofchar:\n",
    "        return inString\n",
    "    else:\n",
    "        start = length-nofchar\n",
    "        result = inString[start:]\n",
    "    return result\n",
    "\n",
    "def left(inString, nofchar):\n",
    "    length = len(inString)\n",
    "    if length < nofchar:\n",
    "        return inString\n",
    "    else:\n",
    "        end = nofchar - length\n",
    "        result = inString[:end]\n",
    "    return result\n",
    "\n",
    "print(right(\"Michael Jankson\",8))\n",
    "print(left(\"ABCDEFGHIJK\",3))"
   ]
  },
  {
   "cell_type": "code",
   "execution_count": 20,
   "id": "fff74902-9d23-4431-9d7e-ffb058c1644b",
   "metadata": {},
   "outputs": [
    {
     "name": "stdout",
     "output_type": "stream",
     "text": [
      "18\n"
     ]
    }
   ],
   "source": [
    "import re\n",
    "\n",
    "def patindex(pattern, string):\n",
    "    match = re.search(pattern, string)\n",
    "    if match:\n",
    "        return match.start() + 1  # SQL `PATINDEX` is 1-based\n",
    "    return 0  # Return 0 if the pattern is not found\n",
    "\n",
    "# Example\n",
    "text = \"Hello, this is a Python example.\"\n",
    "pattern = r\"Python\"\n",
    "position = patindex(pattern, text)\n",
    "print(position)  # Output: 16 (1-based index)\n"
   ]
  },
  {
   "cell_type": "code",
   "execution_count": 21,
   "id": "013d3234-8325-45ef-82f3-688a815fc619",
   "metadata": {},
   "outputs": [
    {
     "name": "stdout",
     "output_type": "stream",
     "text": [
      "Python\n"
     ]
    }
   ],
   "source": [
    "text = \"Hello, this is a Python example.\"\n",
    "print(text[17:23])"
   ]
  },
  {
   "cell_type": "code",
   "execution_count": 22,
   "id": "81b23510-1a8a-4d77-8d14-d814e7c80acf",
   "metadata": {},
   "outputs": [
    {
     "name": "stdout",
     "output_type": "stream",
     "text": [
      "18\n"
     ]
    }
   ],
   "source": [
    "def patindex_simple(substring, string):\n",
    "    position = string.find(substring)\n",
    "    return position + 1 if position != -1 else 0\n",
    "\n",
    "# Example\n",
    "text = \"Hello, this is a Python example.\"\n",
    "substring = \"Python\"\n",
    "position = patindex_simple(substring, text)\n",
    "print(position)  # Output: 16 (1-based index)\n"
   ]
  },
  {
   "cell_type": "code",
   "execution_count": 23,
   "id": "3c3c0f58-1fa2-4be2-995a-35dea924fa5b",
   "metadata": {},
   "outputs": [
    {
     "name": "stdout",
     "output_type": "stream",
     "text": [
      "YES! We have a match!\n"
     ]
    }
   ],
   "source": [
    "import re\n",
    "\n",
    "#Check if the string starts with \"The\" and ends with \"Spain\":\n",
    "\n",
    "txt = \"The rain in Spain\"\n",
    "x = re.search(\"^The.*Spain$\", txt)\n",
    "\n",
    "if x:\n",
    "  print(\"YES! We have a match!\")\n",
    "else:\n",
    "  print(\"No match\")"
   ]
  },
  {
   "cell_type": "code",
   "execution_count": 24,
   "id": "01944245-397d-4204-b34b-6553de040745",
   "metadata": {},
   "outputs": [
    {
     "name": "stdout",
     "output_type": "stream",
     "text": [
      "3.12.8 (tags/v3.12.8:2dc476b, Dec  3 2024, 19:30:04) [MSC v.1942 64 bit (AMD64)]\n"
     ]
    }
   ],
   "source": [
    "import sys\n",
    "\n",
    "print(sys.version)"
   ]
  },
  {
   "cell_type": "code",
   "execution_count": 25,
   "id": "7e7fe62a-670d-4e64-a43d-c6ff1ab34dde",
   "metadata": {},
   "outputs": [
    {
     "name": "stdout",
     "output_type": "stream",
     "text": [
      "Five is greater than two!\n"
     ]
    }
   ],
   "source": [
    "if 5 > 2:\n",
    "  print(\"Five is greater than two!\")"
   ]
  },
  {
   "cell_type": "code",
   "execution_count": 26,
   "id": "b8fb8746-960e-43bc-b835-9c2cc853f6db",
   "metadata": {},
   "outputs": [
    {
     "name": "stdout",
     "output_type": "stream",
     "text": [
      "Five is greater than two!\n",
      "Five is greater than two!\n"
     ]
    }
   ],
   "source": [
    "if 5 > 2:\n",
    " print(\"Five is greater than two!\") \n",
    "if 5 > 2:\n",
    "        print(\"Five is greater than two!\") "
   ]
  },
  {
   "cell_type": "code",
   "execution_count": 27,
   "id": "2526e7d6-f180-4ab8-b1b5-e740e9368879",
   "metadata": {},
   "outputs": [
    {
     "name": "stdout",
     "output_type": "stream",
     "text": [
      "Five is greater than two!\n",
      "Five is greater than two! 2\n"
     ]
    }
   ],
   "source": [
    "if 5 > 2:\n",
    " print(\"Five is greater than two!\")\n",
    " print(\"Five is greater than two! 2\") \n",
    "else:\n",
    " print(\"Other\")"
   ]
  },
  {
   "cell_type": "code",
   "execution_count": 28,
   "id": "df568127-36d0-44bd-8168-92072cd11ecf",
   "metadata": {},
   "outputs": [
    {
     "name": "stdout",
     "output_type": "stream",
     "text": [
      "Sally\n"
     ]
    }
   ],
   "source": [
    "x = 4       # x is of type int\n",
    "x = \"Sally\" # x is now of type str\n",
    "print(x)"
   ]
  },
  {
   "cell_type": "code",
   "execution_count": 29,
   "id": "2940f4f3-d6c7-4f42-830f-8f86b5614aa1",
   "metadata": {},
   "outputs": [
    {
     "name": "stdout",
     "output_type": "stream",
     "text": [
      "<class 'int'>\n",
      "<class 'str'>\n"
     ]
    }
   ],
   "source": [
    "x = 5\n",
    "y = \"John\"\n",
    "print(type(x))\n",
    "print(type(y)) "
   ]
  },
  {
   "cell_type": "code",
   "execution_count": 30,
   "id": "22de9d85-1f6b-4455-b06f-fa75a0dcf92c",
   "metadata": {},
   "outputs": [
    {
     "name": "stdout",
     "output_type": "stream",
     "text": [
      "Orange\n",
      "Orange\n",
      "Orange\n"
     ]
    }
   ],
   "source": [
    "x = y = z = \"Orange\"\n",
    "print(x)\n",
    "print(y)\n",
    "print(z)"
   ]
  },
  {
   "cell_type": "code",
   "execution_count": 31,
   "id": "6c0d2da6-d509-4e7f-8af2-afba95d79484",
   "metadata": {},
   "outputs": [
    {
     "name": "stdout",
     "output_type": "stream",
     "text": [
      "Orange\n",
      "Banana\n",
      "Cherry\n"
     ]
    }
   ],
   "source": [
    "x, y, z = \"Orange\", \"Banana\", \"Cherry\"\n",
    "print(x)\n",
    "print(y)\n",
    "print(z)"
   ]
  },
  {
   "cell_type": "code",
   "execution_count": 32,
   "id": "b738d273-d252-4ca2-ba10-4425c881e2ce",
   "metadata": {},
   "outputs": [
    {
     "name": "stdout",
     "output_type": "stream",
     "text": [
      "apple\n",
      "banana\n",
      "cherry\n"
     ]
    }
   ],
   "source": [
    "fruits = [\"apple\", \"banana\", \"cherry\"]\n",
    "x, y, z = fruits\n",
    "print(x)\n",
    "print(y)\n",
    "print(z)"
   ]
  },
  {
   "cell_type": "code",
   "execution_count": 33,
   "id": "36e3b863-1a6d-430a-9087-81e7069cddba",
   "metadata": {},
   "outputs": [
    {
     "name": "stdout",
     "output_type": "stream",
     "text": [
      "5 John\n"
     ]
    }
   ],
   "source": [
    "# it would cause error as different data type\n",
    "x = 5\n",
    "y = \"John\"\n",
    "#print(x + y)  ##error here\n",
    "print(str(x)+' '+y)"
   ]
  },
  {
   "cell_type": "code",
   "execution_count": 34,
   "id": "b400a471-af0c-4ba2-9d0a-9afd0527efd5",
   "metadata": {},
   "outputs": [
    {
     "name": "stdout",
     "output_type": "stream",
     "text": [
      "5 John\n"
     ]
    }
   ],
   "source": [
    "x = 5\n",
    "y = \"John\"\n",
    "print(x, y)"
   ]
  },
  {
   "cell_type": "code",
   "execution_count": 35,
   "id": "7db1fa4d-df2d-4563-a8df-fa60b56c2a7c",
   "metadata": {},
   "outputs": [
    {
     "name": "stdout",
     "output_type": "stream",
     "text": [
      "Python is fantastic\n",
      "Python is awesome\n"
     ]
    }
   ],
   "source": [
    "x = \"awesome\"\n",
    "\n",
    "def myfunc():\n",
    "  x = \"fantastic\"\n",
    "  print(\"Python is \" + x)\n",
    "\n",
    "myfunc()\n",
    "\n",
    "print(\"Python is \" + x) "
   ]
  },
  {
   "cell_type": "code",
   "execution_count": 36,
   "id": "1f343a32-efac-40c5-9558-64e145f22233",
   "metadata": {},
   "outputs": [
    {
     "name": "stdout",
     "output_type": "stream",
     "text": [
      "Python is fantastic\n"
     ]
    }
   ],
   "source": [
    "def myfunc():\n",
    "  global x\n",
    "  x = \"fantastic\"\n",
    "\n",
    "myfunc()\n",
    "\n",
    "print(\"Python is \" + x) "
   ]
  },
  {
   "cell_type": "code",
   "execution_count": 37,
   "id": "9b611706-5c1b-43ce-a304-44962aaa9a7d",
   "metadata": {},
   "outputs": [
    {
     "name": "stdout",
     "output_type": "stream",
     "text": [
      "Python is fantastic\n",
      "Python is fantastic\n"
     ]
    }
   ],
   "source": [
    "x = \"awesome\"\n",
    "\n",
    "def myfunc():\n",
    "  global x\n",
    "  x = \"fantastic\"\n",
    "  print(\"Python is \" + x) \n",
    "\n",
    "myfunc()\n",
    "\n",
    "print(\"Python is \" + x) "
   ]
  },
  {
   "cell_type": "code",
   "execution_count": 38,
   "id": "7a697ca8-e2f3-4fda-af1c-c21d61232b51",
   "metadata": {},
   "outputs": [
    {
     "name": "stdout",
     "output_type": "stream",
     "text": [
      "Python is awesome\n"
     ]
    }
   ],
   "source": [
    "x = 'awesome'\n",
    "def myfunc():\n",
    "  x = 'fantastic'\n",
    "myfunc()\n",
    "print('Python is ' + x)"
   ]
  },
  {
   "cell_type": "code",
   "execution_count": 39,
   "id": "a5309125-4714-47c1-b22b-0620dda268b3",
   "metadata": {},
   "outputs": [
    {
     "name": "stdout",
     "output_type": "stream",
     "text": [
      "<class 'bytes'>\n"
     ]
    }
   ],
   "source": [
    "#x = range(6)\n",
    "x = b\"Hello\"\n",
    "print(type(x))"
   ]
  },
  {
   "cell_type": "code",
   "execution_count": 40,
   "id": "75cd5391-51a8-4bab-9181-3f59ce8ddb5b",
   "metadata": {},
   "outputs": [
    {
     "name": "stdout",
     "output_type": "stream",
     "text": [
      "<class 'int'>\n",
      "<class 'int'>\n",
      "<class 'int'>\n"
     ]
    }
   ],
   "source": [
    "x = 1\n",
    "y = 35656222554887711\n",
    "z = -3255522\n",
    "\n",
    "print(type(x))\n",
    "print(type(y))\n",
    "print(type(z)) "
   ]
  },
  {
   "cell_type": "code",
   "execution_count": 41,
   "id": "d8b3ef68-f798-4ca7-bdf5-96ef9ebf0bb8",
   "metadata": {},
   "outputs": [
    {
     "name": "stdout",
     "output_type": "stream",
     "text": [
      "<class 'float'>\n",
      "<class 'float'>\n",
      "<class 'float'>\n"
     ]
    }
   ],
   "source": [
    "x = 35e3\n",
    "y = 12E4\n",
    "z = -87.7e100\n",
    "\n",
    "print(type(x))\n",
    "print(type(y))\n",
    "print(type(z)) "
   ]
  },
  {
   "cell_type": "code",
   "execution_count": 42,
   "id": "ad5b8a04-e366-49de-9222-b2d55fef59a5",
   "metadata": {},
   "outputs": [
    {
     "name": "stdout",
     "output_type": "stream",
     "text": [
      "(3+5j)\n",
      "5j\n",
      "<class 'complex'>\n",
      "<class 'complex'>\n",
      "<class 'complex'>\n"
     ]
    }
   ],
   "source": [
    "x = 3+5j\n",
    "y = 5j\n",
    "z = -5j\n",
    "\n",
    "print(x)\n",
    "print(y)\n",
    "print(type(x))\n",
    "print(type(y))\n",
    "print(type(z)) "
   ]
  },
  {
   "cell_type": "code",
   "execution_count": 43,
   "id": "254ee4df-2927-4432-9592-5cbf1035709a",
   "metadata": {},
   "outputs": [
    {
     "name": "stdout",
     "output_type": "stream",
     "text": [
      "j\n",
      "1.0\n",
      "2\n",
      "(1+0j)\n",
      "<class 'float'>\n",
      "<class 'int'>\n",
      "<class 'complex'>\n"
     ]
    }
   ],
   "source": [
    "x = 1    # int\n",
    "y = 2.8  # float\n",
    "z = 1j   # complex\n",
    "\n",
    "#convert from int to float:\n",
    "a = float(x)\n",
    "\n",
    "#convert from float to int:\n",
    "b = int(y)\n",
    "\n",
    "#convert from int to complex:\n",
    "c = complex(x)\n",
    "\n",
    "d = str(z)\n",
    "\n",
    "print(d[1:])\n",
    "\n",
    "print(a)\n",
    "print(b)\n",
    "print(c)\n",
    "\n",
    "print(type(a))\n",
    "print(type(b))\n",
    "print(type(c)) "
   ]
  },
  {
   "cell_type": "code",
   "execution_count": 44,
   "id": "42d4afc1-1c22-4c62-a430-f9e6cca42217",
   "metadata": {},
   "outputs": [
    {
     "name": "stdout",
     "output_type": "stream",
     "text": [
      "<class 'complex'>\n"
     ]
    }
   ],
   "source": [
    "x=5\n",
    "x=complex(x)\n",
    "print(type(x))"
   ]
  },
  {
   "cell_type": "code",
   "execution_count": 45,
   "id": "b0f546e7-967c-4f34-ae76-f86481e6a608",
   "metadata": {},
   "outputs": [
    {
     "name": "stdout",
     "output_type": "stream",
     "text": [
      "35\n"
     ]
    }
   ],
   "source": [
    "print(int(35.88))"
   ]
  },
  {
   "cell_type": "code",
   "execution_count": 46,
   "id": "a4596b6b-8d1a-4c3b-8af9-c06749f3a476",
   "metadata": {},
   "outputs": [
    {
     "name": "stdout",
     "output_type": "stream",
     "text": [
      "It's alright\n",
      "He is called 'Johnny'\n",
      "He is called \"Johnny\"\n",
      "He is called \"Johnny\"\n"
     ]
    }
   ],
   "source": [
    "print(\"It's alright\")\n",
    "print(\"He is called 'Johnny'\")\n",
    "print('He is called \"Johnny\"')\n",
    "print(\"He is called \\\"Johnny\\\"\")"
   ]
  },
  {
   "cell_type": "code",
   "execution_count": 47,
   "id": "d7e2db24-a4b7-4abc-8dab-b825c16fea59",
   "metadata": {},
   "outputs": [
    {
     "name": "stdout",
     "output_type": "stream",
     "text": [
      "Lorem ipsum dolor sit amet,\n",
      "consectetur adipiscing elit,\n",
      "sed do eiusmod tempor incididunt\n",
      "ut labore et dolore magna aliqua.\n"
     ]
    }
   ],
   "source": [
    "a = '''Lorem ipsum dolor sit amet,\n",
    "consectetur adipiscing elit,\n",
    "sed do eiusmod tempor incididunt\n",
    "ut labore et dolore magna aliqua.'''\n",
    "print(a)"
   ]
  },
  {
   "cell_type": "code",
   "execution_count": 48,
   "id": "4f6637b0-3262-4adf-bc04-b97c395df1f8",
   "metadata": {},
   "outputs": [
    {
     "name": "stdout",
     "output_type": "stream",
     "text": [
      "Lorem ipsum dolor sit amet,\n",
      "consectetur adipiscing elit,\n",
      "sed do eiusmod tempor incididunt\n",
      "ut labore et dolore magna aliqua.\n"
     ]
    }
   ],
   "source": [
    "a = \"\"\"Lorem ipsum dolor sit amet,\n",
    "consectetur adipiscing elit,\n",
    "sed do eiusmod tempor incididunt\n",
    "ut labore et dolore magna aliqua.\"\"\"\n",
    "print(a) "
   ]
  },
  {
   "cell_type": "code",
   "execution_count": 49,
   "id": "c4ca6ddc-b7ff-4ae7-9881-3954c35a41df",
   "metadata": {},
   "outputs": [
    {
     "name": "stdout",
     "output_type": "stream",
     "text": [
      "e\n"
     ]
    }
   ],
   "source": [
    "a = \"Hello, World!\"\n",
    "print(a[1])"
   ]
  },
  {
   "cell_type": "code",
   "execution_count": 50,
   "id": "d7e61fee-d36d-4630-a308-0ebb363ff47d",
   "metadata": {},
   "outputs": [
    {
     "name": "stdout",
     "output_type": "stream",
     "text": [
      "b\n",
      "a\n",
      "n\n",
      "a\n",
      "n\n",
      "a\n"
     ]
    }
   ],
   "source": [
    "for x in \"banana\":\n",
    "  print(x)"
   ]
  },
  {
   "cell_type": "code",
   "execution_count": 51,
   "id": "28c1b447-04c3-40a7-9bd8-2e7cb808a1a0",
   "metadata": {},
   "outputs": [
    {
     "name": "stdout",
     "output_type": "stream",
     "text": [
      "True\n"
     ]
    }
   ],
   "source": [
    "txt = \"The best things in life are free!\"\n",
    "print(\"free\" in txt)"
   ]
  },
  {
   "cell_type": "code",
   "execution_count": 52,
   "id": "fa1f6ab4-854c-487e-9b61-2edba3c15030",
   "metadata": {},
   "outputs": [
    {
     "name": "stdout",
     "output_type": "stream",
     "text": [
      "True\n"
     ]
    }
   ],
   "source": [
    "txt = \"The best things in life are free!\"\n",
    "print(\"expensive\" not in txt)"
   ]
  },
  {
   "cell_type": "code",
   "execution_count": 53,
   "id": "d07f6dcd-5dbd-48e7-b54c-d4a11523ef2b",
   "metadata": {},
   "outputs": [
    {
     "name": "stdout",
     "output_type": "stream",
     "text": [
      "No, 'expensive' is NOT present.\n"
     ]
    }
   ],
   "source": [
    "txt = \"The best things in life are free!\"\n",
    "if \"expensive\" not in txt:\n",
    "  print(\"No, 'expensive' is NOT present.\")"
   ]
  },
  {
   "cell_type": "code",
   "execution_count": 54,
   "id": "5e2ec6fe-9c81-4e01-9607-6bc585cfc287",
   "metadata": {},
   "outputs": [
    {
     "name": "stdout",
     "output_type": "stream",
     "text": [
      "Hello\n"
     ]
    }
   ],
   "source": [
    "b = \"Hello, World!\"\n",
    "print(b[:5])"
   ]
  },
  {
   "cell_type": "code",
   "execution_count": 55,
   "id": "a0a2d905-3b57-40c7-a9b8-41c645e709d4",
   "metadata": {},
   "outputs": [
    {
     "name": "stdout",
     "output_type": "stream",
     "text": [
      "llo, World!\n"
     ]
    }
   ],
   "source": [
    "b = \"Hello, World!\"\n",
    "print(b[2:])"
   ]
  },
  {
   "cell_type": "code",
   "execution_count": 56,
   "id": "8fa079dc-f0ea-4a5d-9270-69b813dcbef6",
   "metadata": {},
   "outputs": [
    {
     "name": "stdout",
     "output_type": "stream",
     "text": [
      "orl\n"
     ]
    }
   ],
   "source": [
    "b = \"Hello, World!\"\n",
    "print(b[-5:-2])"
   ]
  },
  {
   "cell_type": "code",
   "execution_count": 57,
   "id": "4300183a-741b-4af1-8f7e-ca39d088b2f7",
   "metadata": {},
   "outputs": [
    {
     "name": "stdout",
     "output_type": "stream",
     "text": [
      "co\n"
     ]
    }
   ],
   "source": [
    "x = 'Welcome'\n",
    "print(x[3:5])"
   ]
  },
  {
   "cell_type": "code",
   "execution_count": 58,
   "id": "8a7a399a-f1c2-4b92-b6b2-87b3a37ab3a3",
   "metadata": {},
   "outputs": [
    {
     "name": "stdout",
     "output_type": "stream",
     "text": [
      "llo\n"
     ]
    }
   ],
   "source": [
    "txt=\"Hello World\"\n",
    "print(txt[2:5])"
   ]
  },
  {
   "cell_type": "code",
   "execution_count": 59,
   "id": "5a82445c-eba8-44f2-aa5c-61ac676a32ff",
   "metadata": {},
   "outputs": [
    {
     "name": "stdout",
     "output_type": "stream",
     "text": [
      "Hello, World!\n"
     ]
    }
   ],
   "source": [
    "a = \" Hello, World! \"\n",
    "print(a.strip()) # returns \"Hello, World!\" "
   ]
  },
  {
   "cell_type": "code",
   "execution_count": 60,
   "id": "1860a225-c31c-43a7-aed9-34f896ea8441",
   "metadata": {},
   "outputs": [
    {
     "name": "stdout",
     "output_type": "stream",
     "text": [
      "Jello, World!\n"
     ]
    }
   ],
   "source": [
    "a = \"Hello, World!\"\n",
    "print(a.replace(\"H\", \"J\"))"
   ]
  },
  {
   "cell_type": "code",
   "execution_count": 61,
   "id": "321f9ffa-20e3-46cb-bd8e-b02958eb97e9",
   "metadata": {},
   "outputs": [
    {
     "name": "stdout",
     "output_type": "stream",
     "text": [
      "['Hello', ' World!']\n"
     ]
    }
   ],
   "source": [
    "a = \"Hello, World!\"\n",
    "print(a.split(\",\")) # returns ['Hello', ' World!'] "
   ]
  },
  {
   "cell_type": "code",
   "execution_count": 62,
   "id": "27c1fcbb-c3f6-454f-a31c-eafe42ee3edb",
   "metadata": {},
   "outputs": [
    {
     "name": "stdout",
     "output_type": "stream",
     "text": [
      "My name is John, I am 36\n"
     ]
    }
   ],
   "source": [
    "age = 36\n",
    "txt = f\"My name is John, I am {age}\"\n",
    "print(txt)"
   ]
  },
  {
   "cell_type": "code",
   "execution_count": 63,
   "id": "4e55b40b-7a27-4235-89e5-1406ea43938a",
   "metadata": {},
   "outputs": [
    {
     "name": "stdout",
     "output_type": "stream",
     "text": [
      "The price is 59.00 dollars\n"
     ]
    }
   ],
   "source": [
    "price = 59\n",
    "txt = f\"The price is {price:.2f} dollars\"\n",
    "print(txt)"
   ]
  },
  {
   "cell_type": "code",
   "execution_count": 64,
   "id": "d9c28175-9f4e-4b60-a01f-e05e10e4de9d",
   "metadata": {},
   "outputs": [
    {
     "name": "stdout",
     "output_type": "stream",
     "text": [
      "The price is 1180 dollars\n"
     ]
    }
   ],
   "source": [
    "txt = f\"The price is {20 * 59} dollars\"\n",
    "print(txt)"
   ]
  },
  {
   "cell_type": "code",
   "execution_count": 65,
   "id": "4182823c-3fec-4b19-909d-2cd7c12ccd9e",
   "metadata": {},
   "outputs": [
    {
     "name": "stdout",
     "output_type": "stream",
     "text": [
      "Wilson chow\n"
     ]
    }
   ],
   "source": [
    "x = \"Wilson Chow\"\n",
    "print(x.capitalize())"
   ]
  },
  {
   "cell_type": "code",
   "execution_count": 66,
   "id": "a1b950c6-e23e-42fa-aac3-d5eb0eb7906b",
   "metadata": {},
   "outputs": [
    {
     "name": "stdout",
     "output_type": "stream",
     "text": [
      "12\n"
     ]
    }
   ],
   "source": [
    "txt = \"Mi casa, su casa.\"\n",
    "x = txt.rindex(\"casa\")\n",
    "print(x)"
   ]
  },
  {
   "cell_type": "code",
   "execution_count": 67,
   "id": "e4c3b2d3-82c5-4bb2-a0f7-e0c4454a4da2",
   "metadata": {},
   "outputs": [
    {
     "name": "stdout",
     "output_type": "stream",
     "text": [
      "7\n"
     ]
    }
   ],
   "source": [
    "txt = \"Hello, welcome to my world.\"\n",
    "\n",
    "x = txt.index(\"welcome\")\n",
    "\n",
    "print(x) "
   ]
  },
  {
   "cell_type": "code",
   "execution_count": 68,
   "id": "92245f38-ad8f-4b03-82cc-31b4841d61b0",
   "metadata": {},
   "outputs": [
    {
     "name": "stdout",
     "output_type": "stream",
     "text": [
      "True\n"
     ]
    }
   ],
   "source": [
    "txt = \"565543\"\n",
    "\n",
    "x = txt.isnumeric()\n",
    "\n",
    "print(x) "
   ]
  },
  {
   "cell_type": "code",
   "execution_count": 69,
   "id": "a486a045-3fdb-47c3-96a4-6f6a8f21d01b",
   "metadata": {},
   "outputs": [
    {
     "name": "stdout",
     "output_type": "stream",
     "text": [
      "False\n"
     ]
    }
   ],
   "source": [
    "txt = \"   s   \"\n",
    "\n",
    "x = txt.isspace()\n",
    "\n",
    "print(x) "
   ]
  },
  {
   "cell_type": "code",
   "execution_count": 70,
   "id": "d090ccbf-af44-44a2-9f73-7686c1600d04",
   "metadata": {},
   "outputs": [
    {
     "name": "stdout",
     "output_type": "stream",
     "text": [
      "True\n",
      "False\n",
      "False\n"
     ]
    }
   ],
   "source": [
    "print(10 > 9)\n",
    "print(10 == 9)\n",
    "print(10 < 9) "
   ]
  },
  {
   "cell_type": "code",
   "execution_count": 71,
   "id": "8aff880c-096a-48d4-a46a-67bc0af4f7c6",
   "metadata": {},
   "outputs": [
    {
     "name": "stdout",
     "output_type": "stream",
     "text": [
      "True\n",
      "True\n"
     ]
    }
   ],
   "source": [
    "print(bool(\"Hello\"))\n",
    "print(bool(15))"
   ]
  },
  {
   "cell_type": "code",
   "execution_count": 72,
   "id": "8934dd76-fa56-4e03-bdb9-1dded22946a0",
   "metadata": {},
   "outputs": [
    {
     "name": "stdout",
     "output_type": "stream",
     "text": [
      "True\n",
      "True\n"
     ]
    }
   ],
   "source": [
    "x = \"Hello\"\n",
    "y = 15\n",
    "\n",
    "print(bool(x))\n",
    "print(bool(y))"
   ]
  },
  {
   "cell_type": "code",
   "execution_count": 73,
   "id": "47b4d0be-8733-461b-9d9d-a9e473e79011",
   "metadata": {},
   "outputs": [
    {
     "data": {
      "text/plain": [
       "True"
      ]
     },
     "execution_count": 73,
     "metadata": {},
     "output_type": "execute_result"
    }
   ],
   "source": [
    "bool(\"abc\")\n",
    "bool(123)\n",
    "bool([\"apple\", \"cherry\", \"banana\"])"
   ]
  },
  {
   "cell_type": "code",
   "execution_count": 74,
   "id": "e1c47321-f8f5-4fdf-9437-c59225b4dcc2",
   "metadata": {},
   "outputs": [
    {
     "data": {
      "text/plain": [
       "False"
      ]
     },
     "execution_count": 74,
     "metadata": {},
     "output_type": "execute_result"
    }
   ],
   "source": [
    "bool(False)\n",
    "bool(None)\n",
    "bool(0)\n",
    "bool(\"\")\n",
    "bool(())\n",
    "bool([])\n",
    "bool({}) "
   ]
  },
  {
   "cell_type": "code",
   "execution_count": 75,
   "id": "03516bfa-7f41-409b-8d33-b36e094606f8",
   "metadata": {},
   "outputs": [
    {
     "name": "stdout",
     "output_type": "stream",
     "text": [
      "False\n"
     ]
    }
   ],
   "source": [
    "class myclass():\n",
    "  def __len__(self):\n",
    "    return 0\n",
    "\n",
    "myobj = myclass()\n",
    "print(bool(myobj)) "
   ]
  },
  {
   "cell_type": "code",
   "execution_count": 76,
   "id": "b58794eb-8590-41e7-b59c-f44acbe68bab",
   "metadata": {},
   "outputs": [
    {
     "name": "stdout",
     "output_type": "stream",
     "text": [
      "YES!\n"
     ]
    }
   ],
   "source": [
    "def myFunction() :\n",
    "  return True\n",
    "\n",
    "if myFunction():\n",
    "  print(\"YES!\")\n",
    "else:\n",
    "  print(\"NO!\") "
   ]
  },
  {
   "cell_type": "code",
   "execution_count": 77,
   "id": "62781bfc-1455-4934-a871-f6bee057ba1f",
   "metadata": {},
   "outputs": [
    {
     "name": "stdout",
     "output_type": "stream",
     "text": [
      "True\n"
     ]
    }
   ],
   "source": [
    "x = 200\n",
    "print(isinstance(x, int)) "
   ]
  },
  {
   "cell_type": "code",
   "execution_count": 78,
   "id": "a0fc601b-c13d-41a8-b5d4-7f1f55027662",
   "metadata": {},
   "outputs": [
    {
     "name": "stdout",
     "output_type": "stream",
     "text": [
      "1600\n"
     ]
    }
   ],
   "source": [
    "x = x << 3\n",
    "print(x)"
   ]
  },
  {
   "cell_type": "code",
   "execution_count": 79,
   "id": "6fd11633-4828-4b60-89fd-ef3373e7ff75",
   "metadata": {},
   "outputs": [
    {
     "name": "stdout",
     "output_type": "stream",
     "text": [
      "115\n"
     ]
    }
   ],
   "source": [
    "print(100 + 5 * 3) "
   ]
  },
  {
   "cell_type": "code",
   "execution_count": 80,
   "id": "d81b525b-4385-45bb-85be-f9d5fbfc749f",
   "metadata": {},
   "outputs": [
    {
     "name": "stdout",
     "output_type": "stream",
     "text": [
      "['apple', 'banana', 'cherry']\n",
      "banana\n"
     ]
    }
   ],
   "source": [
    "thislist = [\"apple\", \"banana\", \"cherry\"]\n",
    "print(thislist)\n",
    "print(thislist[1])"
   ]
  },
  {
   "cell_type": "code",
   "execution_count": 81,
   "id": "85d023e6-1f06-4b02-bea4-c937c3071f4f",
   "metadata": {},
   "outputs": [
    {
     "name": "stdout",
     "output_type": "stream",
     "text": [
      "['apple', 'banana', 'cherry', 'apple', 'cherry']\n"
     ]
    }
   ],
   "source": [
    "thislist = [\"apple\", \"banana\", \"cherry\", \"apple\", \"cherry\"]\n",
    "print(thislist)"
   ]
  },
  {
   "cell_type": "code",
   "execution_count": 82,
   "id": "2f79ab47-be07-450a-9378-eebb80815d83",
   "metadata": {},
   "outputs": [
    {
     "name": "stdout",
     "output_type": "stream",
     "text": [
      "3\n"
     ]
    }
   ],
   "source": [
    "thislist = [\"apple\", \"banana\", \"cherry\"]\n",
    "print(len(thislist))"
   ]
  },
  {
   "cell_type": "code",
   "execution_count": 83,
   "id": "d797ebc0-0fbc-4dcb-8a65-52781374264f",
   "metadata": {},
   "outputs": [],
   "source": [
    "list1 = [\"apple\", \"banana\", \"cherry\"]\n",
    "list2 = [1, 5, 7, 9, 3,\"2\"]\n",
    "list3 = [True, False, False]"
   ]
  },
  {
   "cell_type": "code",
   "execution_count": 84,
   "id": "dc317baf-acf1-4300-8921-8c6116d9ed55",
   "metadata": {},
   "outputs": [
    {
     "name": "stdout",
     "output_type": "stream",
     "text": [
      "<class 'list'>\n"
     ]
    }
   ],
   "source": [
    "print(type(list2))"
   ]
  },
  {
   "cell_type": "code",
   "execution_count": 85,
   "id": "f4be10c8-1ad3-42f7-b95d-946731ab3960",
   "metadata": {},
   "outputs": [
    {
     "name": "stdout",
     "output_type": "stream",
     "text": [
      "[1, 5, 7, 9, 3, '2']\n"
     ]
    }
   ],
   "source": [
    "print(list2)"
   ]
  },
  {
   "cell_type": "code",
   "execution_count": 86,
   "id": "ab5315be-6d40-47b7-9812-aad7f78b778b",
   "metadata": {},
   "outputs": [
    {
     "name": "stdout",
     "output_type": "stream",
     "text": [
      "<class 'list'>\n"
     ]
    }
   ],
   "source": [
    "mylist = [\"apple\", \"banana\", \"cherry\"]\n",
    "print(type(mylist))"
   ]
  },
  {
   "cell_type": "code",
   "execution_count": 87,
   "id": "fd5ddf53-c995-4c4d-9baa-175591a3ff94",
   "metadata": {},
   "outputs": [
    {
     "name": "stdout",
     "output_type": "stream",
     "text": [
      "['apple', 'banana', 'cherry']\n"
     ]
    }
   ],
   "source": [
    "thislist = list((\"apple\", \"banana\", \"cherry\")) # note the double round-brackets\n",
    "print(thislist)"
   ]
  },
  {
   "cell_type": "code",
   "execution_count": 88,
   "id": "989dac4f-875e-4048-82f5-07a1087f058a",
   "metadata": {},
   "outputs": [
    {
     "name": "stdout",
     "output_type": "stream",
     "text": [
      "cherry\n"
     ]
    }
   ],
   "source": [
    "thislist = [\"apple\", \"banana\", \"cherry\"]\n",
    "print(thislist[-1])"
   ]
  },
  {
   "cell_type": "code",
   "execution_count": 89,
   "id": "38496425-7c91-4eab-862c-30de1e0ad6b8",
   "metadata": {},
   "outputs": [
    {
     "name": "stdout",
     "output_type": "stream",
     "text": [
      "['orange', 'kiwi', 'melon']\n"
     ]
    }
   ],
   "source": [
    "thislist = [\"apple\", \"banana\", \"cherry\", \"orange\", \"kiwi\", \"melon\", \"mango\"]\n",
    "print(thislist[-4:-1])"
   ]
  },
  {
   "cell_type": "code",
   "execution_count": 90,
   "id": "eda8b5c4-bd46-41ce-b4de-51a62bb17b86",
   "metadata": {},
   "outputs": [
    {
     "name": "stdout",
     "output_type": "stream",
     "text": [
      "['apple', 'blackcurrant', 'watermelon', 'orange', 'kiwi', 'mango']\n"
     ]
    }
   ],
   "source": [
    "thislist = [\"apple\", \"banana\", \"cherry\", \"orange\", \"kiwi\", \"mango\"]\n",
    "thislist[1:3] = [\"blackcurrant\", \"watermelon\"]\n",
    "print(thislist)"
   ]
  },
  {
   "cell_type": "code",
   "execution_count": 91,
   "id": "b9e88933-47cd-423b-8289-138b0cf9fbb5",
   "metadata": {},
   "outputs": [
    {
     "name": "stdout",
     "output_type": "stream",
     "text": [
      "['apple', 'watermelon']\n"
     ]
    }
   ],
   "source": [
    "thislist = [\"apple\", \"banana\", \"cherry\"]\n",
    "thislist[1:3] = [\"watermelon\"]\n",
    "print(thislist) "
   ]
  },
  {
   "cell_type": "code",
   "execution_count": 92,
   "id": "ddf42270-67bd-4f23-a160-0cca904879d8",
   "metadata": {},
   "outputs": [
    {
     "name": "stdout",
     "output_type": "stream",
     "text": [
      "['apple', 'banana', 'watermelon', 'cherry']\n"
     ]
    }
   ],
   "source": [
    "thislist = [\"apple\", \"banana\", \"cherry\"]\n",
    "thislist.insert(2, \"watermelon\")\n",
    "print(thislist)"
   ]
  },
  {
   "cell_type": "code",
   "execution_count": 93,
   "id": "c86bf64d-c31a-435a-a8c9-d9d24bca5959",
   "metadata": {},
   "outputs": [
    {
     "name": "stdout",
     "output_type": "stream",
     "text": [
      "['apple', 'banana', 'cherry', 'orange']\n"
     ]
    }
   ],
   "source": [
    "thislist = [\"apple\", \"banana\", \"cherry\"]\n",
    "thislist.append(\"orange\")\n",
    "print(thislist)"
   ]
  },
  {
   "cell_type": "code",
   "execution_count": 94,
   "id": "0b51f53c-a3b6-400a-89f5-fa7f612e197c",
   "metadata": {},
   "outputs": [
    {
     "name": "stdout",
     "output_type": "stream",
     "text": [
      "['apple', 'orange', 'banana', 'cherry']\n"
     ]
    }
   ],
   "source": [
    "thislist = [\"apple\", \"banana\", \"cherry\"]\n",
    "thislist.insert(1, \"orange\")\n",
    "print(thislist)"
   ]
  },
  {
   "cell_type": "code",
   "execution_count": 95,
   "id": "35a1a805-bcc5-42ea-a75d-70857b7f3c52",
   "metadata": {},
   "outputs": [
    {
     "name": "stdout",
     "output_type": "stream",
     "text": [
      "['apple', 'banana', 'cherry', 'mango', 'pineapple', 'papaya']\n"
     ]
    }
   ],
   "source": [
    "thislist = [\"apple\", \"banana\", \"cherry\"]\n",
    "tropical = [\"mango\", \"pineapple\", \"papaya\"]\n",
    "thislist.extend(tropical)\n",
    "print(thislist)"
   ]
  },
  {
   "cell_type": "code",
   "execution_count": 96,
   "id": "fe8bf4c5-7881-4f9c-a56f-ce9fc54198a0",
   "metadata": {},
   "outputs": [
    {
     "name": "stdout",
     "output_type": "stream",
     "text": [
      "['apple', 'banana', 'cherry', 'kiwi', 'orange']\n"
     ]
    }
   ],
   "source": [
    "thislist = [\"apple\", \"banana\", \"cherry\"]\n",
    "thistuple = (\"kiwi\", \"orange\")\n",
    "thislist.extend(thistuple)\n",
    "print(thislist)"
   ]
  },
  {
   "cell_type": "code",
   "execution_count": 97,
   "id": "3b0e3fbd-813b-44f3-b7c0-3cbcad7d6cec",
   "metadata": {},
   "outputs": [
    {
     "name": "stdout",
     "output_type": "stream",
     "text": [
      "['apple', 'cherry', 'banana', 'kiwi']\n"
     ]
    }
   ],
   "source": [
    "thislist = [\"apple\", \"banana\", \"cherry\", \"banana\", \"kiwi\"]\n",
    "thislist.remove(\"banana\")\n",
    "print(thislist)"
   ]
  },
  {
   "cell_type": "code",
   "execution_count": 98,
   "id": "7fd58873-2ddb-45c6-84d9-ca0e0d9b0575",
   "metadata": {},
   "outputs": [
    {
     "name": "stdout",
     "output_type": "stream",
     "text": [
      "['apple', 'cherry']\n"
     ]
    }
   ],
   "source": [
    "thislist = [\"apple\", \"banana\", \"cherry\"]\n",
    "thislist.pop(1)\n",
    "print(thislist)"
   ]
  },
  {
   "cell_type": "code",
   "execution_count": 99,
   "id": "d5bf2ada-32e4-417d-b537-da4fff73304c",
   "metadata": {},
   "outputs": [
    {
     "name": "stdout",
     "output_type": "stream",
     "text": [
      "['apple', 'banana']\n"
     ]
    }
   ],
   "source": [
    "thislist = [\"apple\", \"banana\", \"cherry\"]\n",
    "thislist.pop()\n",
    "print(thislist)"
   ]
  },
  {
   "cell_type": "code",
   "execution_count": 100,
   "id": "950b3526-d1df-44f0-9c2c-784ff414d77e",
   "metadata": {},
   "outputs": [
    {
     "name": "stdout",
     "output_type": "stream",
     "text": [
      "['banana', 'cherry']\n"
     ]
    }
   ],
   "source": [
    "thislist = [\"apple\", \"banana\", \"cherry\"]\n",
    "del thislist[0]\n",
    "print(thislist)"
   ]
  },
  {
   "cell_type": "code",
   "execution_count": 101,
   "id": "d39c1fd0-4358-4d36-a4e7-c5685dd22110",
   "metadata": {},
   "outputs": [],
   "source": [
    "#delete the whole list\n",
    "thislist = [\"apple\", \"banana\", \"cherry\"]\n",
    "del thislist \n",
    "#print(thislist)"
   ]
  },
  {
   "cell_type": "code",
   "execution_count": 102,
   "id": "a07f5ae3-6440-4030-aeb3-2767024cd5aa",
   "metadata": {},
   "outputs": [
    {
     "name": "stdout",
     "output_type": "stream",
     "text": [
      "[]\n"
     ]
    }
   ],
   "source": [
    "thislist = [\"apple\", \"banana\", \"cherry\"]\n",
    "thislist.clear()\n",
    "print(thislist)"
   ]
  },
  {
   "cell_type": "code",
   "execution_count": 103,
   "id": "90d40c8b-9e9d-42d0-bece-5cb3ee0cf49f",
   "metadata": {},
   "outputs": [
    {
     "name": "stdout",
     "output_type": "stream",
     "text": [
      "apple\n",
      "banana\n",
      "cherry\n"
     ]
    }
   ],
   "source": [
    "thislist = [\"apple\", \"banana\", \"cherry\"]\n",
    "for i in range(len(thislist)):\n",
    "  print(thislist[i]) "
   ]
  },
  {
   "cell_type": "code",
   "execution_count": 104,
   "id": "505ea22d-9250-4503-9379-32cf4aec62c8",
   "metadata": {},
   "outputs": [
    {
     "name": "stdout",
     "output_type": "stream",
     "text": [
      "apple\n",
      "banana\n",
      "cherry\n"
     ]
    }
   ],
   "source": [
    "thislist = [\"apple\", \"banana\", \"cherry\"]\n",
    "i = 0\n",
    "while i < len(thislist):\n",
    "  print(thislist[i])\n",
    "  i += 1"
   ]
  },
  {
   "cell_type": "code",
   "execution_count": 105,
   "id": "855d646c-57e9-4ee2-91f1-11e2975ba0bb",
   "metadata": {},
   "outputs": [
    {
     "name": "stdout",
     "output_type": "stream",
     "text": [
      "0\n",
      "1\n",
      "2\n"
     ]
    }
   ],
   "source": [
    "for i in range(3):\n",
    "    print(i)\n",
    "    i +=i"
   ]
  },
  {
   "cell_type": "code",
   "execution_count": 106,
   "id": "6214b625-8842-4394-9640-e692bce9b3f5",
   "metadata": {},
   "outputs": [
    {
     "name": "stdout",
     "output_type": "stream",
     "text": [
      "apple\n",
      "banana\n",
      "cherry\n"
     ]
    },
    {
     "data": {
      "text/plain": [
       "[None, None, None]"
      ]
     },
     "execution_count": 106,
     "metadata": {},
     "output_type": "execute_result"
    }
   ],
   "source": [
    "del thislist\n",
    "thislist = [\"apple\", \"banana\", \"cherry\"]\n",
    "[print(x) for x in thislist] "
   ]
  },
  {
   "cell_type": "code",
   "execution_count": 107,
   "id": "f3727b6d-fc3f-4792-9f40-ccb80289093e",
   "metadata": {},
   "outputs": [
    {
     "name": "stdout",
     "output_type": "stream",
     "text": [
      "['apple', 'banana', 'cherry']\n"
     ]
    }
   ],
   "source": [
    "print(thislist)"
   ]
  },
  {
   "cell_type": "code",
   "execution_count": 108,
   "id": "d6d9ae77-6587-4a99-9e03-f5d592e6b0a1",
   "metadata": {},
   "outputs": [
    {
     "name": "stdout",
     "output_type": "stream",
     "text": [
      "apple\n",
      "banana\n",
      "cherry\n"
     ]
    },
    {
     "data": {
      "text/plain": [
       "[None, None, None]"
      ]
     },
     "execution_count": 108,
     "metadata": {},
     "output_type": "execute_result"
    }
   ],
   "source": [
    "[print(x) for x in ['apple', 'banana', 'cherry']]"
   ]
  },
  {
   "cell_type": "code",
   "execution_count": 109,
   "id": "746e046c-0e76-4045-8d30-873c9f2a228b",
   "metadata": {},
   "outputs": [
    {
     "name": "stdout",
     "output_type": "stream",
     "text": [
      "['apple', 'banana', 'mango']\n"
     ]
    }
   ],
   "source": [
    "#create a new list from existing list, the content contains \"a\"\n",
    "fruits = [\"apple\", \"banana\", \"cherry\", \"kiwi\", \"mango\"]\n",
    "newlist = []\n",
    "\n",
    "for x in fruits:\n",
    "  if \"a\" in x:\n",
    "    newlist.append(x)\n",
    "\n",
    "print(newlist) "
   ]
  },
  {
   "cell_type": "code",
   "execution_count": 110,
   "id": "94fd9c45-0f62-4841-a3a0-99e77b2b29ea",
   "metadata": {},
   "outputs": [
    {
     "name": "stdout",
     "output_type": "stream",
     "text": [
      "['apple', 'banana', 'mango']\n"
     ]
    }
   ],
   "source": [
    "fruits = [\"apple\", \"banana\", \"cherry\", \"kiwi\", \"mango\"]\n",
    "\n",
    "newlist = [x for x in fruits if \"a\" in x]\n",
    "\n",
    "print(newlist) "
   ]
  },
  {
   "cell_type": "code",
   "execution_count": 111,
   "id": "b08e9f3e-9bb0-4a7d-9a25-16961d871206",
   "metadata": {},
   "outputs": [],
   "source": [
    "newlist = [x if x != \"banana\" else \"orange\" for x in fruits] "
   ]
  },
  {
   "cell_type": "code",
   "execution_count": 112,
   "id": "290959da-c3f4-483f-9b56-ab45cc5639e3",
   "metadata": {},
   "outputs": [
    {
     "name": "stdout",
     "output_type": "stream",
     "text": [
      "['apple', 'orange', 'cherry', 'kiwi', 'mango']\n"
     ]
    }
   ],
   "source": [
    "print(newlist)"
   ]
  },
  {
   "cell_type": "code",
   "execution_count": 113,
   "id": "4c72d873-90ba-4fe3-9983-1a45c9c8ad1b",
   "metadata": {},
   "outputs": [],
   "source": [
    "fruits = ['apple', 'banana', 'cherry']\n",
    "newlist = [x for x in fruits if x == 'banana']"
   ]
  },
  {
   "cell_type": "code",
   "execution_count": 114,
   "id": "a82530bf-6c80-4c77-9316-d7131e6e8fbe",
   "metadata": {},
   "outputs": [
    {
     "name": "stdout",
     "output_type": "stream",
     "text": [
      "['banana']\n"
     ]
    }
   ],
   "source": [
    "print(newlist)"
   ]
  },
  {
   "cell_type": "code",
   "execution_count": 115,
   "id": "c05e4adf-285f-4b16-8399-bef1b5026203",
   "metadata": {},
   "outputs": [],
   "source": [
    "fruits = [\"apple\", \"banana\", \"cherry\"]\n",
    "newlist = [x for x in fruits]"
   ]
  },
  {
   "cell_type": "code",
   "execution_count": 116,
   "id": "8c0dc2b8-73cd-41d5-ad9c-d8f6f4ac8394",
   "metadata": {},
   "outputs": [
    {
     "name": "stdout",
     "output_type": "stream",
     "text": [
      "['apple', 'banana', 'cherry']\n"
     ]
    }
   ],
   "source": [
    "print(newlist)"
   ]
  },
  {
   "cell_type": "code",
   "execution_count": 117,
   "id": "b1777fe1-a848-4e6e-99b2-22ce154ac7c1",
   "metadata": {},
   "outputs": [
    {
     "name": "stdout",
     "output_type": "stream",
     "text": [
      "['apple', 'apple', 'apple']\n"
     ]
    }
   ],
   "source": [
    "fruits = ['apple', 'banana', 'cherry']\n",
    "newlist = ['apple' for x in fruits]\n",
    "print(newlist)"
   ]
  },
  {
   "cell_type": "code",
   "execution_count": 118,
   "id": "42d32557-167f-40eb-9bbb-b235dc895ea3",
   "metadata": {},
   "outputs": [
    {
     "name": "stdout",
     "output_type": "stream",
     "text": [
      "[0, 1, 2, 3, 4]\n"
     ]
    }
   ],
   "source": [
    "newlist = [x for x in range(10) if x < 5] \n",
    "print(newlist)"
   ]
  },
  {
   "cell_type": "code",
   "execution_count": 119,
   "id": "721434a2-d3a8-4d43-bb41-6bb9eeb3da6d",
   "metadata": {},
   "outputs": [
    {
     "name": "stdout",
     "output_type": "stream",
     "text": [
      "['banana', 'kiwi', 'mango', 'orange', 'pineapple']\n"
     ]
    }
   ],
   "source": [
    "thislist = [\"orange\", \"mango\", \"kiwi\", \"pineapple\", \"banana\"]\n",
    "thislist.sort()\n",
    "print(thislist)"
   ]
  },
  {
   "cell_type": "code",
   "execution_count": 120,
   "id": "7192ec81-fa74-4e7e-8dc6-8e6d5e2bbd66",
   "metadata": {},
   "outputs": [
    {
     "name": "stdout",
     "output_type": "stream",
     "text": [
      "[23, 50, 65, 82, 100]\n"
     ]
    }
   ],
   "source": [
    "thislist = [100, 50, 65, 82, 23]\n",
    "thislist.sort()\n",
    "print(thislist)"
   ]
  },
  {
   "cell_type": "code",
   "execution_count": 121,
   "id": "c1d56c7c-7eb8-4e63-8bbf-ece589f00324",
   "metadata": {},
   "outputs": [
    {
     "name": "stdout",
     "output_type": "stream",
     "text": [
      "['pineapple', 'orange', 'mango', 'kiwi', 'banana']\n"
     ]
    }
   ],
   "source": [
    "thislist = [\"orange\", \"mango\", \"kiwi\", \"pineapple\", \"banana\"]\n",
    "thislist.sort(reverse = True)\n",
    "print(thislist)"
   ]
  },
  {
   "cell_type": "code",
   "execution_count": 122,
   "id": "198a9b3e-9734-4211-82a4-8f7475d3749e",
   "metadata": {},
   "outputs": [
    {
     "name": "stdout",
     "output_type": "stream",
     "text": [
      "['apple', 'banana', 'cherry']\n"
     ]
    }
   ],
   "source": [
    "thislist = [\"apple\", \"banana\", \"cherry\"]\n",
    "mylist = thislist.copy()\n",
    "print(mylist)"
   ]
  },
  {
   "cell_type": "code",
   "execution_count": 123,
   "id": "4ffde0bc-6329-41b0-b753-24e56a59510f",
   "metadata": {},
   "outputs": [
    {
     "name": "stdout",
     "output_type": "stream",
     "text": [
      "['apple', 'banana', 'cherry']\n"
     ]
    }
   ],
   "source": [
    "mylist = list(thislist)\n",
    "print(mylist)"
   ]
  },
  {
   "cell_type": "code",
   "execution_count": 124,
   "id": "517da3dd-9d95-4bad-a8d8-5ac6da60907d",
   "metadata": {},
   "outputs": [
    {
     "name": "stdout",
     "output_type": "stream",
     "text": [
      "['apple', 'banana', 'cherry']\n"
     ]
    }
   ],
   "source": [
    "mylist = thislist[:]\n",
    "print(mylist)"
   ]
  },
  {
   "cell_type": "code",
   "execution_count": 125,
   "id": "a98a5e5a-c90d-4f26-a445-f8a78799e184",
   "metadata": {},
   "outputs": [
    {
     "name": "stdout",
     "output_type": "stream",
     "text": [
      "['a', 'b', 'c', 1, 2, 3]\n"
     ]
    }
   ],
   "source": [
    "list1 = [\"a\", \"b\", \"c\"]\n",
    "list2 = [1, 2, 3]\n",
    "\n",
    "list3 = list1 + list2\n",
    "print(list3) "
   ]
  },
  {
   "cell_type": "code",
   "execution_count": 126,
   "id": "c6c98387-1598-4364-b576-763bd8bc3abc",
   "metadata": {},
   "outputs": [
    {
     "name": "stdout",
     "output_type": "stream",
     "text": [
      "['a', 'b', 'c', 1, 2, 3]\n"
     ]
    }
   ],
   "source": [
    "list1 = [\"a\", \"b\" , \"c\"]\n",
    "list2 = [1, 2, 3]\n",
    "\n",
    "for x in list2:\n",
    "  list1.append(x)\n",
    "\n",
    "print(list1) "
   ]
  },
  {
   "cell_type": "code",
   "execution_count": 127,
   "id": "55ce31dd-551c-419b-a53d-2d20aa3b15cb",
   "metadata": {},
   "outputs": [
    {
     "name": "stdout",
     "output_type": "stream",
     "text": [
      "['a', 'b', 'c', 1, 2, 3]\n"
     ]
    }
   ],
   "source": [
    "list1 = [\"a\", \"b\" , \"c\"]\n",
    "list2 = [1, 2, 3]\n",
    "\n",
    "list1.extend(list2)\n",
    "print(list1) "
   ]
  },
  {
   "cell_type": "code",
   "execution_count": 128,
   "id": "109d1eb5-1bb5-4d7c-a1fc-43489653a50e",
   "metadata": {},
   "outputs": [
    {
     "name": "stdout",
     "output_type": "stream",
     "text": [
      "('apple', 'banana', 'cherry')\n"
     ]
    }
   ],
   "source": [
    "# Create a Tuple\n",
    "# Tuples are used to store multiple items in a single variable.\n",
    "# Tuple is one of 4 built-in data types in Python used to store collections of data, the other 3 are List, Set, and Dictionary, all with different qualities and usage.\n",
    "# A tuple is a collection which is ordered and ** unchangeable **.\n",
    "# Tuples are written with round brackets.\n",
    "\n",
    "thistuple = (\"apple\", \"banana\", \"cherry\")\n",
    "print(thistuple)"
   ]
  },
  {
   "cell_type": "code",
   "execution_count": 129,
   "id": "e5b7f57e-d79d-4c28-a614-06860f4058d0",
   "metadata": {},
   "outputs": [
    {
     "name": "stdout",
     "output_type": "stream",
     "text": [
      "apple\n",
      "banana\n",
      "cherry\n"
     ]
    }
   ],
   "source": [
    "for x in thistuple:\n",
    "    print(x)"
   ]
  },
  {
   "cell_type": "code",
   "execution_count": 130,
   "id": "0ea4dcd4-3282-411a-b128-c3c2e47bb619",
   "metadata": {},
   "outputs": [
    {
     "name": "stdout",
     "output_type": "stream",
     "text": [
      "3\n"
     ]
    }
   ],
   "source": [
    "print(len(thistuple))"
   ]
  },
  {
   "cell_type": "code",
   "execution_count": 131,
   "id": "5340dd34-2859-454d-924e-dc2e96ffd668",
   "metadata": {},
   "outputs": [
    {
     "name": "stdout",
     "output_type": "stream",
     "text": [
      "<class 'tuple'>\n",
      "<class 'tuple'>\n",
      "<class 'tuple'>\n",
      "('apple', 'banana', 'cherry', 1, 5, 7, 9, 3, True, False, False)\n"
     ]
    }
   ],
   "source": [
    "tuple1 = (\"apple\", \"banana\", \"cherry\")\n",
    "tuple2 = (1, 5, 7, 9, 3)\n",
    "tuple3 = (True, False, False)\n",
    "print(type(tuple1))\n",
    "print(type(tuple2))\n",
    "print(type(tuple3))\n",
    "\n",
    "tuple4 = tuple1+tuple2+tuple3\n",
    "print(tuple4)"
   ]
  },
  {
   "cell_type": "code",
   "execution_count": 132,
   "id": "7f131206-e78e-465a-9522-e7f4d6f16625",
   "metadata": {},
   "outputs": [],
   "source": [
    "#A tuple with strings, integers and boolean values:\n",
    "tuple1 = (\"abc\", 34, True, 40, \"male\")"
   ]
  },
  {
   "cell_type": "code",
   "execution_count": 133,
   "id": "33d111f0-62b5-40a2-a6d5-6d2444cf8ede",
   "metadata": {},
   "outputs": [
    {
     "name": "stdout",
     "output_type": "stream",
     "text": [
      "<class 'str'>\n",
      "<class 'int'>\n",
      "<class 'bool'>\n",
      "<class 'int'>\n",
      "<class 'str'>\n"
     ]
    }
   ],
   "source": [
    "for x in tuple1:\n",
    "    print(type(x))"
   ]
  },
  {
   "cell_type": "code",
   "execution_count": 134,
   "id": "cdeeee63-8555-416e-994b-28337ad3a9cd",
   "metadata": {},
   "outputs": [
    {
     "name": "stdout",
     "output_type": "stream",
     "text": [
      "cherry\n"
     ]
    }
   ],
   "source": [
    "thistuple = (\"apple\", \"banana\", \"cherry\")\n",
    "print(thistuple[-1])"
   ]
  },
  {
   "cell_type": "code",
   "execution_count": 135,
   "id": "1081ca5a-b466-4a19-b169-aba06de27b67",
   "metadata": {},
   "outputs": [
    {
     "name": "stdout",
     "output_type": "stream",
     "text": [
      "('cherry', 'orange', 'kiwi')\n"
     ]
    }
   ],
   "source": [
    "thistuple = (\"apple\", \"banana\", \"cherry\", \"orange\", \"kiwi\", \"melon\", \"mango\")\n",
    "print(thistuple[2:5])"
   ]
  },
  {
   "cell_type": "code",
   "execution_count": 136,
   "id": "ba636070-9dc5-4c30-8950-5409b7e52943",
   "metadata": {},
   "outputs": [
    {
     "name": "stdout",
     "output_type": "stream",
     "text": [
      "('apple', 'banana', 'cherry', 'orange')\n"
     ]
    }
   ],
   "source": [
    "thistuple = (\"apple\", \"banana\", \"cherry\", \"orange\", \"kiwi\", \"melon\", \"mango\")\n",
    "print(thistuple[:4])"
   ]
  },
  {
   "cell_type": "code",
   "execution_count": 137,
   "id": "97cbc297-e2a1-4152-9c67-4f5a1b49e148",
   "metadata": {},
   "outputs": [
    {
     "name": "stdout",
     "output_type": "stream",
     "text": [
      "('cherry', 'orange', 'kiwi', 'melon', 'mango')\n"
     ]
    }
   ],
   "source": [
    "thistuple = (\"apple\", \"banana\", \"cherry\", \"orange\", \"kiwi\", \"melon\", \"mango\")\n",
    "print(thistuple[2:])"
   ]
  },
  {
   "cell_type": "code",
   "execution_count": 138,
   "id": "a0d840ef-8c23-4f76-91d1-46d873744ab9",
   "metadata": {},
   "outputs": [
    {
     "name": "stdout",
     "output_type": "stream",
     "text": [
      "('orange', 'kiwi', 'melon')\n"
     ]
    }
   ],
   "source": [
    "thistuple = (\"apple\", \"banana\", \"cherry\", \"orange\", \"kiwi\", \"melon\", \"mango\")\n",
    "print(thistuple[-4:-1])"
   ]
  },
  {
   "cell_type": "code",
   "execution_count": 139,
   "id": "f7858dab-690f-4b43-aed1-04742ee5afd0",
   "metadata": {},
   "outputs": [
    {
     "name": "stdout",
     "output_type": "stream",
     "text": [
      "Yes, 'apple' is in the fruits tuple\n"
     ]
    }
   ],
   "source": [
    "thistuple = (\"apple\", \"banana\", \"cherry\")\n",
    "if \"apple\" in thistuple:\n",
    "  print(\"Yes, 'apple' is in the fruits tuple\") "
   ]
  },
  {
   "cell_type": "code",
   "execution_count": 140,
   "id": "a8c9ba57-6212-4190-b1f8-48ae6178cf22",
   "metadata": {},
   "outputs": [
    {
     "name": "stdout",
     "output_type": "stream",
     "text": [
      "('apple', 'kiwi', 'cherry')\n"
     ]
    }
   ],
   "source": [
    "x = (\"apple\", \"banana\", \"cherry\")\n",
    "y = list(x)\n",
    "y[1] = \"kiwi\"\n",
    "x = tuple(y)\n",
    "\n",
    "print(x) "
   ]
  },
  {
   "cell_type": "code",
   "execution_count": 141,
   "id": "478d18d5-62c5-400b-8629-9c081eec80cb",
   "metadata": {},
   "outputs": [
    {
     "name": "stdout",
     "output_type": "stream",
     "text": [
      "('apple', 'banana', 'cherry', 'orange')\n"
     ]
    }
   ],
   "source": [
    "#Convert the tuple into a list, add \"orange\", and convert it back into a tuple:\n",
    "thistuple = (\"apple\", \"banana\", \"cherry\")\n",
    "y = list(thistuple)\n",
    "y.append(\"orange\")\n",
    "thistuple = tuple(y)\n",
    "\n",
    "print(thistuple)"
   ]
  },
  {
   "cell_type": "code",
   "execution_count": 142,
   "id": "68e799c1-69da-4cd0-b7ba-11567e5f38b4",
   "metadata": {},
   "outputs": [
    {
     "name": "stdout",
     "output_type": "stream",
     "text": [
      "('apple', 'banana', 'cherry', 'orange')\n",
      "1\n"
     ]
    }
   ],
   "source": [
    "#Create a new tuple with the value \"orange\", and add that tuple:\n",
    "#tuple could be added item in there but cannot be changed\n",
    "thistuple = (\"apple\", \"banana\", \"cherry\")\n",
    "y = (\"orange\",)\n",
    "thistuple += y\n",
    "\n",
    "print(thistuple)\n",
    "print(len(y))"
   ]
  },
  {
   "cell_type": "code",
   "execution_count": 143,
   "id": "3369266a-4cd7-4894-a5e1-b9729930b54f",
   "metadata": {},
   "outputs": [
    {
     "name": "stdout",
     "output_type": "stream",
     "text": [
      "['a', 1, True]\n"
     ]
    }
   ],
   "source": [
    "list1 = [\"a\",1,True]\n",
    "print(list1)"
   ]
  },
  {
   "cell_type": "code",
   "execution_count": 144,
   "id": "23600baa-7037-47a2-8593-7e13bef7891d",
   "metadata": {},
   "outputs": [
    {
     "name": "stdout",
     "output_type": "stream",
     "text": [
      "('banana', 'cherry')\n"
     ]
    }
   ],
   "source": [
    "thistuple = (\"apple\", \"banana\", \"cherry\")\n",
    "y = list(thistuple)\n",
    "y.remove(\"apple\")\n",
    "thistuple = tuple(y)\n",
    "\n",
    "print(thistuple)"
   ]
  },
  {
   "cell_type": "code",
   "execution_count": 145,
   "id": "fee6a12d-218d-4f14-acc3-c4f65a722e71",
   "metadata": {},
   "outputs": [
    {
     "name": "stdout",
     "output_type": "stream",
     "text": [
      "apple\n",
      "banana\n",
      "cherry\n"
     ]
    }
   ],
   "source": [
    "fruits = (\"apple\", \"banana\", \"cherry\")\n",
    "\n",
    "(green, yellow, red) = fruits\n",
    "\n",
    "print(green)\n",
    "print(yellow)\n",
    "print(red)"
   ]
  },
  {
   "cell_type": "code",
   "execution_count": 146,
   "id": "bad5dfc1-73a9-457a-a3a6-d32d809c2ae8",
   "metadata": {},
   "outputs": [
    {
     "name": "stdout",
     "output_type": "stream",
     "text": [
      "apple\n",
      "banana\n",
      "['cherry', 'strawberry', 'raspberry']\n",
      "<class 'list'>\n"
     ]
    }
   ],
   "source": [
    "#unpack a tuple into a list or variable\n",
    "fruits = (\"apple\", \"banana\", \"cherry\", \"strawberry\", \"raspberry\")\n",
    "\n",
    "(green, yellow, *red) = fruits\n",
    "\n",
    "print(green)\n",
    "print(yellow)\n",
    "print(red)\n",
    "print(type(red))"
   ]
  },
  {
   "cell_type": "code",
   "execution_count": 147,
   "id": "e14ad085-80b8-435d-a13e-93b2b61279d8",
   "metadata": {},
   "outputs": [
    {
     "name": "stdout",
     "output_type": "stream",
     "text": [
      "apple\n",
      "['mango', 'papaya', 'pineapple']\n",
      "cherry\n"
     ]
    }
   ],
   "source": [
    "fruits = (\"apple\", \"mango\", \"papaya\", \"pineapple\", \"cherry\")\n",
    "\n",
    "(green, *tropic, red) = fruits\n",
    "\n",
    "print(green)\n",
    "print(tropic)\n",
    "print(red)"
   ]
  },
  {
   "cell_type": "code",
   "execution_count": 148,
   "id": "5a5a28e7-45d9-4bf3-b1aa-71ea154a1743",
   "metadata": {},
   "outputs": [
    {
     "name": "stdout",
     "output_type": "stream",
     "text": [
      "apple\n",
      "banana\n",
      "cherry\n"
     ]
    }
   ],
   "source": [
    "thistuple = (\"apple\", \"banana\", \"cherry\")\n",
    "for i in range(len(thistuple)):\n",
    "  print(thistuple[i]) "
   ]
  },
  {
   "cell_type": "code",
   "execution_count": 149,
   "id": "9fe584d7-1a39-4f50-a370-310b7582425a",
   "metadata": {},
   "outputs": [
    {
     "name": "stdout",
     "output_type": "stream",
     "text": [
      "apple\n",
      "banana\n",
      "cherry\n"
     ]
    }
   ],
   "source": [
    "thistuple = (\"apple\", \"banana\", \"cherry\")\n",
    "i = 0\n",
    "while i < len(thistuple):\n",
    "  print(thistuple[i])\n",
    "  i += 1 "
   ]
  },
  {
   "cell_type": "code",
   "execution_count": 150,
   "id": "8abcfe2e-39ad-4c1b-bcf5-acbe7a03de3c",
   "metadata": {},
   "outputs": [
    {
     "name": "stdout",
     "output_type": "stream",
     "text": [
      "('apple', 'banana', 'cherry', 'apple', 'banana', 'cherry')\n"
     ]
    }
   ],
   "source": [
    "fruits = (\"apple\", \"banana\", \"cherry\")\n",
    "mytuple = fruits * 2\n",
    "\n",
    "print(mytuple) "
   ]
  },
  {
   "cell_type": "code",
   "execution_count": 151,
   "id": "0fc1c984-6e48-4449-8587-5da472887085",
   "metadata": {},
   "outputs": [
    {
     "name": "stdout",
     "output_type": "stream",
     "text": [
      "2\n",
      "1\n",
      "2\n"
     ]
    }
   ],
   "source": [
    "print(mytuple.count('apple'))\n",
    "print(fruits.count('cherry'))\n",
    "print(mytuple.count('apple'))"
   ]
  },
  {
   "cell_type": "code",
   "execution_count": 152,
   "id": "ccaa7388-420e-42af-ae7c-4e55864942f8",
   "metadata": {},
   "outputs": [
    {
     "name": "stdout",
     "output_type": "stream",
     "text": [
      "2\n"
     ]
    }
   ],
   "source": [
    "thistuple = (1, 3, 7, 8, 7, 5, 4, 6, 8, 5)\n",
    "\n",
    "x = thistuple.count(5)\n",
    "\n",
    "print(x) "
   ]
  },
  {
   "cell_type": "code",
   "execution_count": 153,
   "id": "f1577b83-b802-4e2b-b5f7-48c3b22bcf06",
   "metadata": {},
   "outputs": [
    {
     "name": "stdout",
     "output_type": "stream",
     "text": [
      "1\n",
      "2\n"
     ]
    }
   ],
   "source": [
    "print(mytuple.index('banana'))\n",
    "print(mytuple.index('cherry'))"
   ]
  },
  {
   "cell_type": "code",
   "execution_count": 154,
   "id": "1bc9da6e-72e5-4d3e-8edf-2abf65cb0d9f",
   "metadata": {},
   "outputs": [
    {
     "name": "stdout",
     "output_type": "stream",
     "text": [
      "{'cherry', 'apple', 'banana'}\n"
     ]
    }
   ],
   "source": [
    "## Set\n",
    "thisset = {\"apple\", \"cherry\", \"banana\"}\n",
    "print(thisset) "
   ]
  },
  {
   "cell_type": "code",
   "execution_count": 155,
   "id": "5a51204a-25d9-453a-af76-9e4f7c3c941d",
   "metadata": {},
   "outputs": [
    {
     "name": "stdout",
     "output_type": "stream",
     "text": [
      "{True, 2, 'cherry', 'apple', 'banana'}\n",
      "{False, True, 'cherry', 'apple', 'banana'}\n",
      "5\n"
     ]
    }
   ],
   "source": [
    "# False and 0 is considered the same value, and True and 1 also the same value:\n",
    "thisset = {\"apple\", \"banana\", \"cherry\", True, 1, 2}\n",
    "print(thisset)\n",
    "\n",
    "thisset = {\"apple\", \"banana\", \"cherry\", False, True, 0}\n",
    "print(thisset)\n",
    "\n",
    "print(len(thisset))"
   ]
  },
  {
   "cell_type": "code",
   "execution_count": 156,
   "id": "ddbb50a6-d558-4908-98e2-2638fcdb2bc8",
   "metadata": {},
   "outputs": [
    {
     "name": "stdout",
     "output_type": "stream",
     "text": [
      "{'b', 1, 'a', 5}\n",
      "<class 'set'>\n",
      "{'cherry', 'apple', 'banana'}\n"
     ]
    }
   ],
   "source": [
    "set2 = {\"a\",\"b\",1,5}\n",
    "print(set2)\n",
    "print(type(set2))\n",
    "\n",
    "thisset = set((\"apple\", \"banana\", \"cherry\")) # note the double round-brackets\n",
    "print(thisset) "
   ]
  },
  {
   "cell_type": "code",
   "execution_count": 157,
   "id": "6ae4432d-5c8e-4a5f-aef2-2ad7581ead07",
   "metadata": {},
   "outputs": [
    {
     "name": "stdout",
     "output_type": "stream",
     "text": [
      "cherry\n",
      "apple\n",
      "banana\n"
     ]
    }
   ],
   "source": [
    "thisset = {\"apple\", \"banana\", \"cherry\"}\n",
    "\n",
    "for x in thisset:\n",
    "  print(x) "
   ]
  },
  {
   "cell_type": "code",
   "execution_count": 158,
   "id": "f60d2af9-649d-495a-a9b2-92dd82d24204",
   "metadata": {},
   "outputs": [
    {
     "name": "stdout",
     "output_type": "stream",
     "text": [
      "True\n",
      "False\n",
      "{'orange', 'cherry', 'apple', 'banana'}\n"
     ]
    }
   ],
   "source": [
    "thisset = {\"apple\", \"banana\", \"cherry\"}\n",
    "print(\"banana\" in thisset) \n",
    "print(\"banana\" not in thisset) \n",
    "thisset.add(\"orange\")\n",
    "print(thisset)"
   ]
  },
  {
   "cell_type": "code",
   "execution_count": 159,
   "id": "ebca2e01-e7f0-4e45-997a-d8ce45bfee33",
   "metadata": {},
   "outputs": [
    {
     "name": "stdout",
     "output_type": "stream",
     "text": [
      "{'orange', 'papaya', 'pineapple', 'mango', 'cherry', 'apple', 'banana'}\n"
     ]
    }
   ],
   "source": [
    "# To add items from another set into the current set, use the update() method.\n",
    "tropical = {\"pineapple\", \"mango\", \"papaya\"}\n",
    "thisset.update(tropical)\n",
    "\n",
    "print(thisset) "
   ]
  },
  {
   "cell_type": "code",
   "execution_count": 160,
   "id": "b0085fb1-763c-4aef-933d-9f3feb6dcb1f",
   "metadata": {},
   "outputs": [
    {
     "name": "stdout",
     "output_type": "stream",
     "text": [
      "{'kiwi', True, 2, 'cherry', 'orange', 'Wilson', 'apple', 'banana'}\n"
     ]
    }
   ],
   "source": [
    "# add a list into a set or set also could be added by using update()\n",
    "thisset = {\"apple\", \"banana\", \"cherry\"}\n",
    "mylist = [\"kiwi\", \"orange\"]\n",
    "set2 = {2, True, \"Wilson\"}\n",
    "\n",
    "thisset.update(mylist)\n",
    "thisset.update(set2)\n",
    "\n",
    "print(thisset) "
   ]
  },
  {
   "cell_type": "code",
   "execution_count": 161,
   "id": "293edb30-1733-410c-a1cb-a32d5d4c39ea",
   "metadata": {},
   "outputs": [
    {
     "name": "stdout",
     "output_type": "stream",
     "text": [
      "{'cherry', 'apple'}\n"
     ]
    }
   ],
   "source": [
    "# Remove \"banana\" by using the remove() method:\n",
    "thisset = {\"apple\", \"banana\", \"cherry\"}\n",
    "thisset.remove(\"banana\")\n",
    "\n",
    "print(thisset) "
   ]
  },
  {
   "cell_type": "code",
   "execution_count": 162,
   "id": "3b7c1136-b3e6-4af8-93dc-4c52c8e28acb",
   "metadata": {},
   "outputs": [
    {
     "name": "stdout",
     "output_type": "stream",
     "text": [
      "{'cherry', 'apple'}\n"
     ]
    }
   ],
   "source": [
    "thisset = {\"apple\", \"banana\", \"cherry\"}\n",
    "thisset.discard(\"banana\")\n",
    "print(thisset) "
   ]
  },
  {
   "cell_type": "code",
   "execution_count": 163,
   "id": "5873242c-c09d-4298-9113-6e356f171aa2",
   "metadata": {},
   "outputs": [
    {
     "name": "stdout",
     "output_type": "stream",
     "text": [
      "{'cherry', 'apple'}\n"
     ]
    }
   ],
   "source": [
    "thisset = {\"apple\", \"banana\", \"cherry\"}\n",
    "thisset.discard(\"banana\")\n",
    "\n",
    "print(thisset) "
   ]
  },
  {
   "cell_type": "code",
   "execution_count": 164,
   "id": "59c83321-1c61-4419-8bbc-23fa2e18117b",
   "metadata": {},
   "outputs": [
    {
     "name": "stdout",
     "output_type": "stream",
     "text": [
      "cherry\n",
      "{'apple', 'banana'}\n"
     ]
    }
   ],
   "source": [
    "#Remove a random item by using the pop() method:\n",
    "thisset = {\"apple\", \"banana\", \"cherry\"}\n",
    "x = thisset.pop()\n",
    "\n",
    "print(x)\n",
    "print(thisset) "
   ]
  },
  {
   "cell_type": "code",
   "execution_count": 165,
   "id": "1c76bc0d-bdd2-47f2-b0a5-64c75b35b8df",
   "metadata": {},
   "outputs": [
    {
     "name": "stdout",
     "output_type": "stream",
     "text": [
      "set()\n"
     ]
    }
   ],
   "source": [
    "# The clear() method empties the set:\n",
    "thisset = {\"apple\", \"banana\", \"cherry\"}\n",
    "thisset.clear()\n",
    "\n",
    "print(thisset) "
   ]
  },
  {
   "cell_type": "code",
   "execution_count": 166,
   "id": "d22e704c-f1e6-4c85-8ffc-58fb87db1943",
   "metadata": {},
   "outputs": [],
   "source": [
    "thisset = {\"apple\", \"banana\", \"cherry\"}\n",
    "del thisset\n",
    "\n",
    "#print(thisset) \n",
    "#\n",
    "# It would cause error as :\n",
    "#NameError                                 Traceback (most recent call last)\n",
    "#Cell In[92], line 5\n",
    "#      1 thisset = {\"apple\", \"banana\", \"cherry\"}\n",
    "#      3 del thisset\n",
    "#----> 5 print(thisset) \n",
    "\n",
    "#NameError: name 'thisset' is not defined"
   ]
  },
  {
   "cell_type": "code",
   "execution_count": 167,
   "id": "0c78e5d4-8d0a-4fc0-a3fc-2093740d9684",
   "metadata": {},
   "outputs": [
    {
     "name": "stdout",
     "output_type": "stream",
     "text": [
      "{1, 'a', 2, 3, 'b', 'c'}\n"
     ]
    }
   ],
   "source": [
    "#Join Sets\n",
    "#There are several ways to join two or more sets in Python.\n",
    "#The union() and update() methods joins all items from both sets.\n",
    "#The intersection() method keeps ONLY the duplicates.\n",
    "#The difference() method keeps the items from the first set that are not in the other set(s).\n",
    "#The symmetric_difference() method keeps all items EXCEPT the duplicates.\n",
    "\n",
    "#Join set1 and set2 into a new set:\n",
    "set1 = {\"a\", \"b\", \"c\"}\n",
    "set2 = {1, 2, 3}\n",
    "\n",
    "set3 = set1.union(set2)\n",
    "print(set3) "
   ]
  },
  {
   "cell_type": "code",
   "execution_count": 168,
   "id": "022a9393-c7a6-4480-85a5-3bdf61026b2d",
   "metadata": {},
   "outputs": [
    {
     "name": "stdout",
     "output_type": "stream",
     "text": [
      "{1, 'a', 2, 3, 'b', 'c'}\n"
     ]
    }
   ],
   "source": [
    "# Use | to join two sets:\n",
    "set1 = {\"a\", \"b\", \"c\"}\n",
    "set2 = {1, 2, 3}\n",
    "\n",
    "set3 = set1 | set2\n",
    "print(set3) "
   ]
  },
  {
   "cell_type": "code",
   "execution_count": 169,
   "id": "fb6b599b-9fc2-4d5b-9ade-89d39779b49a",
   "metadata": {},
   "outputs": [
    {
     "name": "stdout",
     "output_type": "stream",
     "text": [
      "{1, 'a', 2, 3, 'apple', 'Elena', 'cherry', 'c', 'bananas', 'b', 'John'}\n"
     ]
    }
   ],
   "source": [
    "# Join multiple sets with the union() method:\n",
    "set1 = {\"a\", \"b\", \"c\"}\n",
    "set2 = {1, 2, 3}\n",
    "set3 = {\"John\", \"Elena\"}\n",
    "set4 = {\"apple\", \"bananas\", \"cherry\"}\n",
    "\n",
    "myset = set1.union(set2, set3, set4)\n",
    "print(myset) "
   ]
  },
  {
   "cell_type": "code",
   "execution_count": 170,
   "id": "546eb466-b3ad-4b56-8f40-3ecd7d1cc44c",
   "metadata": {},
   "outputs": [
    {
     "name": "stdout",
     "output_type": "stream",
     "text": [
      "{1, 'a', 2, 3, 'b', 'c'}\n"
     ]
    }
   ],
   "source": [
    "set1 = {\"a\", \"b\" , \"c\"}\n",
    "set2 = {1, 2, 3}\n",
    "\n",
    "set1.update(set2)\n",
    "print(set1) "
   ]
  },
  {
   "cell_type": "code",
   "execution_count": 171,
   "id": "9a119ad6-2c1d-49ce-a1c5-cae611e05af2",
   "metadata": {},
   "outputs": [
    {
     "name": "stdout",
     "output_type": "stream",
     "text": [
      "{'apple'}\n"
     ]
    }
   ],
   "source": [
    "set1 = {\"apple\", \"banana\", \"cherry\"}\n",
    "set2 = {\"google\", \"microsoft\", \"apple\"}\n",
    "\n",
    "set3 = set1.intersection(set2)\n",
    "print(set3) "
   ]
  },
  {
   "cell_type": "code",
   "execution_count": 172,
   "id": "43c09098-fcb3-4fe9-97c5-cf86e1499c77",
   "metadata": {},
   "outputs": [
    {
     "name": "stdout",
     "output_type": "stream",
     "text": [
      "{'apple'}\n",
      "{'microsoft', 'google', 'cherry', 'apple', 'banana'}\n"
     ]
    }
   ],
   "source": [
    "set1 = {\"apple\", \"banana\", \"cherry\"}\n",
    "set2 = {\"google\", \"microsoft\", \"apple\"}\n",
    "\n",
    "set3 = set1 & set2\n",
    "set4 = set1 | set2\n",
    "print(set3) \n",
    "print(set4)"
   ]
  },
  {
   "cell_type": "code",
   "execution_count": 173,
   "id": "4ce23ef2-2dbf-47e0-8f67-5aea8ca90636",
   "metadata": {},
   "outputs": [
    {
     "name": "stdout",
     "output_type": "stream",
     "text": [
      "{'apple'}\n"
     ]
    }
   ],
   "source": [
    "set1 = {\"apple\", \"banana\", \"cherry\"}\n",
    "set2 = {\"google\", \"microsoft\", \"apple\"}\n",
    "\n",
    "set1.intersection_update(set2)\n",
    "\n",
    "print(set1) "
   ]
  },
  {
   "cell_type": "code",
   "execution_count": 174,
   "id": "53b902ff-d626-44f1-825b-609db4191a47",
   "metadata": {},
   "outputs": [
    {
     "name": "stdout",
     "output_type": "stream",
     "text": [
      "{False, 1, 'apple'}\n"
     ]
    }
   ],
   "source": [
    "set1 = {\"apple\", 1,  \"banana\", 0, \"cherry\"}\n",
    "set2 = {False, \"google\", 1, \"apple\", 2, True}\n",
    "\n",
    "set3 = set1.intersection(set2)\n",
    "\n",
    "print(set3)"
   ]
  },
  {
   "cell_type": "code",
   "execution_count": 175,
   "id": "e561d5f2-75cd-4906-bcb7-6f1df5b8941c",
   "metadata": {},
   "outputs": [
    {
     "name": "stdout",
     "output_type": "stream",
     "text": [
      "{'cherry', 'banana'}\n"
     ]
    }
   ],
   "source": [
    "set1 = {\"apple\", \"banana\", \"cherry\"}\n",
    "set2 = {\"google\", \"microsoft\", \"apple\"}\n",
    "\n",
    "set3 = set1.difference(set2)\n",
    "\n",
    "print(set3) "
   ]
  },
  {
   "cell_type": "code",
   "execution_count": 176,
   "id": "5c27e12c-61e1-4364-9192-9140b556c181",
   "metadata": {},
   "outputs": [
    {
     "name": "stdout",
     "output_type": "stream",
     "text": [
      "{'cherry', 'banana'}\n"
     ]
    }
   ],
   "source": [
    "set1 = {\"apple\", \"banana\", \"cherry\"}\n",
    "set2 = {\"google\", \"microsoft\", \"apple\"}\n",
    "\n",
    "set3 = set1 - set2\n",
    "print(set3) "
   ]
  },
  {
   "cell_type": "code",
   "execution_count": 177,
   "id": "abe747a8-eb34-4a8e-b3f7-108a593f1e6d",
   "metadata": {},
   "outputs": [
    {
     "name": "stdout",
     "output_type": "stream",
     "text": [
      "{'cherry', 'banana'}\n"
     ]
    }
   ],
   "source": [
    "set1 = {\"apple\", \"banana\", \"cherry\"}\n",
    "set2 = {\"google\", \"microsoft\", \"apple\"}\n",
    "\n",
    "set1.difference_update(set2)\n",
    "\n",
    "print(set1) "
   ]
  },
  {
   "cell_type": "code",
   "execution_count": 178,
   "id": "39ce7f90-65b9-43b5-bd63-0fa4e94f599d",
   "metadata": {},
   "outputs": [
    {
     "name": "stdout",
     "output_type": "stream",
     "text": [
      "{'cherry', 'microsoft', 'google', 'banana'}\n",
      "{'cherry', 'google', 'banana', 'microsoft'}\n"
     ]
    }
   ],
   "source": [
    "set1 = {\"apple\", \"banana\", \"cherry\"}\n",
    "set2 = {\"google\", \"microsoft\", \"apple\"}\n",
    "\n",
    "set3 = set1.symmetric_difference(set2)\n",
    "\n",
    "print(set3) \n",
    "print((set1 | set2) - (set1 & set2))"
   ]
  },
  {
   "cell_type": "code",
   "execution_count": 179,
   "id": "872305c5-89a2-4869-b1c5-59c8cf183bc2",
   "metadata": {},
   "outputs": [
    {
     "name": "stdout",
     "output_type": "stream",
     "text": [
      "{'cherry', 'microsoft', 'google', 'banana'}\n"
     ]
    }
   ],
   "source": [
    "set1 = {\"apple\", \"banana\", \"cherry\"}\n",
    "set2 = {\"google\", \"microsoft\", \"apple\"}\n",
    "\n",
    "set3 = set1 ^ set2\n",
    "print(set3)"
   ]
  },
  {
   "cell_type": "code",
   "execution_count": 180,
   "id": "cc977578-a1be-4b89-b2a7-a73a59f62fa9",
   "metadata": {},
   "outputs": [
    {
     "name": "stdout",
     "output_type": "stream",
     "text": [
      "{'google', 'cherry', 'microsoft', 'banana'}\n"
     ]
    }
   ],
   "source": [
    "set1 = {\"apple\", \"banana\", \"cherry\"}\n",
    "set2 = {\"google\", \"microsoft\", \"apple\"}\n",
    "\n",
    "set1.symmetric_difference_update(set2)\n",
    "\n",
    "print(set1) "
   ]
  },
  {
   "cell_type": "code",
   "execution_count": 181,
   "id": "e4a36ba1-f607-4fca-b013-fcde47a66686",
   "metadata": {},
   "outputs": [
    {
     "name": "stdout",
     "output_type": "stream",
     "text": [
      "{'banana'}\n"
     ]
    }
   ],
   "source": [
    "a = {\"apple\", \"banana\", \"cherry\"}\n",
    "b = {\"google\", \"microsoft\", \"apple\"}\n",
    "c = {\"cherry\", \"micra\", \"bluebird\"}\n",
    "\n",
    "a.difference_update(b, c)\n",
    "\n",
    "print(a) "
   ]
  },
  {
   "cell_type": "code",
   "execution_count": 182,
   "id": "2240e243-f34f-4d11-8b27-9e0d13befeb5",
   "metadata": {},
   "outputs": [
    {
     "name": "stdout",
     "output_type": "stream",
     "text": [
      "{'banana'}\n"
     ]
    }
   ],
   "source": [
    "a = {\"apple\", \"banana\", \"cherry\"}\n",
    "b = {\"google\", \"microsoft\", \"apple\"}\n",
    "c = {\"cherry\", \"micra\", \"bluebird\"}\n",
    "\n",
    "a -= b | c\n",
    "\n",
    "print(a)"
   ]
  },
  {
   "cell_type": "code",
   "execution_count": 183,
   "id": "a17b3fd5-1b3f-4322-9472-f24c424b44e9",
   "metadata": {},
   "outputs": [
    {
     "name": "stdout",
     "output_type": "stream",
     "text": [
      "False\n"
     ]
    }
   ],
   "source": [
    "x = {\"a\", \"b\", \"s\"}\n",
    "y = {\"f\", \"e\", \"d\", \"c\", \"b\", \"a\"}\n",
    "\n",
    "z = x.issubset(y)\n",
    "\n",
    "print(z) "
   ]
  },
  {
   "cell_type": "code",
   "execution_count": 184,
   "id": "347fb796-6199-4b0f-908e-6270a4d7a773",
   "metadata": {},
   "outputs": [
    {
     "name": "stdout",
     "output_type": "stream",
     "text": [
      "{'brand': 'Ford', 'model': 'Mustang', 'year': 1964}\n"
     ]
    }
   ],
   "source": [
    "thisdict =\t{\n",
    "  \"brand\": \"Ford\",\n",
    "  \"model\": \"Mustang\",\n",
    "  \"year\": 1964\n",
    "}\n",
    "print(thisdict)"
   ]
  },
  {
   "cell_type": "code",
   "execution_count": 185,
   "id": "07d7d049-0fb8-491d-9d9b-649b95312a60",
   "metadata": {},
   "outputs": [
    {
     "name": "stdout",
     "output_type": "stream",
     "text": [
      "Ford\n"
     ]
    }
   ],
   "source": [
    "thisdict =\t{\n",
    "  \"brand\": \"Ford\",\n",
    "  \"model\": \"Mustang\",\n",
    "  \"year\": 1964\n",
    "}\n",
    "print(thisdict[\"brand\"])"
   ]
  },
  {
   "cell_type": "code",
   "execution_count": 186,
   "id": "6f8251f5-2456-4ab6-b04d-1fa016b44cd2",
   "metadata": {},
   "outputs": [
    {
     "name": "stdout",
     "output_type": "stream",
     "text": [
      "{'brand': 'Ford', 'model': 'Mustang', 'year': 2020}\n"
     ]
    }
   ],
   "source": [
    "thisdict =\t{\n",
    "  \"brand\": \"Ford\",\n",
    "  \"model\": \"Mustang\",\n",
    "  \"year\": 1964,\n",
    "  \"year\": 2020\n",
    "}\n",
    "print(thisdict) "
   ]
  },
  {
   "cell_type": "code",
   "execution_count": 187,
   "id": "3cf8cb03-139e-419e-bf6f-46046244c328",
   "metadata": {},
   "outputs": [
    {
     "name": "stdout",
     "output_type": "stream",
     "text": [
      "3\n"
     ]
    }
   ],
   "source": [
    "print(len(thisdict))"
   ]
  },
  {
   "cell_type": "code",
   "execution_count": 188,
   "id": "d0d01a10-cb6a-4358-96b2-cc52053df27f",
   "metadata": {},
   "outputs": [
    {
     "name": "stdout",
     "output_type": "stream",
     "text": [
      "{'brand': 'Ford', 'electric': False, 'year': 1964, 'colors': ['red', 'white', 'blue']}\n",
      "['red', 'white', 'blue']\n"
     ]
    }
   ],
   "source": [
    "thisdict =\t{\n",
    "  \"brand\": \"Ford\",\n",
    "  \"electric\": False,\n",
    "  \"year\": 1964,\n",
    "  \"colors\": [\"red\", \"white\", \"blue\"]\n",
    "} \n",
    "print(thisdict)\n",
    "print(thisdict[\"colors\"])"
   ]
  },
  {
   "cell_type": "code",
   "execution_count": 189,
   "id": "9c63e38f-9673-4fb3-bdd9-28a76e8a94cd",
   "metadata": {},
   "outputs": [
    {
     "name": "stdout",
     "output_type": "stream",
     "text": [
      "<class 'dict'>\n"
     ]
    }
   ],
   "source": [
    "thisdict =\t{\n",
    "  \"brand\": \"Ford\",\n",
    "  \"model\": \"Mustang\",\n",
    "  \"year\": 1964\n",
    "}\n",
    "print(type(thisdict)) "
   ]
  },
  {
   "cell_type": "code",
   "execution_count": 190,
   "id": "11ddcc5d-eae5-4d10-871b-a4b2212863cb",
   "metadata": {},
   "outputs": [
    {
     "name": "stdout",
     "output_type": "stream",
     "text": [
      "[1, 2, 3, 10]\n"
     ]
    }
   ],
   "source": [
    "x = [1,2,3,4]\n",
    "y = x\n",
    "y[3] = 10\n",
    "print(x)"
   ]
  },
  {
   "cell_type": "code",
   "execution_count": 191,
   "id": "70dd647a-1d3b-4bbd-8187-8d59438ff4b5",
   "metadata": {},
   "outputs": [
    {
     "name": "stdout",
     "output_type": "stream",
     "text": [
      "HiHiHi\n"
     ]
    }
   ],
   "source": [
    "print(3*\"Hi\")"
   ]
  },
  {
   "cell_type": "code",
   "execution_count": 192,
   "id": "2d526c78-3b87-4771-8377-662325559fad",
   "metadata": {},
   "outputs": [
    {
     "name": "stdout",
     "output_type": "stream",
     "text": [
      "9\n"
     ]
    }
   ],
   "source": [
    "print(3**2)"
   ]
  },
  {
   "cell_type": "code",
   "execution_count": 193,
   "id": "b11b1dff-6ef3-4cc7-b9c4-b1e1aab4166f",
   "metadata": {},
   "outputs": [
    {
     "name": "stdout",
     "output_type": "stream",
     "text": [
      "{'name': 'John', 'age': 36, 'country': 'Norway'}\n",
      "<class 'dict'>\n",
      "John\n",
      "dict_keys(['name', 'age', 'country'])\n",
      "dict_values(['John', 36, 'Norway'])\n",
      "{'name': 'John', 'age': 36, 'country': 'Norway', 'car': 'Toyota Yaris'}\n",
      "dict_items([('name', 'John'), ('age', 36), ('country', 'Norway'), ('car', 'Toyota Yaris')])\n",
      "Yes, car in thisdict\n",
      "{'name': 'John', 'age': 37, 'country': 'Denmark', 'car': 'Toyota Yaris', 'car color': 'Red'}\n",
      "\n",
      "\n",
      "loop items: \n",
      "\n",
      "John\n",
      "name\n",
      "37\n",
      "age\n",
      "Denmark\n",
      "country\n",
      "Toyota Yaris\n",
      "car\n",
      "Red\n",
      "car color\n",
      "John\n",
      "37\n",
      "Denmark\n",
      "Toyota Yaris\n",
      "Red\n",
      "name\n",
      "age\n",
      "country\n",
      "car\n",
      "car color\n",
      "{'name': 'John', 'age': 37, 'country': 'Denmark', 'car': 'Toyota Yaris'}\n",
      "{'name': 'John', 'age': 37, 'country': 'Denmark'}\n",
      "print(x, y) in thisdict.items()\n",
      "name John\n",
      "age 37\n",
      "country Denmark\n",
      "{'name': 'John', 'country': 'Denmark'}\n",
      "{}\n"
     ]
    }
   ],
   "source": [
    "thisdict = dict(name = \"John\", age = 36, country = \"Norway\")\n",
    "print(thisdict)\n",
    "print(type(thisdict))\n",
    "print(thisdict.get(\"name\"))\n",
    "print(thisdict.keys())\n",
    "x = thisdict.values()\n",
    "print(x)\n",
    "thisdict[\"car\"] = \"Toyota Yaris\"\n",
    "print(thisdict)\n",
    "print(thisdict.items())\n",
    "\n",
    "if \"car\" in thisdict:\n",
    "    print(\"Yes, car in thisdict\")\n",
    "\n",
    "thisdict[\"country\"] = \"Denmark\"\n",
    "# update : change and add item in dictionary\n",
    "thisdict.update({\"age\" : 37})\n",
    "thisdict.update({\"car color\" : \"Red\"})\n",
    "\n",
    "print(thisdict)\n",
    "\n",
    "\"\"\"\n",
    "thisdict loop items\n",
    "\"\"\"\n",
    "print(\"\\n\\nloop items: \\n\")\n",
    "for x in thisdict:\n",
    "    print(thisdict[x])\n",
    "    print(x)\n",
    "\n",
    "for x in thisdict.values():\n",
    "  print(x) \n",
    "for x in thisdict.keys():\n",
    "  print(x) \n",
    "    \n",
    "thisdict.pop(\"car color\")\n",
    "print(thisdict)\n",
    "\n",
    "thisdict.popitem()\n",
    "print(thisdict)\n",
    "\n",
    "print(\"print(x, y) in thisdict.items()\")\n",
    "for x, y in thisdict.items():\n",
    "  print(x, y) \n",
    "\n",
    "# The del keyword removes the item with the specified key name:\n",
    "del thisdict[\"age\"]\n",
    "print(thisdict)\n",
    "\n",
    "# The del keyword can also delete the dictionary completely:\n",
    "# It would cause error if directly print(thsidict)\n",
    "# del thisdict\n",
    "\n",
    "# The clear() method empties the dictionary:\n",
    "thisdict.clear()\n",
    "print(thisdict)"
   ]
  },
  {
   "cell_type": "code",
   "execution_count": 194,
   "id": "f1b97a60-7994-47bd-9a8f-e74c5b17d87d",
   "metadata": {},
   "outputs": [],
   "source": [
    "df = [dict(name = \"John\", age = 36, country = \"Norway\"), dict(name = \"Paul\", age = 32, country = \"Denmark\"), dict(name = \"Mary\", age = 23, country = \"United Kingdom\")]"
   ]
  },
  {
   "cell_type": "code",
   "execution_count": 195,
   "id": "58e73553-fdb1-4496-b023-541d8aa07812",
   "metadata": {},
   "outputs": [
    {
     "name": "stdout",
     "output_type": "stream",
     "text": [
      "[{'name': 'John', 'age': 36, 'country': 'Norway'}, {'name': 'Paul', 'age': 32, 'country': 'Denmark'}, {'name': 'Mary', 'age': 23, 'country': 'United Kingdom'}]\n",
      "<class 'list'>\n",
      "Mary\n"
     ]
    }
   ],
   "source": [
    "print(df)\n",
    "print(type(df))\n",
    "print(df[2][\"name\"])"
   ]
  },
  {
   "cell_type": "code",
   "execution_count": 196,
   "id": "769e1f78-0c22-45e3-8b3c-dd1bd9e79050",
   "metadata": {},
   "outputs": [
    {
     "name": "stdout",
     "output_type": "stream",
     "text": [
      "fruit\n",
      "apple\n"
     ]
    }
   ],
   "source": [
    "x = {'type' : 'fruit', 'name' : 'apple'}\n",
    "for y in x.values():\n",
    "  print(y)"
   ]
  },
  {
   "cell_type": "code",
   "execution_count": 197,
   "id": "37fceafc-999c-464c-bfd3-7a8d7eb779ab",
   "metadata": {},
   "outputs": [
    {
     "name": "stdout",
     "output_type": "stream",
     "text": [
      "type fruit\n",
      "name apple\n"
     ]
    }
   ],
   "source": [
    "for y, z in x.items():\n",
    "  print(y, z)"
   ]
  },
  {
   "cell_type": "code",
   "execution_count": 198,
   "id": "bda6d713-b877-42e7-a00c-e91d60f2d7e1",
   "metadata": {},
   "outputs": [
    {
     "name": "stdout",
     "output_type": "stream",
     "text": [
      "{'brand': 'Ford', 'model': 'Mustang', 'year': 1964}\n"
     ]
    }
   ],
   "source": [
    "thisdict =\t{\n",
    "  \"brand\": \"Ford\",\n",
    "  \"model\": \"Mustang\",\n",
    "  \"year\": 1964\n",
    "}\n",
    "mydict = thisdict.copy()\n",
    "print(mydict)"
   ]
  },
  {
   "cell_type": "code",
   "execution_count": 199,
   "id": "60e2497c-b6d6-4931-a9e4-8b542a22f987",
   "metadata": {},
   "outputs": [
    {
     "name": "stdout",
     "output_type": "stream",
     "text": [
      "{'brand': 'Ford', 'model': 'Mustang', 'year': 1964}\n"
     ]
    }
   ],
   "source": [
    "thisdict =\t{\n",
    "  \"brand\": \"Ford\",\n",
    "  \"model\": \"Mustang\",\n",
    "  \"year\": 1964\n",
    "}\n",
    "mydict = dict(thisdict)\n",
    "print(mydict) "
   ]
  },
  {
   "cell_type": "code",
   "execution_count": 200,
   "id": "dc2cd24b-fce5-4688-b5cc-ef2d3366a1cf",
   "metadata": {},
   "outputs": [
    {
     "name": "stdout",
     "output_type": "stream",
     "text": [
      "{'child1': {'name': 'Emil', 'year': 2004}, 'child2': {'name': 'Tobias', 'year': 2007}, 'child3': {'name': 'Linus', 'year': 2011}}\n"
     ]
    }
   ],
   "source": [
    "myfamily = {\n",
    "  \"child1\" : {\n",
    "    \"name\" : \"Emil\",\n",
    "    \"year\" : 2004\n",
    "  },\n",
    "  \"child2\" : {\n",
    "    \"name\" : \"Tobias\",\n",
    "    \"year\" : 2007\n",
    "  },\n",
    "  \"child3\" : {\n",
    "    \"name\" : \"Linus\",\n",
    "    \"year\" : 2011\n",
    "  }\n",
    "} \n",
    "print(myfamily)"
   ]
  },
  {
   "cell_type": "code",
   "execution_count": 201,
   "id": "779edc7d-1605-4ec5-b4ff-34b5c8fbc827",
   "metadata": {},
   "outputs": [
    {
     "name": "stdout",
     "output_type": "stream",
     "text": [
      "{'child1': {'name': 'Emil', 'year': 2004}, 'child2': {'name': 'Tobias', 'year': 2007}, 'child3': {'name': 'Linus', 'year': 2011}}\n"
     ]
    }
   ],
   "source": [
    "child1 = {\n",
    "  \"name\" : \"Emil\",\n",
    "  \"year\" : 2004\n",
    "}\n",
    "child2 = {\n",
    "  \"name\" : \"Tobias\",\n",
    "  \"year\" : 2007\n",
    "}\n",
    "child3 = {\n",
    "  \"name\" : \"Linus\",\n",
    "  \"year\" : 2011\n",
    "}\n",
    "\n",
    "myfamily = {\n",
    "  \"child1\" : child1,\n",
    "  \"child2\" : child2,\n",
    "  \"child3\" : child3\n",
    "} \n",
    "print(myfamily)"
   ]
  },
  {
   "cell_type": "code",
   "execution_count": 202,
   "id": "f73dec04-1c14-4ca3-ae13-6d339fa1eacd",
   "metadata": {},
   "outputs": [
    {
     "name": "stdout",
     "output_type": "stream",
     "text": [
      "child1\n",
      "name: Emil\n",
      "year: 2004\n",
      "child2\n",
      "name: Tobias\n",
      "year: 2007\n",
      "child3\n",
      "name: Linus\n",
      "year: 2011\n"
     ]
    }
   ],
   "source": [
    "for x, obj in myfamily.items():\n",
    "  print(x)\n",
    "\n",
    "  for y in obj:\n",
    "    print(y + ':', obj[y])"
   ]
  },
  {
   "cell_type": "code",
   "execution_count": 203,
   "id": "a032c771-ba2a-49b0-9459-7e4e2953c707",
   "metadata": {},
   "outputs": [
    {
     "name": "stdout",
     "output_type": "stream",
     "text": [
      "name : Linus\n"
     ]
    }
   ],
   "source": [
    "print('name : '+obj[\"name\"])"
   ]
  },
  {
   "cell_type": "code",
   "execution_count": 204,
   "id": "1ac5f24b-e997-4a0e-a1f1-4b4e9fe45e84",
   "metadata": {},
   "outputs": [
    {
     "name": "stdout",
     "output_type": "stream",
     "text": [
      "c1\n",
      "name : John\n",
      "age : 20\n",
      "c2\n",
      "name : May\n",
      "age : 23\n"
     ]
    }
   ],
   "source": [
    "a = {'name' : 'John', 'age' : '20'}\n",
    "b = {'name' : 'May', 'age' : '23'}\n",
    "customers = {'c1' : a, 'c2' : b}\n",
    "for x, obj in customers.items():\n",
    "    print(x)\n",
    "        \n",
    "    for y in obj:\n",
    "        print(y+' : '+ obj[y])"
   ]
  },
  {
   "cell_type": "code",
   "execution_count": 205,
   "id": "7a240d84-083a-4da0-8cf2-c44020f1a81b",
   "metadata": {},
   "outputs": [
    {
     "name": "stdout",
     "output_type": "stream",
     "text": [
      "B\n"
     ]
    }
   ],
   "source": [
    "a = 2\n",
    "b = 330\n",
    "print(\"A\") if a > b else print(\"B\") "
   ]
  },
  {
   "cell_type": "code",
   "execution_count": 206,
   "id": "9019c8c5-c36b-4223-a9e4-cf94b7c606fa",
   "metadata": {},
   "outputs": [],
   "source": [
    "# Python pass Statement The pass statement is used as a placeholder for future code. When the pass statement is executed, \n",
    "# nothing happens, but you avoid getting an error when empty code is not allowed. Empty code is not allowed in loops, function definitions, class definitions, or in if statements.\n",
    "\n",
    "a = 33\n",
    "b = 200\n",
    "\n",
    "if b > a:\n",
    "  pass"
   ]
  },
  {
   "cell_type": "code",
   "execution_count": 207,
   "id": "239df8a9-f281-44ed-aacc-9c6bbf4d813b",
   "metadata": {},
   "outputs": [
    {
     "name": "stdout",
     "output_type": "stream",
     "text": [
      "No\n"
     ]
    }
   ],
   "source": [
    "a = 50\n",
    "b = 10\n",
    "if a == b:\n",
    "    print(\"Yes\")\n",
    "else:\n",
    "    print(\"No\")"
   ]
  },
  {
   "cell_type": "code",
   "execution_count": 208,
   "id": "f2a8b5ff-d6bc-49c0-8e2f-c9f9ae631715",
   "metadata": {},
   "outputs": [
    {
     "name": "stdout",
     "output_type": "stream",
     "text": [
      "Hello\n"
     ]
    }
   ],
   "source": [
    "a=10\n",
    "b=10\n",
    "c=30\n",
    "d=30\n",
    "if a == b and c == d:\n",
    "  print(\"Hello\")"
   ]
  },
  {
   "cell_type": "code",
   "execution_count": 209,
   "id": "764eb0bc-3128-4371-9357-33e57096adfc",
   "metadata": {},
   "outputs": [
    {
     "name": "stdout",
     "output_type": "stream",
     "text": [
      "No\n"
     ]
    }
   ],
   "source": [
    "## Shorthand if elif else form\n",
    "a=10\n",
    "b=50\n",
    "print(\"Yes\") if a==b else print(\"No\")"
   ]
  },
  {
   "cell_type": "code",
   "execution_count": 210,
   "id": "0e82dd12-f2e2-4dc3-8261-a47a3ce17008",
   "metadata": {},
   "outputs": [
    {
     "name": "stdout",
     "output_type": "stream",
     "text": [
      "1\n",
      "2\n",
      "4\n",
      "5\n",
      "6\n"
     ]
    }
   ],
   "source": [
    "i = 0\n",
    "while i < 6:\n",
    "  i += 1\n",
    "  if i == 3:\n",
    "    continue\n",
    "  print(i)"
   ]
  },
  {
   "cell_type": "code",
   "execution_count": 211,
   "id": "c6cff845-bfd7-4375-9e92-00ed7ab83b13",
   "metadata": {},
   "outputs": [
    {
     "name": "stdout",
     "output_type": "stream",
     "text": [
      "1\n",
      "2\n",
      "3\n"
     ]
    }
   ],
   "source": [
    "i = 1\n",
    "while i < 6:\n",
    "  print(i)\n",
    "  if i == 3:\n",
    "    break\n",
    "  i += 1 "
   ]
  },
  {
   "cell_type": "code",
   "execution_count": 212,
   "id": "52229654-2db1-4abf-a5a4-1182569d4db6",
   "metadata": {},
   "outputs": [
    {
     "name": "stdout",
     "output_type": "stream",
     "text": [
      "apple\n",
      "a\n",
      "p\n",
      "p\n",
      "l\n",
      "e\n",
      "banana\n",
      "b\n",
      "a\n",
      "n\n",
      "a\n",
      "n\n",
      "a\n",
      "cherry\n",
      "c\n",
      "h\n",
      "e\n",
      "r\n"
     ]
    }
   ],
   "source": [
    "fruits = [\"apple\", \"banana\", \"cherry\"]\n",
    "for x in fruits:\n",
    "  print(x)\n",
    "  for y in x:\n",
    "     print(y)\n",
    "     if y == \"r\":\n",
    "         break"
   ]
  },
  {
   "cell_type": "code",
   "execution_count": 213,
   "id": "9af4a673-e802-473a-9f94-de7864780ff9",
   "metadata": {},
   "outputs": [
    {
     "name": "stdout",
     "output_type": "stream",
     "text": [
      "2\n",
      "5\n",
      "8\n",
      "11\n",
      "14\n",
      "17\n",
      "20\n",
      "23\n",
      "26\n",
      "29\n"
     ]
    }
   ],
   "source": [
    "for x in range(2, 30, 3):\n",
    "  print(x)"
   ]
  },
  {
   "cell_type": "code",
   "execution_count": 214,
   "id": "cf7476dd-ff58-44de-b10a-262cf63627c7",
   "metadata": {},
   "outputs": [
    {
     "name": "stdout",
     "output_type": "stream",
     "text": [
      "red apple\n",
      "red banana\n",
      "red cherry\n",
      "big apple\n",
      "big banana\n",
      "big cherry\n",
      "tasty apple\n",
      "tasty banana\n",
      "tasty cherry\n"
     ]
    }
   ],
   "source": [
    "adj = [\"red\", \"big\", \"tasty\"]\n",
    "fruits = [\"apple\", \"banana\", \"cherry\"]\n",
    "\n",
    "for x in adj:\n",
    "  for y in fruits:\n",
    "    print(x, y) "
   ]
  },
  {
   "cell_type": "code",
   "execution_count": 215,
   "id": "a01e4c02-0f13-414a-9812-449c8d9c9b1d",
   "metadata": {},
   "outputs": [
    {
     "name": "stdout",
     "output_type": "stream",
     "text": [
      "0\n",
      "1\n",
      "2\n"
     ]
    }
   ],
   "source": [
    "for x in range(3):\n",
    "  print(x)"
   ]
  },
  {
   "cell_type": "code",
   "execution_count": 216,
   "id": "36852340-7ef0-4f52-b2b8-97c8db3adaf3",
   "metadata": {},
   "outputs": [
    {
     "name": "stdout",
     "output_type": "stream",
     "text": [
      "Emil Refsnes\n",
      "Tobias Refsnes\n",
      "Linus Refsnes\n"
     ]
    }
   ],
   "source": [
    "def my_function(fname):\n",
    "  print(fname + \" Refsnes\")\n",
    "\n",
    "my_function(\"Emil\")\n",
    "my_function(\"Tobias\")\n",
    "my_function(\"Linus\") "
   ]
  },
  {
   "cell_type": "code",
   "execution_count": 217,
   "id": "49b99746-89bd-4e24-862c-f33e333d70c0",
   "metadata": {},
   "outputs": [
    {
     "name": "stdout",
     "output_type": "stream",
     "text": [
      "The youngest child is Linus\n"
     ]
    }
   ],
   "source": [
    "def my_function(child3, child2, child1):\n",
    "  print(\"The youngest child is \" + child3)\n",
    "\n",
    "my_function(child1 = \"Emil\", child2 = \"Tobias\", child3 = \"Linus\") "
   ]
  },
  {
   "cell_type": "code",
   "execution_count": 218,
   "id": "3845b716-d18a-47c0-bf35-054071e5186c",
   "metadata": {},
   "outputs": [
    {
     "name": "stdout",
     "output_type": "stream",
     "text": [
      "[10, 30] [20, 10, 30]\n",
      "[10, 30]\n",
      "[20]\n",
      "[10, 30]\n",
      "[10, 30, 20]\n",
      "[10, 30, 22]\n"
     ]
    }
   ],
   "source": [
    "def mystery(a,b=[]):\n",
    "    b.append(a)\n",
    "    return b\n",
    "\n",
    "r1 = mystery(10)\n",
    "r2 = mystery(20,[])\n",
    "r3 = mystery(30)\n",
    "print(r1, r2+r3)\n",
    "\n",
    "print(r1)\n",
    "print(r2)\n",
    "print(r3)\n",
    "\n",
    "print(r1+r2)\n",
    "\n",
    "print(mystery(22))"
   ]
  },
  {
   "cell_type": "code",
   "execution_count": 219,
   "id": "72c3101b-d5b5-4d0c-a387-bd270b801f6f",
   "metadata": {},
   "outputs": [
    {
     "name": "stdout",
     "output_type": "stream",
     "text": [
      "[22]\n",
      "[23]\n",
      "[70]\n",
      "[98]\n"
     ]
    }
   ],
   "source": [
    "def mystery2(a,b=[]):\n",
    "    b.append(a)\n",
    "    return b\n",
    "\n",
    "print(mystery2(22,[]))\n",
    "print(mystery2(23,[]))\n",
    "print(mystery2(70,[]))\n",
    "print(mystery2(98))"
   ]
  },
  {
   "cell_type": "code",
   "execution_count": 220,
   "id": "33100c05-8f7a-4d60-a72a-db7394636300",
   "metadata": {},
   "outputs": [
    {
     "name": "stdout",
     "output_type": "stream",
     "text": [
      "mango\n",
      "['apple', 'kiwi', 'mango', 'cherry']\n"
     ]
    }
   ],
   "source": [
    "mylist = ['apple', 'banana', 'cherry']\n",
    "mylist[1:2] = ['kiwi', 'mango']\n",
    "print(mylist[2])\n",
    "print(mylist)"
   ]
  },
  {
   "cell_type": "code",
   "execution_count": 221,
   "id": "17f1be9b-b164-4506-ac08-29a05f8188a5",
   "metadata": {},
   "outputs": [
    {
     "name": "stdout",
     "output_type": "stream",
     "text": [
      "[1, 2, 3, 4, 5, 6, 7, 8, 9, 10]\n",
      "[1, 4, 9, 16, 25, 36, 49, 64, 81, 100]\n"
     ]
    }
   ],
   "source": [
    "numbers = list(range(1, 11))\n",
    "print(numbers)\n",
    "print([i ** 2 for i in numbers])"
   ]
  },
  {
   "cell_type": "code",
   "execution_count": 222,
   "id": "1f643234-f597-4a8d-a139-b73c3e1908b7",
   "metadata": {},
   "outputs": [
    {
     "name": "stdout",
     "output_type": "stream",
     "text": [
      "7\n",
      "25\n",
      "9\n",
      "(3, 1, 4, 5, 9, 2)\n"
     ]
    }
   ],
   "source": [
    "def get_tuple_length(numbers):\n",
    "    # Write your code here\n",
    "    return len(numbers)\n",
    "    #pass\n",
    "\n",
    "def get_tuple_sum(numbers):\n",
    "    # Write your code here\n",
    "    i = 0\n",
    "    for s in numbers:\n",
    "        i = i + s\n",
    "    return i\n",
    "    #pass\n",
    "\n",
    "def get_max_number(numbers):\n",
    "    # Write your code here\n",
    "    i = 0\n",
    "    for s in numbers:\n",
    "        if i < s:\n",
    "            i = s\n",
    "    return i        \n",
    "    #pass\n",
    "\n",
    "def get_unique_elements(numbers):\n",
    "    # Write your code here\n",
    "    s = ()\n",
    "    for t in numbers:\n",
    "        if t not in s:\n",
    "            s += (t,)\n",
    "    return s\n",
    "    #pass\n",
    "\n",
    "# The predefined tuple\n",
    "numbers = (3, 1, 4, 1, 5, 9, 2)\n",
    "\n",
    "if __name__ == '__main__':\n",
    "    print(get_tuple_length(numbers))\n",
    "    print(get_tuple_sum(numbers))\n",
    "    print(get_max_number(numbers))\n",
    "    print(get_unique_elements(numbers))\n"
   ]
  },
  {
   "cell_type": "code",
   "execution_count": 223,
   "id": "9f673f60-1085-4f8c-af2d-d826a1b50a62",
   "metadata": {},
   "outputs": [
    {
     "name": "stdout",
     "output_type": "stream",
     "text": [
      "{2, 3, 5, 6, 7}\n"
     ]
    }
   ],
   "source": [
    "def main(input_set, add_elements, remove_elements):\n",
    "    # Write your code here\n",
    "    input_set.update(add_elements)\n",
    "    input_set.difference_update(remove_elements)\n",
    "    return input_set\n",
    "    #pass\n",
    "\n",
    "if __name__ == '__main__':\n",
    "    input_set = {1, 2, 3, 4, 5}\n",
    "    add_elements = {6, 7}\n",
    "    remove_elements = {1, 4}\n",
    "    print(main(input_set, add_elements, remove_elements))\n"
   ]
  },
  {
   "cell_type": "code",
   "execution_count": 224,
   "id": "8624329f-8129-4c52-8147-46c879cedbe8",
   "metadata": {},
   "outputs": [
    {
     "name": "stdout",
     "output_type": "stream",
     "text": [
      "{0, 1, 5, 7}\n"
     ]
    }
   ],
   "source": [
    "a = {1,0,3,5}\n",
    "a.add(7)\n",
    "a.remove(3)\n",
    "print(a)"
   ]
  },
  {
   "cell_type": "code",
   "execution_count": 225,
   "id": "c5abc755-28de-4fbf-baaa-66556b2e399a",
   "metadata": {},
   "outputs": [
    {
     "name": "stdout",
     "output_type": "stream",
     "text": [
      "{'name': 'Alice', 'age': 31}\n"
     ]
    }
   ],
   "source": [
    "def manipulate_dict() -> dict:\n",
    "    # Create an empty dictionary\n",
    "    my_dict = {}\n",
    "    \n",
    "    # Add key-value pairs\n",
    "    my_dict.update({\"name\": \"Alice\"})\n",
    "    my_dict[\"age\"] = 30\n",
    "    my_dict[\"city\"] = \"New York\"\n",
    "    \n",
    "    # Update the \"age\" value\n",
    "    my_dict[\"age\"] = 31\n",
    "    \n",
    "    # Remove the \"city\" key-value pair\n",
    "    my_dict.pop(\"city\")\n",
    "    \n",
    "    # Return the resulting dictionary\n",
    "    return my_dict\n",
    "\n",
    "print(manipulate_dict())"
   ]
  },
  {
   "cell_type": "code",
   "execution_count": 226,
   "id": "14c513a5-88f7-4b34-803b-b32814ff2839",
   "metadata": {},
   "outputs": [
    {
     "name": "stdout",
     "output_type": "stream",
     "text": [
      "apple\n",
      "banana\n",
      "cherry\n"
     ]
    }
   ],
   "source": [
    "mytuple = (\"apple\", \"banana\", \"cherry\")\n",
    "myit = iter(mytuple)\n",
    "\n",
    "print(next(myit))\n",
    "print(next(myit))\n",
    "print(next(myit))"
   ]
  },
  {
   "cell_type": "code",
   "execution_count": 227,
   "id": "45cffe11-f06f-4ddc-94c6-f25bd252f913",
   "metadata": {},
   "outputs": [
    {
     "name": "stdout",
     "output_type": "stream",
     "text": [
      "Peter\n",
      "Paul\n",
      "Mary\n"
     ]
    }
   ],
   "source": [
    "mylist = [\"Peter\", \"Paul\", \"Mary\"]\n",
    "myit = iter(mylist)\n",
    "\n",
    "print(next(myit))\n",
    "print(next(myit))\n",
    "print(next(myit))"
   ]
  },
  {
   "cell_type": "code",
   "execution_count": 228,
   "id": "c8341d62-8590-4f39-9c79-f0b37fe06710",
   "metadata": {},
   "outputs": [
    {
     "name": "stdout",
     "output_type": "stream",
     "text": [
      "Wilson\n",
      "Chow\n"
     ]
    }
   ],
   "source": [
    "mytuple = (\"Wilson\",\"Chow\")\n",
    "myit = iter(mytuple)\n",
    "\n",
    "print(next(myit))\n",
    "print(next(myit))"
   ]
  },
  {
   "cell_type": "code",
   "execution_count": 229,
   "id": "046e3f42-14a4-41c3-b65f-1304b43d459a",
   "metadata": {},
   "outputs": [
    {
     "name": "stdout",
     "output_type": "stream",
     "text": [
      "1\n",
      "2\n",
      "3\n",
      "4\n",
      "5\n"
     ]
    }
   ],
   "source": [
    "class MyNumbers:\n",
    "  def __iter__(self):\n",
    "    self.a = 1\n",
    "    return self\n",
    "\n",
    "  def __next__(self):\n",
    "    x = self.a\n",
    "    self.a += 1\n",
    "    return x\n",
    "\n",
    "  def reset(self):\n",
    "    self.a = 1\n",
    "    x = 0\n",
    "    #raise StopIteration\n",
    "\n",
    "myclass = MyNumbers()\n",
    "myiter = iter(myclass)\n",
    "\n",
    "print(next(myiter))\n",
    "print(next(myiter))\n",
    "print(next(myiter))\n",
    "print(next(myiter))\n",
    "print(next(myiter))\n",
    "\n",
    "MyNumbers.reset(myiter)"
   ]
  },
  {
   "cell_type": "code",
   "execution_count": 230,
   "id": "27e2faae-318a-48a1-bfcb-d76b3d9295b8",
   "metadata": {},
   "outputs": [
    {
     "name": "stdout",
     "output_type": "stream",
     "text": [
      "1\n",
      "2\n",
      "3\n",
      "4\n",
      "5\n",
      "6\n",
      "7\n",
      "8\n",
      "9\n",
      "10\n",
      "11\n",
      "12\n",
      "13\n",
      "14\n",
      "15\n",
      "16\n",
      "17\n",
      "18\n",
      "19\n",
      "20\n"
     ]
    }
   ],
   "source": [
    "class MyNumb:\n",
    "  def __iter__(self):\n",
    "    self.a = 1\n",
    "    return self\n",
    "\n",
    "  def __next__(self):\n",
    "    if self.a <= 20:\n",
    "      x = self.a\n",
    "      self.a += 1\n",
    "      return x\n",
    "    else:\n",
    "      raise StopIteration\n",
    "\n",
    "  def reset(self):\n",
    "    self.a = 1\n",
    "    x = 0\n",
    "      \n",
    "myclass = MyNumb()\n",
    "myiter = iter(myclass)\n",
    "\n",
    "for x in myiter:\n",
    "  print(x)"
   ]
  },
  {
   "cell_type": "code",
   "execution_count": 231,
   "id": "fdb9cbe9-2ecc-4bf8-9b01-bae4b954b3e6",
   "metadata": {},
   "outputs": [
    {
     "name": "stdout",
     "output_type": "stream",
     "text": [
      "6\n",
      "201\n",
      "323\n",
      "0\n"
     ]
    }
   ],
   "source": [
    "x = [1, 4, 2, 5, 99, 201]\n",
    "print(len(x))\n",
    "print(max(x))\n",
    "x.append(323)\n",
    "print(max(x))\n",
    "x.clear()\n",
    "print(len(x))"
   ]
  },
  {
   "cell_type": "code",
   "execution_count": 232,
   "id": "6e4eacb1-1aea-4c9b-88e8-4004d8bc79b1",
   "metadata": {},
   "outputs": [
    {
     "name": "stdout",
     "output_type": "stream",
     "text": [
      "True\n",
      "Value must be integer\n",
      "456\n",
      "False\n",
      "[201, 1, 323, 40, 13, 11, 212, 456]\n"
     ]
    }
   ],
   "source": [
    "# Instructions\n",
    "# Write a Python class called `MyArray` which manages an array of integers. The class should have methods for adding an integer, \n",
    "# getting the maximum value, and checking if the array is empty. The class should also properly handle scope and inheritance.\n",
    "# Requirements\n",
    "\n",
    "# Should be able to add integer to the array.\n",
    "\n",
    "# The get_max method should return the maximum value in the array.\n",
    "\n",
    "# The is_empty method should return True for an empty array.\n",
    "# The is_empty method should return False for a non-empty array.\n",
    "\n",
    "class MyArray:\n",
    "    def __init__(self):\n",
    "        self.data = []\n",
    "\n",
    "    def add(self, value):\n",
    "        # Add an integer to the array\n",
    "        if type(value) == int:\n",
    "            self.data.append(value)\n",
    "        else:\n",
    "            print(\"Value must be integer\")\n",
    "        #pass\n",
    "\n",
    "    def get_max(self):\n",
    "        # Return the maximum value of the array\n",
    "        m = 0\n",
    "        for i in self.data:\n",
    "            if i > m:\n",
    "                m=i\n",
    "        #return max(self.data)\n",
    "        return m\n",
    "        #pass\n",
    "\n",
    "    def is_empty(self):\n",
    "        # Return True if the array is empty, otherwise False\n",
    "        selflen = len(self.data)\n",
    "        return (True if selflen == 0 else False)\n",
    "        #pass\n",
    "\n",
    "class MyAr(MyArray):\n",
    "    pass\n",
    "\n",
    "ma = MyAr()\n",
    "print(ma.is_empty())\n",
    "ma.add(\"ABC\")\n",
    "ma.add(201)\n",
    "ma.add(1)\n",
    "ma.add(323)\n",
    "ma.add(40)\n",
    "ma.add(13)\n",
    "ma.add(11)\n",
    "ma.add(212)\n",
    "ma.add(456)\n",
    "print(ma.get_max())\n",
    "print(ma.is_empty())\n",
    "print(ma.data)"
   ]
  },
  {
   "cell_type": "code",
   "execution_count": 233,
   "id": "6ca0a800-5ca4-48dc-93aa-ef275bc444ca",
   "metadata": {},
   "outputs": [
    {
     "name": "stdout",
     "output_type": "stream",
     "text": [
      "<class 'int'>\n"
     ]
    }
   ],
   "source": [
    "a = 12\n",
    "print(type(a))"
   ]
  },
  {
   "cell_type": "code",
   "execution_count": 234,
   "id": "4a314019-e4bc-4779-ad82-efcb854e78bb",
   "metadata": {},
   "outputs": [
    {
     "name": "stdout",
     "output_type": "stream",
     "text": [
      "['The', 'rain in Spain']\n",
      "['The', 'rain', 'in', 'Spain']\n"
     ]
    }
   ],
   "source": [
    "import re\n",
    "\n",
    "#Split the string at the first white-space character:\n",
    "\n",
    "txt = \"The rain in Spain\"\n",
    "x = re.split(\"\\\\s\", txt, 1)\n",
    "print(x)\n",
    "x1 = re.split(\"\\\\s\", txt)\n",
    "print(x1)"
   ]
  },
  {
   "cell_type": "code",
   "execution_count": 235,
   "id": "ccddd3b9-db74-4792-84a7-c1af18c3d30a",
   "metadata": {},
   "outputs": [
    {
     "name": "stdout",
     "output_type": "stream",
     "text": [
      "['h', 'e', 'a', 'i', 'i', 'a', 'i', 'h', 'i', 'i', 'e', 'i']\n",
      "['2', '0', '2', '4']\n",
      "['hello']\n",
      "No match\n"
     ]
    }
   ],
   "source": [
    "import re\n",
    "\n",
    "txt = \"The rain in Spain. This is 2024 version.\"\n",
    "\n",
    "#Find all lower case characters alphabetically between \"a\" and \"m\":\n",
    "\n",
    "# Display all character from a to m\n",
    "print(re.findall(\"[a-m]\", txt))\n",
    "# find out all digital characters\n",
    "print(re.findall(\"\\\\d\", txt))\n",
    "txt = \"hello planet. hero stuff\"\n",
    "# display a string start from he and end with o but only show the first one.\n",
    "print(re.findall(\"he..o\", txt))\n",
    "#Check if the string ends with 'planet':\n",
    "\n",
    "x = re.findall(\"planet$\", txt)\n",
    "if x:\n",
    "  print(\"Yes, the string ends with 'planet'\")\n",
    "else:\n",
    "  print(\"No match\")"
   ]
  },
  {
   "cell_type": "code",
   "execution_count": 236,
   "id": "0ade84bb-2cb0-4981-87bd-3ea7c4273f96",
   "metadata": {},
   "outputs": [
    {
     "name": "stdout",
     "output_type": "stream",
     "text": [
      "['5', '9']\n"
     ]
    },
    {
     "name": "stderr",
     "output_type": "stream",
     "text": [
      "<>:5: SyntaxWarning: invalid escape sequence '\\d'\n",
      "<>:5: SyntaxWarning: invalid escape sequence '\\d'\n",
      "C:\\Users\\wilso\\AppData\\Local\\Temp\\ipykernel_23600\\1177197027.py:5: SyntaxWarning: invalid escape sequence '\\d'\n",
      "  x = re.findall(\"\\d\", txt)\n"
     ]
    }
   ],
   "source": [
    "txt = \"That will be 59 dollars\"\n",
    "\n",
    "#Find all digit characters:\n",
    "\n",
    "x = re.findall(\"\\d\", txt)\n",
    "print(x)"
   ]
  },
  {
   "cell_type": "code",
   "execution_count": 237,
   "id": "28d0530d-8617-4193-a4bb-ca83142283fb",
   "metadata": {},
   "outputs": [
    {
     "name": "stdout",
     "output_type": "stream",
     "text": [
      "<class 'datetime.date'>\n",
      "<class 'datetime.IsoCalendarDate'>\n",
      "Wed Dec  4 00:00:00 2019\n",
      "Wed Dec  4 00:00:00 2002\n"
     ]
    }
   ],
   "source": [
    "from datetime import date\n",
    "print(type(date.fromisoformat('2019-12-04')))\n",
    "print(type(date(2003, 12, 29).isocalendar()))\n",
    "print(date.fromisoformat('2019-12-04').ctime())\n",
    "print(date(2002, 12, 4).ctime())"
   ]
  },
  {
   "cell_type": "code",
   "execution_count": 238,
   "id": "f98db24d-844d-4949-8393-65f6d90db884",
   "metadata": {},
   "outputs": [
    {
     "name": "stdout",
     "output_type": "stream",
     "text": [
      "The9rain9in9Spain\n",
      "The9rain9in Spain\n",
      "<re.Match object; span=(5, 7), match='ai'>\n",
      "<re.Match object; span=(0, 2), match='wi'>\n",
      "The first white-space character is located in position: 3\n",
      "5\n",
      "8\n"
     ]
    }
   ],
   "source": [
    "txt = \"The rain in Spain\"\n",
    "\n",
    "# The sub() function replaces the matches with the text of your choice:\n",
    "# Replace every white-space character with the number 9:\n",
    "print(re.sub(\"\\\\s\", \"9\", txt))\n",
    "\n",
    "# Replace the first 2 occurrences:\n",
    "print(re.sub(\"\\\\s\", \"9\", txt, 2))\n",
    "\n",
    "# Do a search the space \"\\s\" return a Match Object:\n",
    "x = re.search(\"\\\\s\", txt)\n",
    "\n",
    "#Do a search that will return a Match Object:\n",
    "y = re.search(\"ain\", txt)\n",
    "\n",
    "# the first place is 5\n",
    "print(re.search(\"ai\", txt))\n",
    "\n",
    "print(re.search(\"wi\",\"wing-san wilson chow\"))\n",
    "\n",
    "print(\"The first white-space character is located in position:\", x.start()) \n",
    "print(y.start())\n",
    "print(y.end())\n",
    "\n",
    "# print(re.sub(\"\\s\", \"9\", txt))\n"
   ]
  },
  {
   "cell_type": "code",
   "execution_count": 239,
   "id": "c50bcff9-0e5e-440a-bd9a-baf1d389a515",
   "metadata": {},
   "outputs": [
    {
     "name": "stdout",
     "output_type": "stream",
     "text": [
      "[' ', ',', ' ', ' ', '!']\n",
      "Yes, there is at least one match!\n"
     ]
    }
   ],
   "source": [
    "import re\n",
    "\n",
    "txt = \"The rain, in Spain!\"\n",
    "\n",
    "#Return a match at every NON word character (characters NOT between a and Z. Like \"!\", \"?\" white-space etc.):\n",
    "\n",
    "x = re.findall(\"\\\\W\", txt)\n",
    "\n",
    "print(x)\n",
    "\n",
    "if x:\n",
    "  print(\"Yes, there is at least one match!\")\n",
    "else:\n",
    "  print(\"No match\")"
   ]
  },
  {
   "cell_type": "code",
   "execution_count": 240,
   "id": "6e1181ac-2517-445f-92e2-574368cbdac6",
   "metadata": {},
   "outputs": [
    {
     "name": "stdout",
     "output_type": "stream",
     "text": [
      "No match (planet)\n",
      "Yes, the string starts with 'hello'\n",
      "(12, 17)\n",
      "Spain\n",
      "The rain in Spain\n",
      "(4, 8)\n",
      "rain\n"
     ]
    }
   ],
   "source": [
    "import re\n",
    "\n",
    "txt = \"hello planet\"\n",
    "\n",
    "#Check if the string starts with 'hello':\n",
    "\n",
    "x = re.findall(\"^planet\", txt)\n",
    "if x:\n",
    "  print(\"Yes, the string starts with 'planet'\")\n",
    "else:\n",
    "  print(\"No match (planet)\")\n",
    "\n",
    "x = re.findall(\"^hello\", txt)\n",
    "if x:\n",
    "  print(\"Yes, the string starts with 'hello'\")\n",
    "else:\n",
    "  print(\"No match (hello)\")\n",
    "\n",
    "# .span() returns a tuple containing the start-, and end positions of the match.\n",
    "# .string returns the string passed into the function\n",
    "# .group() returns the part of the string where there was a match\n",
    "\n",
    "# \\b - Returns a match where the specified characters are at the beginning or at the end of a word\n",
    "# (the \"r\" in the beginning is making sure that the string is being treated as a \"raw string\")\n",
    "# \\w - Returns a match where the string contains any word characters (characters from a to Z, digits from 0-9, and the underscore _ character)\n",
    "\n",
    "#Search for an upper case \"S\" character in the beginning of a word, and print its position:\n",
    "txt = \"The rain in Spain\"\n",
    "x = re.search(r\"\\bS\\w+\", txt)\n",
    "print(x.span())\n",
    "print(x.group())\n",
    "\n",
    "txt = \"The rain in Spain\"\n",
    "x = re.search(r\"\\br\\w+\", txt)\n",
    "print(x.string)\n",
    "print(re.search(r\"\\br\\w+\", txt).span())\n",
    "\n",
    "#Search for an upper case \"S\" character in the beginning of a word, and print the word:\n",
    "print(re.search(r\"\\br\\w+\", txt).group())"
   ]
  },
  {
   "cell_type": "code",
   "execution_count": 241,
   "id": "1de04c26-2728-4e2e-9b44-01b2a84e5ab0",
   "metadata": {},
   "outputs": [
    {
     "name": "stdout",
     "output_type": "stream",
     "text": [
      "\t Hi, I am Wilson\n",
      "\\t Hi, I am Wilson\n"
     ]
    }
   ],
   "source": [
    "# for r prefix in searching, r means the eaw string\n",
    "\n",
    "print(\"\\t Hi, I am Wilson\")\n",
    "print(r\"\\t Hi, I am Wilson\")\n",
    "\n",
    "# above sample can see the raw string \"\\t...\" shows in result."
   ]
  },
  {
   "cell_type": "code",
   "execution_count": 242,
   "id": "10d66f36-379f-4bf0-8172-556cf85ec1b9",
   "metadata": {},
   "outputs": [
    {
     "name": "stdout",
     "output_type": "stream",
     "text": [
      "['a', 'a']\n",
      "[]\n"
     ]
    }
   ],
   "source": [
    "import re\n",
    "txt = 'The rain in Spain'\n",
    "x = re.findall('[a-c]', txt)\n",
    "print(x)\n",
    "print(re.findall('[x-z]', txt))"
   ]
  },
  {
   "cell_type": "code",
   "execution_count": 243,
   "id": "75fada11-9f9a-4c61-99ac-093b430f8008",
   "metadata": {},
   "outputs": [
    {
     "name": "stdout",
     "output_type": "stream",
     "text": [
      "Wilson Chow\n"
     ]
    }
   ],
   "source": [
    "import camelcase\n",
    "c = camelcase.CamelCase()\n",
    "print(c.hump(\"wilson chow\"))"
   ]
  },
  {
   "cell_type": "code",
   "execution_count": 244,
   "id": "059d6d5a-15c1-4328-b4e7-c0311c1f6f51",
   "metadata": {},
   "outputs": [
    {
     "name": "stdout",
     "output_type": "stream",
     "text": [
      "<camelcase.main.CamelCase object at 0x000001AF16016B70>\n",
      "Nothing went wrong\n",
      "The 'try except' is finished\n"
     ]
    }
   ],
   "source": [
    "x=camelcase.CamelCase()\n",
    "try:\n",
    "  print(x)\n",
    "except NameError:\n",
    "  print(\"Variable x is not defined\")\n",
    "except:\n",
    "  print(\"Something else went wrong\") \n",
    "else:\n",
    "  print(\"Nothing went wrong\")\n",
    "finally:\n",
    "  print(\"The 'try except' is finished\") \n",
    "\n",
    "#x = -1\n",
    "#if x < 0:\n",
    "#  raise Exception(\"Sorry, no numbers below zero\") \n",
    "\n",
    "#if not type(x) is int:\n",
    "#  raise TypeError(\"Only integers are allowed\")"
   ]
  },
  {
   "cell_type": "code",
   "execution_count": 245,
   "id": "a22b8306-5491-419d-a26f-02ffa5702c22",
   "metadata": {},
   "outputs": [
    {
     "name": "stdout",
     "output_type": "stream",
     "text": [
      "[]\n",
      "No match\n",
      "['ain', 'ain']\n",
      "['T', 'h', 'e', ' ', 'r', 'a', 'i', 'n', ' ', 'i', 'n', ' ', 'S', 'p', 'a', 'i', 'n']\n",
      "['rain ']\n",
      "['Spain']\n",
      "['r', 'a', 'n', 'n', 'a', 'n']\n",
      "['h', 'e', 'a', 'i', 'n', 'i', 'n', 'a', 'i', 'n']\n",
      "['07321112933']\n"
     ]
    }
   ],
   "source": [
    "import re\n",
    "\n",
    "txt = \"The rain in Spain\"\n",
    "\n",
    "#Check if \"ain\" is present, but NOT at the end of a word:\n",
    "\n",
    "x = re.findall(r\"ain\\B\", txt)\n",
    "\n",
    "print(x)\n",
    "\n",
    "if x:\n",
    "  print(\"Yes, there is at least one match!\")\n",
    "else:\n",
    "  print(\"No match\")\n",
    "\n",
    "print(re.findall(r\"ain\\b\", txt))\n",
    "print(re.findall(r\"\\D\", txt))\n",
    "print(re.findall(r\"rain\\D\", txt))\n",
    "\n",
    "#Check if the string ends with \"Spain\":\n",
    "print(re.findall(\"Spain\\\\Z\", txt))\n",
    "\n",
    "print(re.findall(\"[arn]\", txt))\n",
    "\n",
    "print(re.findall(\"[a-n]\", txt))\n",
    "\n",
    "# phone number in UK\n",
    "tPh = \"07321112933\"\n",
    "print(re.findall(\"[0-9][0-9][0-9][0-9][0-9][0-9][0-9][0-9][0-9][0-9][0-9]\",re.sub(r\"\\+44\",\"0\",re.sub(\"\\\\s\",\"\",tPh))))\n"
   ]
  },
  {
   "cell_type": "code",
   "execution_count": 246,
   "id": "5f22087a-5d1e-4f9f-8170-768e90cffa40",
   "metadata": {},
   "outputs": [
    {
     "name": "stdout",
     "output_type": "stream",
     "text": [
      "['t', 'i', 'm', 'e', 's', 'b', 'e', 'f', 'o', 'r', 'e', 'A', 'M']\n",
      "Yes, there is at least one match!\n"
     ]
    }
   ],
   "source": [
    "txt = \"8 times before 11:45 AM\"\n",
    "\n",
    "#Check if the string has any characters from a to z lower case, and A to Z upper case:\n",
    "\n",
    "x = re.findall(\"[a-zA-Z]\", txt)\n",
    "\n",
    "print(x)\n",
    "\n",
    "if x:\n",
    "  print(\"Yes, there is at least one match!\")\n",
    "else:\n",
    "  print(\"No match\")"
   ]
  },
  {
   "cell_type": "code",
   "execution_count": null,
   "id": "5367052f-8b54-4b7d-bc52-d4c27613b236",
   "metadata": {},
   "outputs": [],
   "source": [
    "dt"
   ]
  }
 ],
 "metadata": {
  "kernelspec": {
   "display_name": "Python 3 (ipykernel)",
   "language": "python",
   "name": "python3"
  },
  "language_info": {
   "codemirror_mode": {
    "name": "ipython",
    "version": 3
   },
   "file_extension": ".py",
   "mimetype": "text/x-python",
   "name": "python",
   "nbconvert_exporter": "python",
   "pygments_lexer": "ipython3",
   "version": "3.12.8"
  }
 },
 "nbformat": 4,
 "nbformat_minor": 5
}
