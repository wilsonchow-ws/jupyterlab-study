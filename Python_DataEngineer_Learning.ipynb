{
 "cells": [
  {
   "cell_type": "code",
   "execution_count": null,
   "id": "26a4f183-27a8-4a50-9a1e-82b35cbf6d48",
   "metadata": {},
   "outputs": [],
   "source": [
    "## Python basic learning:\n",
    "## Objective for Data Engineer:\n",
    "# 1. Object-oriebted programming\n",
    "# 2. Decorators\n",
    "# 3. Good practices\n",
    "# 4. Version control\n"
   ]
  },
  {
   "cell_type": "code",
   "execution_count": 1,
   "id": "43fa201f-7bc8-4752-a916-de50f2aa8de0",
   "metadata": {},
   "outputs": [
    {
     "data": {
      "text/plain": [
       "5"
      ]
     },
     "execution_count": 1,
     "metadata": {},
     "output_type": "execute_result"
    }
   ],
   "source": [
    "# Decorators:\n",
    "def plus_one(number):\n",
    "    def add_one(number):\n",
    "        return number + 1\n",
    "\n",
    "\n",
    "    result = add_one(number)\n",
    "    return result\n",
    "plus_one(4)\n"
   ]
  },
  {
   "cell_type": "code",
   "execution_count": 4,
   "id": "ee3fcfdd-07c1-44a7-bc40-3107b52b60be",
   "metadata": {},
   "outputs": [
    {
     "data": {
      "text/plain": [
       "6"
      ]
     },
     "execution_count": 4,
     "metadata": {},
     "output_type": "execute_result"
    }
   ],
   "source": [
    "#Passing Functions as Arguments to other Functions\n",
    "def plus_one(number):\n",
    "    return number + 1\n",
    "\n",
    "def square(number):\n",
    "    return number ** 2\n",
    "\n",
    "def function_call(function):\n",
    "    number_to_add = 5\n",
    "    return function(number_to_add)\n",
    "\n",
    "function_call(plus_one)"
   ]
  },
  {
   "cell_type": "code",
   "execution_count": 5,
   "id": "9e628f54-2e4d-4b19-a6c1-35fa5215c63d",
   "metadata": {},
   "outputs": [
    {
     "data": {
      "text/plain": [
       "25"
      ]
     },
     "execution_count": 5,
     "metadata": {},
     "output_type": "execute_result"
    }
   ],
   "source": [
    "function_call(square)"
   ]
  },
  {
   "cell_type": "code",
   "execution_count": 6,
   "id": "5be1382e-b065-4f3e-ace7-0b0d5b2f9e92",
   "metadata": {},
   "outputs": [
    {
     "data": {
      "text/plain": [
       "'Hi'"
      ]
     },
     "execution_count": 6,
     "metadata": {},
     "output_type": "execute_result"
    }
   ],
   "source": [
    "## Function return other function\n",
    "def hello_function():\n",
    "    def say_hi():\n",
    "        return \"Hi\"\n",
    "    return say_hi\n",
    "hello = hello_function()\n",
    "hello()\n"
   ]
  },
  {
   "cell_type": "code",
   "execution_count": 7,
   "id": "a2ccf68c-4703-4241-b298-dee32c496d13",
   "metadata": {},
   "outputs": [
    {
     "name": "stdout",
     "output_type": "stream",
     "text": [
      "Some random message\n"
     ]
    }
   ],
   "source": [
    "#Nested Functions have access to the Enclosing Function's Variable Scope\n",
    "\n",
    "## This code defines a function called print_message that takes a single argument message. Within the print_message function, there is a nested function called message_sender that simply prints the message argument. \n",
    "## The message_sender function is then called within the print_message function. \n",
    "\n",
    "## When the code is executed, the print_message function is called with the argument \"Some random message\". This causes the message_sender function to be called, which in turn prints the message \"Some random message\". \n",
    "## The purpose of this code is to demonstrate how nested functions work in Python. \n",
    "## The message_sender function is nested within the print_message function, which means it has access to the message argument even though it is not passed as an argument to the message_sender function itself. \n",
    "## This is because nested functions have access to the variables and arguments of their enclosing functions.\n",
    "\n",
    "def print_message(message):\n",
    "    \"Enclosong Function\"\n",
    "    def message_sender():\n",
    "        \"Nested Function\"\n",
    "        print(message)\n",
    "\n",
    "    message_sender()\n",
    "\n",
    "print_message(\"Some random message\")\n"
   ]
  },
  {
   "cell_type": "code",
   "execution_count": null,
   "id": "efdfd692-24ce-4112-b7f2-fb8376e23f72",
   "metadata": {},
   "outputs": [],
   "source": []
  }
 ],
 "metadata": {
  "kernelspec": {
   "display_name": "Python 3 (ipykernel)",
   "language": "python",
   "name": "python3"
  },
  "language_info": {
   "codemirror_mode": {
    "name": "ipython",
    "version": 3
   },
   "file_extension": ".py",
   "mimetype": "text/x-python",
   "name": "python",
   "nbconvert_exporter": "python",
   "pygments_lexer": "ipython3",
   "version": "3.12.7"
  }
 },
 "nbformat": 4,
 "nbformat_minor": 5
}
