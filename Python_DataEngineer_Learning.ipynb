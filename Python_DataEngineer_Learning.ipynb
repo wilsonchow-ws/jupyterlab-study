{
 "cells": [
  {
   "cell_type": "code",
   "execution_count": 1,
   "id": "26a4f183-27a8-4a50-9a1e-82b35cbf6d48",
   "metadata": {},
   "outputs": [],
   "source": [
    "## Python basic learning:\n",
    "## Objective for Data Engineer:\n",
    "# 1. Object-oriebted programming\n",
    "# 2. Decorators\n",
    "# 3. Good practices\n",
    "# 4. Version control\n"
   ]
  },
  {
   "cell_type": "code",
   "execution_count": 2,
   "id": "43fa201f-7bc8-4752-a916-de50f2aa8de0",
   "metadata": {},
   "outputs": [
    {
     "data": {
      "text/plain": [
       "5"
      ]
     },
     "execution_count": 2,
     "metadata": {},
     "output_type": "execute_result"
    }
   ],
   "source": [
    "# Decorators:\n",
    "def plus_one(number):\n",
    "    def add_one(number):\n",
    "        return number + 1\n",
    "\n",
    "\n",
    "    result = add_one(number)\n",
    "    return result\n",
    "plus_one(4)\n"
   ]
  },
  {
   "cell_type": "code",
   "execution_count": 3,
   "id": "ee3fcfdd-07c1-44a7-bc40-3107b52b60be",
   "metadata": {},
   "outputs": [
    {
     "data": {
      "text/plain": [
       "6"
      ]
     },
     "execution_count": 3,
     "metadata": {},
     "output_type": "execute_result"
    }
   ],
   "source": [
    "#Passing Functions as Arguments to other Functions\n",
    "def plus_one(number):\n",
    "    return number + 1\n",
    "\n",
    "def square(number):\n",
    "    return number ** 2\n",
    "\n",
    "def function_call(function):\n",
    "    number_to_add = 5\n",
    "    return function(number_to_add)\n",
    "\n",
    "function_call(plus_one)"
   ]
  },
  {
   "cell_type": "code",
   "execution_count": 4,
   "id": "9e628f54-2e4d-4b19-a6c1-35fa5215c63d",
   "metadata": {},
   "outputs": [
    {
     "data": {
      "text/plain": [
       "25"
      ]
     },
     "execution_count": 4,
     "metadata": {},
     "output_type": "execute_result"
    }
   ],
   "source": [
    "function_call(square)"
   ]
  },
  {
   "cell_type": "code",
   "execution_count": 5,
   "id": "5be1382e-b065-4f3e-ace7-0b0d5b2f9e92",
   "metadata": {},
   "outputs": [
    {
     "data": {
      "text/plain": [
       "'Hi'"
      ]
     },
     "execution_count": 5,
     "metadata": {},
     "output_type": "execute_result"
    }
   ],
   "source": [
    "## Function return other function\n",
    "def hello_function():\n",
    "    def say_hi():\n",
    "        return \"Hi\"\n",
    "    return say_hi\n",
    "hello = hello_function()\n",
    "hello()\n"
   ]
  },
  {
   "cell_type": "code",
   "execution_count": 6,
   "id": "a2ccf68c-4703-4241-b298-dee32c496d13",
   "metadata": {},
   "outputs": [
    {
     "name": "stdout",
     "output_type": "stream",
     "text": [
      "Some random message\n"
     ]
    }
   ],
   "source": [
    "# Nested Functions have access to the Enclosing Function's Variable Scope\n",
    "\n",
    "## This code defines a function called print_message that takes a single argument message. Within the print_message function, there is a nested function called message_sender that simply prints the message argument. \n",
    "## The message_sender function is then called within the print_message function. \n",
    "\n",
    "## When the code is executed, the print_message function is called with the argument \"Some random message\". This causes the message_sender function to be called, which in turn prints the message \"Some random message\". \n",
    "## The purpose of this code is to demonstrate how nested functions work in Python. \n",
    "## The message_sender function is nested within the print_message function, which means it has access to the message argument even though it is not passed as an argument to the message_sender function itself. \n",
    "## This is because nested functions have access to the variables and arguments of their enclosing functions.\n",
    "\n",
    "def print_message(message):\n",
    "    \"Enclosong Function\"\n",
    "    def message_sender():\n",
    "        \"Nested Function\"\n",
    "        print(message)\n",
    "        \n",
    "    message_sender()\n",
    "\n",
    "print_message(\"Some random message\")\n"
   ]
  },
  {
   "cell_type": "code",
   "execution_count": 7,
   "id": "efdfd692-24ce-4112-b7f2-fb8376e23f72",
   "metadata": {},
   "outputs": [],
   "source": [
    "#Creating Decorators\n",
    "\n",
    "# With these prerequisites out of the way, let's go ahead and create a simple decorator that will convert a sentence to uppercase. \n",
    "# We do this by defining a wrapper inside an enclosed function. As you can see it very similar to the function inside another function that we created earlier.\n",
    "\n",
    "# This code defines a decorator function called uppercase_decorator that takes in another function as an argument. The decorator function returns a new function called wrapper that wraps the original function. \n",
    "\n",
    "# The wrapper function first calls the original function using function(), and then converts the result to uppercase using the upper() method. Finally, it returns the uppercase result.\n",
    "\n",
    "# The purpose of this decorator is to modify the output of the original function by converting it to uppercase. To use this decorator, you would apply it to a function by placing @uppercase_decorator above the function definition.\n",
    "\n",
    "def uppercase_decorator(function):\n",
    "    def wrapper():\n",
    "        func = str(function())\n",
    "        make_uppercase = func.upper()\n",
    "        return make_uppercase\n",
    "\n",
    "    return wrapper\n"
   ]
  },
  {
   "cell_type": "code",
   "execution_count": 8,
   "id": "404d0578-a780-4bb5-8b0b-87f963580fa5",
   "metadata": {},
   "outputs": [
    {
     "data": {
      "text/plain": [
       "'HELLO THERE'"
      ]
     },
     "execution_count": 8,
     "metadata": {},
     "output_type": "execute_result"
    }
   ],
   "source": [
    "def say_hi():\n",
    "    return 'hello there'\n",
    "\n",
    "decorate = uppercase_decorator(say_hi)\n",
    "decorate()"
   ]
  },
  {
   "cell_type": "code",
   "execution_count": 9,
   "id": "c85c774a-1b6b-4b08-ae66-350a5ff5962d",
   "metadata": {},
   "outputs": [],
   "source": [
    "# It would becomes TypeError: 'NoneType' object is not callable. Because print_message() only use print to out the parameter, not return string.\n",
    "#pmsg = uppercase_decorator(print_message(\"Some random message\"))\n",
    "\n",
    "# But hello_function(), is RETURN a string. It would not be error in there as it returns a string to uppercase_decorator\n",
    "pmsg = uppercase_decorator(hello_function())\n",
    "#pmsg()\n",
    "#print_message(\"Some random message\")"
   ]
  },
  {
   "cell_type": "code",
   "execution_count": 10,
   "id": "180580f2-7bb2-409b-b436-44f37098e86b",
   "metadata": {},
   "outputs": [
    {
     "data": {
      "text/plain": [
       "'HI'"
      ]
     },
     "execution_count": 10,
     "metadata": {},
     "output_type": "execute_result"
    }
   ],
   "source": [
    "pmsg()"
   ]
  },
  {
   "cell_type": "code",
   "execution_count": 11,
   "id": "cd2cb27f-0f9c-4b69-af69-5ae32c8ba6c8",
   "metadata": {},
   "outputs": [],
   "source": [
    "## Applying Multiple Decorators to a Single Function\n",
    "# We can use multiple decorators to a single function. However, the decorators will be applied in the order that we've called them. \n",
    "# Below we'll define another decorator that splits the sentence into a list. We'll then apply the uppercase_decorator and split_string decorator to a single function.\n",
    "\n",
    "# Adding @split_string, @uppercase_decorator to adding specified function in there.\n",
    "import functools\n",
    "def split_string(function):\n",
    "    @functools.wraps(function)\n",
    "    def wrapper():\n",
    "        func = function()\n",
    "        splitted_string = func.split()\n",
    "        return splitted_string\n",
    "\n",
    "    return wrapper "
   ]
  },
  {
   "cell_type": "code",
   "execution_count": 12,
   "id": "b6780006-b408-4f22-84d7-dd2a8c97b3bb",
   "metadata": {},
   "outputs": [
    {
     "data": {
      "text/plain": [
       "['HELLO', 'THERE']"
      ]
     },
     "execution_count": 12,
     "metadata": {},
     "output_type": "execute_result"
    }
   ],
   "source": [
    "@split_string\n",
    "@uppercase_decorator\n",
    "def say_hi():\n",
    "    return 'hello there'\n",
    "say_hi()\n"
   ]
  },
  {
   "cell_type": "code",
   "execution_count": 13,
   "id": "ec76d6b9-18a8-402f-b117-4ffc3bc39d57",
   "metadata": {},
   "outputs": [
    {
     "name": "stdout",
     "output_type": "stream",
     "text": [
      "My arguments are: Nairobi, Accra\n",
      "Cities I love are Nairobi and Accra\n"
     ]
    }
   ],
   "source": [
    "## Accepting Arguments in Decorator Functions\n",
    "\n",
    "# Sometimes we might need to define a decorator that accepts arguments. We achieve this by passing the arguments to the wrapper function. The arguments will then be passed to the function that is being decorated at call time.\n",
    "def decorator_with_arguments(function):\n",
    "    def wrapper_accepting_arguments(arg1, arg2):\n",
    "        print(\"My arguments are: {0}, {1}\".format(arg1,arg2))\n",
    "        function(arg1, arg2)\n",
    "    return wrapper_accepting_arguments\n",
    "\n",
    "\n",
    "@decorator_with_arguments\n",
    "def cities(city_one, city_two):\n",
    "    print(\"Cities I love are {0} and {1}\".format(city_one, city_two))\n",
    "\n",
    "cities(\"Nairobi\", \"Accra\")\n"
   ]
  },
  {
   "cell_type": "code",
   "execution_count": 14,
   "id": "045a0688-c840-4ab9-bbb0-325490dc8334",
   "metadata": {},
   "outputs": [
    {
     "name": "stdout",
     "output_type": "stream",
     "text": [
      "The positional arguments are ()\n",
      "The keyword arguments are {}\n",
      "No arguments here.\n"
     ]
    }
   ],
   "source": [
    "# Defining General Purpose Decorators\n",
    "# To define a general purpose decorator that can be applied to any function we use args and **kwargs. \n",
    "# args and **kwargs collect all positional and keyword arguments and stores them in the args and kwargs variables. \n",
    "# args and kwargs allow us to pass as many arguments as we would like during function calls.\n",
    "\n",
    "def a_decorator_passing_arbitrary_arguments(function_to_decorate):\n",
    "    def a_wrapper_accepting_arbitrary_arguments(*args,**kwargs):\n",
    "        print('The positional arguments are', args)\n",
    "        print('The keyword arguments are', kwargs)\n",
    "        function_to_decorate(*args)\n",
    "    return a_wrapper_accepting_arbitrary_arguments\n",
    "\n",
    "@a_decorator_passing_arbitrary_arguments\n",
    "def function_with_no_argument():\n",
    "    print(\"No arguments here.\")\n",
    "\n",
    "function_with_no_argument()\n",
    "\n",
    "# This code defines a decorator function called a_decorator_passing_arbitrary_arguments that takes in a function as an argument. \n",
    "# The decorator function then defines an inner function called a_wrapper_accepting_arbitrary_arguments that accepts arbitrary arguments using the *args and **kwargs syntax. \n",
    "# The inner function then prints out the positional and keyword arguments passed to it and calls the original function with the positional arguments using function_to_decorate(*args). \n",
    "\n",
    "# The @a_decorator_passing_arbitrary_arguments syntax is used to apply the decorator to the function_with_no_argument function. \n",
    "# When function_with_no_argument is called, it is actually calling the a_wrapper_accepting_arbitrary_arguments function defined in the decorator, \n",
    "# which in turn calls the original function_with_no_argument function with no arguments. The output of the code will be:\n",
    "\n",
    "\"\"\"\n",
    "The positional arguments are ()\n",
    "The keyword arguments are {}\n",
    "No arguments here.\n",
    "\"\"\"\n",
    "\n",
    "# This shows that the decorator successfully passed the arguments to the inner function and called the original function with no arguments."
   ]
  },
  {
   "cell_type": "code",
   "execution_count": 17,
   "id": "8eb7dd34-d9a6-474a-a659-3f5999dc98eb",
   "metadata": {},
   "outputs": [],
   "source": [
    "#The positional arguments are ()\n",
    "#The keyword arguments are {}\n",
    "#No arguments here.\n"
   ]
  },
  {
   "cell_type": "code",
   "execution_count": 16,
   "id": "e22f5c01-4772-4b02-b7e5-db2d8137cd76",
   "metadata": {},
   "outputs": [
    {
     "name": "stdout",
     "output_type": "stream",
     "text": [
      "The positional arguments are (1, 2, 3)\n",
      "The keyword arguments are {}\n",
      "1 2 3\n"
     ]
    }
   ],
   "source": [
    "@a_decorator_passing_arbitrary_arguments\n",
    "def function_with_arguments(a, b, c):\n",
    "    print(a, b, c)\n",
    "\n",
    "function_with_arguments(1,2,3)\n"
   ]
  },
  {
   "cell_type": "code",
   "execution_count": 18,
   "id": "c353496c-4e56-4f05-a825-c6a88a7de634",
   "metadata": {},
   "outputs": [
    {
     "name": "stdout",
     "output_type": "stream",
     "text": [
      "The positional arguments are ()\n",
      "The keyword arguments are {'first_name': 'Derrick', 'last_name': 'Mwiti'}\n",
      "This has shown keyword arguments\n"
     ]
    }
   ],
   "source": [
    "@a_decorator_passing_arbitrary_arguments\n",
    "def function_with_keyword_arguments():\n",
    "    print(\"This has shown keyword arguments\")\n",
    "\n",
    "function_with_keyword_arguments(first_name=\"Derrick\", last_name=\"Mwiti\")\n",
    "## Note: The use of **kwargs in the decorator allows it to handle keyword arguments. This makes the general-purpose decorator versatile and capable of handling a variety of argument types during function calls."
   ]
  },
  {
   "cell_type": "code",
   "execution_count": 19,
   "id": "bea1bd29-bc5d-4da3-99b3-51d51fbd5fd0",
   "metadata": {},
   "outputs": [
    {
     "name": "stdout",
     "output_type": "stream",
     "text": [
      "The wrapper can access all the variables\n",
      "\t- from the decorator maker: Pandas Numpy Scikit-learn\n",
      "\t- from the function call: Pandas Science Tools\n",
      "and pass them to the decorated function\n",
      "This is the decorated function and it only knows about its arguments: Pandas Science Tools\n"
     ]
    }
   ],
   "source": [
    "## Passing Arguments to the Decorator\n",
    "# Now let's see how we'd pass arguments to the decorator itself. \n",
    "# In order to achieve this, we define a decorator maker that accepts arguments then define a decorator inside it. \n",
    "# We then define a wrapper function inside the decorator as we did earlier.\n",
    "\n",
    "def decorator_maker_with_arguments(decorator_arg1, decorator_arg2, decorator_arg3):\n",
    "    def decorator(func):\n",
    "        def wrapper(function_arg1, function_arg2, function_arg3) :\n",
    "            \"This is the wrapper function\"\n",
    "            print(\"The wrapper can access all the variables\\n\"\n",
    "                  \"\\t- from the decorator maker: {0} {1} {2}\\n\"\n",
    "                  \"\\t- from the function call: {3} {4} {5}\\n\"\n",
    "                  \"and pass them to the decorated function\"\n",
    "                  .format(decorator_arg1, decorator_arg2,decorator_arg3,\n",
    "                          function_arg1, function_arg2,function_arg3))\n",
    "            return func(function_arg1, function_arg2,function_arg3)\n",
    "\n",
    "        return wrapper\n",
    "\n",
    "    return decorator\n",
    "\n",
    "pandas = \"Pandas\"\n",
    "@decorator_maker_with_arguments(pandas, \"Numpy\",\"Scikit-learn\")\n",
    "def decorated_function_with_arguments(function_arg1, function_arg2,function_arg3):\n",
    "    print(\"This is the decorated function and it only knows about its arguments: {0}\"\n",
    "           \" {1}\" \" {2}\".format(function_arg1, function_arg2,function_arg3))\n",
    "\n",
    "decorated_function_with_arguments(pandas, \"Science\", \"Tools\")"
   ]
  },
  {
   "cell_type": "code",
   "execution_count": null,
   "id": "51e43776-7440-4b7d-92d0-b954007a6088",
   "metadata": {},
   "outputs": [],
   "source": []
  }
 ],
 "metadata": {
  "kernelspec": {
   "display_name": "Python 3 (ipykernel)",
   "language": "python",
   "name": "python3"
  },
  "language_info": {
   "codemirror_mode": {
    "name": "ipython",
    "version": 3
   },
   "file_extension": ".py",
   "mimetype": "text/x-python",
   "name": "python",
   "nbconvert_exporter": "python",
   "pygments_lexer": "ipython3",
   "version": "3.12.7"
  }
 },
 "nbformat": 4,
 "nbformat_minor": 5
}
