{
 "cells": [
  {
   "cell_type": "code",
   "execution_count": 1,
   "id": "844c5670-5e5c-4408-ab8e-4121a57bfa6b",
   "metadata": {},
   "outputs": [
    {
     "name": "stdout",
     "output_type": "stream",
     "text": [
      "Ford\n",
      "Mustang\n",
      "Move!\n",
      "Ibiza\n",
      "Touring 20\n",
      "Sail!\n",
      "Boeing\n",
      "747\n",
      "Fly!\n"
     ]
    }
   ],
   "source": [
    "class Vehicle:\n",
    "  def __init__(self, brand, model):\n",
    "    self.brand = brand\n",
    "    self.model = model\n",
    "\n",
    "  def move(self):\n",
    "    print(\"Move!\")\n",
    "\n",
    "class Car(Vehicle):\n",
    "  pass\n",
    "\n",
    "class Boat(Vehicle):\n",
    "  def move(self):\n",
    "    print(\"Sail!\")\n",
    "\n",
    "class Plane(Vehicle):\n",
    "  def move(self):\n",
    "    print(\"Fly!\")\n",
    "\n",
    "car1 = Car(\"Ford\", \"Mustang\") #Create a Car object\n",
    "boat1 = Boat(\"Ibiza\", \"Touring 20\") #Create a Boat object\n",
    "plane1 = Plane(\"Boeing\", \"747\") #Create a Plane object\n",
    "\n",
    "for x in (car1, boat1, plane1):\n",
    "  print(x.brand)\n",
    "  print(x.model)\n",
    "  x.move()"
   ]
  },
  {
   "cell_type": "code",
   "execution_count": 2,
   "id": "6c0e43ff-43cc-4d5d-96ce-9f20098b337c",
   "metadata": {},
   "outputs": [
    {
     "name": "stdout",
     "output_type": "stream",
     "text": [
      "[2, 12, 30]\n"
     ]
    }
   ],
   "source": [
    "#Instructions\n",
    "#Write a Python program that defines a class `Shape` and its subclass `Rectangle`. The `Rectangle` class should have a method to calculate its area. \n",
    "#Use a for loop to create a list of rectangles with varying dimensions and then use an iterator to iterate through the list and print the area of each rectangle.\n",
    "\n",
    "#Requirements\n",
    "#Rectangle class should correctly calculate area for (1, 2) dimensions.\n",
    "#Rectangle class should correctly calculate area for (3, 4) dimensions.\n",
    "#Rectangle class should correctly calculate area for (5, 6) dimensions.\n",
    "#List of rectangles should have the correct lengths for input dimensions.\n",
    "#Areas should be correctly calculated in the list of rectangles.\n",
    "\n",
    "class Shape:\n",
    "    def __init__(self):\n",
    "        pass\n",
    "\n",
    "class Rectangle(Shape):\n",
    "    def __init__(self, width, height):\n",
    "        super().__init__()\n",
    "        self.width = width\n",
    "        self.height = height\n",
    "\n",
    "    def area(self):\n",
    "        # Return the area of the rectangle\n",
    "        self.area = self.width * self.height\n",
    "        return self.area\n",
    "        #pass\n",
    "\n",
    "# Example dimensions for rectangles\n",
    "dimensions = [(1, 2), (3, 4), (5, 6)]\n",
    "\n",
    "# Create a list of rectangles here\n",
    "rectangles = [Rectangle(dimensions[i][0],dimensions[i][1]) for i in range(len(dimensions))]\n",
    "\n",
    "# Use an iterator to iterate through the list and calculate areas\n",
    "# and print them\n",
    "#for i in rectangles:\n",
    "#    print(i.area())\n",
    "print([i.area() for i in rectangles])"
   ]
  },
  {
   "cell_type": "code",
   "execution_count": 3,
   "id": "a2ce2315-934a-4324-84d8-378947987024",
   "metadata": {},
   "outputs": [
    {
     "name": "stdout",
     "output_type": "stream",
     "text": [
      "Mike Olsen\n",
      "16\n"
     ]
    }
   ],
   "source": [
    "class Person:\n",
    "  def __init__(self, fname, lname):\n",
    "    self.firstname = fname\n",
    "    self.lastname = lname\n",
    "\n",
    "  def printname(self):\n",
    "    print(self.firstname, self.lastname)\n",
    "\n",
    "class Student(Person):\n",
    "  def __init__(self, fname, lname, age):\n",
    "    super().__init__(fname, lname)\n",
    "    self.age = age\n",
    "\n",
    "x = Student(\"Mike\", \"Olsen\", 16)\n",
    "x.printname()\n",
    "\n",
    "print(x.age)"
   ]
  },
  {
   "cell_type": "code",
   "execution_count": null,
   "id": "cd49aaf0-0880-44f3-99be-561fcf6a9b74",
   "metadata": {},
   "outputs": [],
   "source": []
  },
  {
   "cell_type": "code",
   "execution_count": 4,
   "id": "c5c6635e-c439-4d1a-891a-1ab408acafb3",
   "metadata": {},
   "outputs": [
    {
     "name": "stdout",
     "output_type": "stream",
     "text": [
      "Recursion Example Results:\n",
      "1\n",
      "3\n",
      "6\n",
      "10\n",
      "15\n",
      "21\n"
     ]
    },
    {
     "data": {
      "text/plain": [
       "21"
      ]
     },
     "execution_count": 4,
     "metadata": {},
     "output_type": "execute_result"
    }
   ],
   "source": [
    "# Function of recursive need to very careful define\n",
    "def tri_recursion(k):\n",
    "  if(k > 0):\n",
    "    result = k + tri_recursion(k - 1)\n",
    "    print(result)\n",
    "  else:\n",
    "    result = 0\n",
    "  return result\n",
    "\n",
    "print(\"Recursion Example Results:\")\n",
    "tri_recursion(6)"
   ]
  },
  {
   "cell_type": "code",
   "execution_count": 5,
   "id": "b23ace48-37c5-44e4-b0f9-77d9b420c31c",
   "metadata": {},
   "outputs": [
    {
     "name": "stdout",
     "output_type": "stream",
     "text": [
      "13\n",
      "27\n"
     ]
    }
   ],
   "source": [
    "x = lambda a, b, c : a + b + c\n",
    "print(x(5, 6, 2))\n",
    "\n",
    "multiply_numbers = lambda a, b: a * b\n",
    "print(multiply_numbers(3, 9))"
   ]
  },
  {
   "cell_type": "code",
   "execution_count": 6,
   "id": "070f0e85-ad05-48c0-b25b-5510e514af73",
   "metadata": {},
   "outputs": [
    {
     "name": "stdout",
     "output_type": "stream",
     "text": [
      "22\n",
      "33\n"
     ]
    }
   ],
   "source": [
    "def myfunc(n):\n",
    "  return lambda a : a * n\n",
    "\n",
    "mydoubler = myfunc(2)\n",
    "myTriple = myfunc(3)\n",
    "print(mydoubler(11))\n",
    "print(myTriple(11))"
   ]
  },
  {
   "cell_type": "code",
   "execution_count": 7,
   "id": "d9ec7cb0-0b7b-4cff-8562-a8a5fd4f396b",
   "metadata": {},
   "outputs": [
    {
     "name": "stdout",
     "output_type": "stream",
     "text": [
      "26\n"
     ]
    }
   ],
   "source": [
    "def my_function(a, b, /, *, c, d):\n",
    "  print(a + b + c + d)\n",
    "\n",
    "my_function(5, 6, c = 7, d = 8)"
   ]
  },
  {
   "cell_type": "code",
   "execution_count": 8,
   "id": "bb18def3-1693-4507-9462-db95933d9391",
   "metadata": {},
   "outputs": [
    {
     "name": "stdout",
     "output_type": "stream",
     "text": [
      "<function testprn.<locals>.<lambda> at 0x000001C47F1D3CE0>\n"
     ]
    }
   ],
   "source": [
    "def testprn(a):\n",
    "    x = lambda a: a\n",
    "    return x\n",
    "print(testprn(\"z\"))"
   ]
  },
  {
   "cell_type": "code",
   "execution_count": 9,
   "id": "ed8fece2-6be0-45e5-9fcf-f5b44eb5c23e",
   "metadata": {},
   "outputs": [
    {
     "name": "stdout",
     "output_type": "stream",
     "text": [
      "I am from Sweden\n",
      "I am from India\n",
      "I am from Norway\n",
      "I am from Brazil\n"
     ]
    }
   ],
   "source": [
    "# Default value in function\n",
    "def my_function(country = \"Norway\"):\n",
    "  print(\"I am from \" + country)\n",
    "\n",
    "my_function(\"Sweden\")\n",
    "my_function(\"India\")\n",
    "my_function()\n",
    "my_function(\"Brazil\")"
   ]
  },
  {
   "cell_type": "code",
   "execution_count": 10,
   "id": "14d73709-56b6-473e-8e53-4b698ba8ab8a",
   "metadata": {},
   "outputs": [
    {
     "name": "stdout",
     "output_type": "stream",
     "text": [
      "[5, 9, 13]\n",
      "[6, 20, 42]\n"
     ]
    }
   ],
   "source": [
    "# Instructions\n",
    "\n",
    "# Write a Python program that creates a function called `add_numbers` which takes two arguments and returns their sum. Also, \n",
    "# create a lambda function called `multiply_numbers` that takes two arguments and returns their product. Use the following pairs of numbers for testing: (2, 3), (4, 5), and (6, 7).\n",
    "# Requirements\n",
    "\n",
    "# The function `add_numbers` should return the sum of its two arguments.\n",
    "# The lambda function `multiply_numbers` should return the product of its two arguments.\n",
    "\n",
    "\n",
    "def add_numbers(a, b):\n",
    "    # Write your code here\n",
    "    return a + b\n",
    "    # pass\n",
    "\n",
    "multiply_numbers = lambda a, b: a * b\n",
    "\n",
    "# Examples for testing\n",
    "pairs = [(2, 3), (4, 5), (6, 7)]\n",
    "sums = []\n",
    "products = []\n",
    "for a, b in pairs:\n",
    "    sums.append(add_numbers(a, b))\n",
    "    products.append(multiply_numbers(a, b))\n",
    "\n",
    "\n",
    "print(sums)\n",
    "print(products)"
   ]
  },
  {
   "cell_type": "code",
   "execution_count": 11,
   "id": "aa7d3680-aaf7-4870-b663-a001b7050c7c",
   "metadata": {},
   "outputs": [
    {
     "name": "stdout",
     "output_type": "stream",
     "text": [
      "2A911FFD386B83E24DFCBCDA55A07A29AA0E51BD\n"
     ]
    }
   ],
   "source": [
    "import hashlib\n",
    "\n",
    "def sha1Hash(toHash):\n",
    "    try:\n",
    "        messageDigest = hashlib.sha1()\n",
    "        stringM = str(toHash)\n",
    "        byteM = bytes(stringM, encoding='utf')\n",
    "        messageDigest.update(byteM)\n",
    "        return messageDigest.hexdigest()\n",
    "    except TypeError:\n",
    "        raise \"String to hash was not compatible\"\n",
    "\n",
    "print(sha1Hash(\"PowerBI\").upper())"
   ]
  },
  {
   "cell_type": "code",
   "execution_count": 12,
   "id": "6e70165a-999f-411c-99e1-2b61e682c760",
   "metadata": {},
   "outputs": [
    {
     "name": "stdout",
     "output_type": "stream",
     "text": [
      "Windows\n",
      "10.0.19045\n",
      "Intel64 Family 6 Model 142 Stepping 9, GenuineIntel\n"
     ]
    }
   ],
   "source": [
    "import platform\n",
    "\n",
    "x = platform.system()\n",
    "print(x)\n",
    "print(platform.version())\n",
    "print(platform.processor())"
   ]
  },
  {
   "cell_type": "code",
   "execution_count": 13,
   "id": "9c8058de-c18c-405c-9204-910adfe3a8a4",
   "metadata": {},
   "outputs": [
    {
     "name": "stdout",
     "output_type": "stream",
     "text": [
      "['_Processor', '_WIN32_CLIENT_RELEASES', '_WIN32_SERVER_RELEASES', '__builtins__', '__cached__', '__copyright__', '__doc__', '__file__', '__loader__', '__name__', '__package__', '__spec__', '__version__', '_comparable_version', '_default_architecture', '_follow_symlinks', '_get_machine_win32', '_java_getprop', '_mac_ver_xml', '_node', '_norm_version', '_os_release_cache', '_os_release_candidates', '_parse_os_release', '_platform', '_platform_cache', '_sys_version', '_sys_version_cache', '_syscmd_file', '_syscmd_ver', '_uname_cache', '_unknown_as_blank', '_ver_stages', '_win32_ver', '_wmi', '_wmi_query', 'architecture', 'collections', 'freedesktop_os_release', 'functools', 'itertools', 'java_ver', 'libc_ver', 'mac_ver', 'machine', 'node', 'os', 'platform', 'processor', 'python_branch', 'python_build', 'python_compiler', 'python_implementation', 'python_revision', 'python_version', 'python_version_tuple', 're', 'release', 'sys', 'system', 'system_alias', 'uname', 'uname_result', 'version', 'win32_edition', 'win32_is_iot', 'win32_ver']\n"
     ]
    }
   ],
   "source": [
    "import platform\n",
    "\n",
    "x = dir(platform)\n",
    "print(x)\n"
   ]
  },
  {
   "cell_type": "code",
   "execution_count": 14,
   "id": "a1353a71-6b0d-4aef-9838-5e391507f41c",
   "metadata": {},
   "outputs": [
    {
     "name": "stdout",
     "output_type": "stream",
     "text": [
      "['__all__', '__block_openssl_constructor', '__builtin_constructor_cache', '__builtins__', '__cached__', '__doc__', '__file__', '__get_builtin_constructor', '__loader__', '__name__', '__package__', '__spec__', '_hashlib', 'algorithms_available', 'algorithms_guaranteed', 'blake2b', 'blake2s', 'file_digest', 'md5', 'new', 'pbkdf2_hmac', 'scrypt', 'sha1', 'sha224', 'sha256', 'sha384', 'sha3_224', 'sha3_256', 'sha3_384', 'sha3_512', 'sha512', 'shake_128', 'shake_256']\n"
     ]
    }
   ],
   "source": [
    "# print all module and variable in any module e.g. hashlib\n",
    "print(dir(hashlib))"
   ]
  },
  {
   "cell_type": "code",
   "execution_count": 15,
   "id": "cd2feb8d-e964-40ac-ad11-07a5ba591726",
   "metadata": {},
   "outputs": [
    {
     "name": "stdout",
     "output_type": "stream",
     "text": [
      "2024-12-06 08:31:20.607621\n"
     ]
    }
   ],
   "source": [
    "import datetime\n",
    "\n",
    "x = datetime.datetime.now()\n",
    "print(x)"
   ]
  },
  {
   "cell_type": "code",
   "execution_count": 16,
   "id": "bbbecb88-78a5-4f77-bd81-88b5ca6a0f77",
   "metadata": {},
   "outputs": [
    {
     "name": "stdout",
     "output_type": "stream",
     "text": [
      "['MAXYEAR', 'MINYEAR', 'UTC', '__all__', '__builtins__', '__cached__', '__doc__', '__file__', '__loader__', '__name__', '__package__', '__spec__', 'date', 'datetime', 'datetime_CAPI', 'time', 'timedelta', 'timezone', 'tzinfo']\n"
     ]
    }
   ],
   "source": [
    "print(dir(datetime))"
   ]
  }
 ],
 "metadata": {
  "kernelspec": {
   "display_name": "Python 3 (ipykernel)",
   "language": "python",
   "name": "python3"
  },
  "language_info": {
   "codemirror_mode": {
    "name": "ipython",
    "version": 3
   },
   "file_extension": ".py",
   "mimetype": "text/x-python",
   "name": "python",
   "nbconvert_exporter": "python",
   "pygments_lexer": "ipython3",
   "version": "3.12.8"
  }
 },
 "nbformat": 4,
 "nbformat_minor": 5
}
