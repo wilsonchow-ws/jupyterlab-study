{
 "cells": [
  {
   "cell_type": "code",
   "execution_count": 1,
   "id": "ff00a954-6871-4d8c-89f2-57259400a4dd",
   "metadata": {},
   "outputs": [
    {
     "data": {
      "text/plain": [
       "'\\nThis lab for Pandas and PySpark interchange\\nAnd there has some connection testing to csv, parquet, and SQL Server\\n'"
      ]
     },
     "execution_count": 1,
     "metadata": {},
     "output_type": "execute_result"
    }
   ],
   "source": [
    "\"\"\"\n",
    "This lab for Pandas and PySpark interchange\n",
    "And there has some connection testing to csv, parquet, and SQL Server\n",
    "\"\"\"\n",
    "#!pip install pyspark\n",
    "#!pip install findspark\n",
    "#!pip install pyodbc\n",
    "#!pip install SQLAlchemy\n",
    "#!pip install pyarrow\n",
    "#!pip install numpy==1.26.3\n",
    "#!pip install pymssql"
   ]
  },
  {
   "cell_type": "code",
   "execution_count": 2,
   "id": "b544a093-449f-4abe-80ec-b1728191a983",
   "metadata": {},
   "outputs": [],
   "source": [
    "import os\n",
    "os.environ[\"PYARROW_IGNORE_TIMEZONE\"] = \"1\"\n",
    "import numpy as np\n",
    "import pandas as pd\n",
    "from pyspark.sql.types import StringType, BinaryType, ArrayType, LongType, MapType\n",
    "from pyspark.sql import functions as F\n",
    "from pyspark.sql.functions import pandas_udf\n",
    "import pyspark.pandas as ps\n",
    "import pyspark\n",
    "from pyspark.sql import SparkSession\n",
    "spark=SparkSession.builder.appName('DataFrame').getOrCreate()"
   ]
  },
  {
   "cell_type": "code",
   "execution_count": 3,
   "id": "1ca8649a-d796-4c53-b874-0a54b7367933",
   "metadata": {},
   "outputs": [
    {
     "data": {
      "text/html": [
       "\n",
       "            <div>\n",
       "                <p><b>SparkSession - in-memory</b></p>\n",
       "                \n",
       "        <div>\n",
       "            <p><b>SparkContext</b></p>\n",
       "\n",
       "            <p><a href=\"http://Wilson-T470:4040\">Spark UI</a></p>\n",
       "\n",
       "            <dl>\n",
       "              <dt>Version</dt>\n",
       "                <dd><code>v3.5.3</code></dd>\n",
       "              <dt>Master</dt>\n",
       "                <dd><code>local[*]</code></dd>\n",
       "              <dt>AppName</dt>\n",
       "                <dd><code>DataFrame</code></dd>\n",
       "            </dl>\n",
       "        </div>\n",
       "        \n",
       "            </div>\n",
       "        "
      ],
      "text/plain": [
       "<pyspark.sql.session.SparkSession at 0x18bacfeee10>"
      ]
     },
     "execution_count": 3,
     "metadata": {},
     "output_type": "execute_result"
    }
   ],
   "source": [
    "spark"
   ]
  },
  {
   "cell_type": "code",
   "execution_count": 4,
   "id": "9327992d-53ed-45c4-a01f-acb28a23b02f",
   "metadata": {},
   "outputs": [
    {
     "data": {
      "text/html": [
       "\n",
       "        <div>\n",
       "            <p><b>SparkContext</b></p>\n",
       "\n",
       "            <p><a href=\"http://Wilson-T470:4040\">Spark UI</a></p>\n",
       "\n",
       "            <dl>\n",
       "              <dt>Version</dt>\n",
       "                <dd><code>v3.5.3</code></dd>\n",
       "              <dt>Master</dt>\n",
       "                <dd><code>local[*]</code></dd>\n",
       "              <dt>AppName</dt>\n",
       "                <dd><code>DataFrame</code></dd>\n",
       "            </dl>\n",
       "        </div>\n",
       "        "
      ],
      "text/plain": [
       "<SparkContext master=local[*] appName=DataFrame>"
      ]
     },
     "execution_count": 4,
     "metadata": {},
     "output_type": "execute_result"
    }
   ],
   "source": [
    "spark.sparkContext\n",
    "# <SparkContext master=local[*] appName=Analyzing the vocabulary of [...]>"
   ]
  },
  {
   "cell_type": "code",
   "execution_count": 5,
   "id": "c8a17fc2-4851-4738-908e-13463cbd1ed2",
   "metadata": {},
   "outputs": [],
   "source": [
    "from pyspark import SparkContext\n",
    "#sc =SparkContext()"
   ]
  },
  {
   "cell_type": "code",
   "execution_count": 6,
   "id": "c023b3a9-cbdd-42cf-849d-cb7f832c8f92",
   "metadata": {},
   "outputs": [
    {
     "data": {
      "text/plain": [
       "''"
      ]
     },
     "execution_count": 6,
     "metadata": {},
     "output_type": "execute_result"
    }
   ],
   "source": [
    "sc"
   ]
  },
  {
   "cell_type": "code",
   "execution_count": 7,
   "id": "6876de44-a40f-492d-802f-36a9b10de2c6",
   "metadata": {},
   "outputs": [],
   "source": [
    "spark.sparkContext.setLogLevel(\"WARN\")"
   ]
  },
  {
   "cell_type": "code",
   "execution_count": 8,
   "id": "cdbdd140-7865-4d8b-a372-8ff8480bf296",
   "metadata": {},
   "outputs": [],
   "source": [
    "##read the dataset\n",
    "##inferSchema means adjust the suitable data type for all columns. Otherwise they would be String\n",
    "df_pyspark = spark.read.option('header','true').csv('df_VEH0120_GB.csv',inferSchema=True)"
   ]
  },
  {
   "cell_type": "code",
   "execution_count": 9,
   "id": "de7fcfae-bed3-4f6a-94f5-1f4ce5979945",
   "metadata": {},
   "outputs": [
    {
     "name": "stdout",
     "output_type": "stream",
     "text": [
      "root\n",
      " |-- BodyType: string (nullable = true)\n",
      " |-- Make: string (nullable = true)\n",
      " |-- GenModel: string (nullable = true)\n",
      " |-- Model: string (nullable = true)\n",
      " |-- Fuel: string (nullable = true)\n",
      " |-- LicenceStatus: string (nullable = true)\n",
      " |-- 2024Q2: integer (nullable = true)\n",
      " |-- 2024Q1: integer (nullable = true)\n",
      " |-- 2023Q4: integer (nullable = true)\n",
      " |-- 2023Q3: integer (nullable = true)\n",
      " |-- 2023Q2: integer (nullable = true)\n",
      " |-- 2023Q1: integer (nullable = true)\n",
      " |-- 2022Q4: integer (nullable = true)\n",
      " |-- 2022Q3: integer (nullable = true)\n",
      " |-- 2022Q2: integer (nullable = true)\n",
      " |-- 2022Q1: integer (nullable = true)\n",
      " |-- 2021Q4: integer (nullable = true)\n",
      " |-- 2021Q3: integer (nullable = true)\n",
      " |-- 2021Q2: integer (nullable = true)\n",
      " |-- 2021Q1: integer (nullable = true)\n",
      " |-- 2020Q4: integer (nullable = true)\n",
      " |-- 2020Q3: integer (nullable = true)\n",
      " |-- 2020Q2: integer (nullable = true)\n",
      " |-- 2020Q1: integer (nullable = true)\n",
      " |-- 2019Q4: integer (nullable = true)\n",
      " |-- 2019Q3: integer (nullable = true)\n",
      " |-- 2019Q2: integer (nullable = true)\n",
      " |-- 2019Q1: integer (nullable = true)\n",
      " |-- 2018Q4: integer (nullable = true)\n",
      " |-- 2018Q3: integer (nullable = true)\n",
      " |-- 2018Q2: integer (nullable = true)\n",
      " |-- 2018Q1: integer (nullable = true)\n",
      " |-- 2017Q4: integer (nullable = true)\n",
      " |-- 2017Q3: integer (nullable = true)\n",
      " |-- 2017Q2: integer (nullable = true)\n",
      " |-- 2017Q1: integer (nullable = true)\n",
      " |-- 2016Q4: integer (nullable = true)\n",
      " |-- 2016Q3: integer (nullable = true)\n",
      " |-- 2016Q2: integer (nullable = true)\n",
      " |-- 2016Q1: integer (nullable = true)\n",
      " |-- 2015Q4: integer (nullable = true)\n",
      " |-- 2015Q3: integer (nullable = true)\n",
      " |-- 2015Q2: integer (nullable = true)\n",
      " |-- 2015Q1: integer (nullable = true)\n",
      " |-- 2014Q4: integer (nullable = true)\n",
      " |-- 2014Q3: integer (nullable = true)\n",
      " |-- 2014Q2: integer (nullable = true)\n",
      " |-- 2014Q1: integer (nullable = true)\n",
      " |-- 2013Q4: integer (nullable = true)\n",
      " |-- 2013Q3: integer (nullable = true)\n",
      " |-- 2013Q2: integer (nullable = true)\n",
      " |-- 2013Q1: integer (nullable = true)\n",
      " |-- 2012Q4: integer (nullable = true)\n",
      " |-- 2012Q3: integer (nullable = true)\n",
      " |-- 2012Q2: integer (nullable = true)\n",
      " |-- 2012Q1: integer (nullable = true)\n",
      " |-- 2011Q4: integer (nullable = true)\n",
      " |-- 2011Q3: integer (nullable = true)\n",
      " |-- 2011Q2: integer (nullable = true)\n",
      " |-- 2011Q1: integer (nullable = true)\n",
      " |-- 2010Q4: integer (nullable = true)\n",
      " |-- 2010Q3: integer (nullable = true)\n",
      " |-- 2010Q2: integer (nullable = true)\n",
      " |-- 2010Q1: integer (nullable = true)\n",
      " |-- 2009Q4: integer (nullable = true)\n",
      " |-- 2009Q3: integer (nullable = true)\n",
      " |-- 2009Q2: integer (nullable = true)\n",
      " |-- 2009Q1: integer (nullable = true)\n",
      " |-- 2008Q4: integer (nullable = true)\n",
      " |-- 2008Q3: integer (nullable = true)\n",
      " |-- 2007Q4: integer (nullable = true)\n",
      " |-- 2006Q4: integer (nullable = true)\n",
      " |-- 2005Q4: integer (nullable = true)\n",
      " |-- 2004Q4: integer (nullable = true)\n",
      " |-- 2003Q4: integer (nullable = true)\n",
      " |-- 2002Q4: integer (nullable = true)\n",
      " |-- 2001Q4: integer (nullable = true)\n",
      " |-- 2000Q4: integer (nullable = true)\n",
      " |-- 1999Q4: integer (nullable = true)\n",
      " |-- 1998Q4: integer (nullable = true)\n",
      " |-- 1997Q4: integer (nullable = true)\n",
      " |-- 1996Q4: integer (nullable = true)\n",
      " |-- 1995Q4: integer (nullable = true)\n",
      " |-- 1994Q4: integer (nullable = true)\n",
      "\n"
     ]
    }
   ],
   "source": [
    "### Check the schema\n",
    "df_pyspark.printSchema()"
   ]
  },
  {
   "cell_type": "code",
   "execution_count": 10,
   "id": "48e6a796-a1f1-4019-9809-c4aaa2082f0d",
   "metadata": {},
   "outputs": [
    {
     "name": "stdout",
     "output_type": "stream",
     "text": [
      "+--------+------+-------------+--------------------+------+--------------------+\n",
      "|BodyType|  Make|     GenModel|               Model|  Fuel|                  id|\n",
      "+--------+------+-------------+--------------------+------+--------------------+\n",
      "|    Cars|ABARTH|   ABARTH 124|     124 GT MULTIAIR|Petrol|Cars::ABARTH::ABA...|\n",
      "|    Cars|ABARTH|   ABARTH 124|     124 GT MULTIAIR|Petrol|Cars::ABARTH::ABA...|\n",
      "|    Cars|ABARTH|   ABARTH 124|124 GT MULTIAIR AUTO|Petrol|Cars::ABARTH::ABA...|\n",
      "|    Cars|ABARTH|   ABARTH 124|124 GT MULTIAIR AUTO|Petrol|Cars::ABARTH::ABA...|\n",
      "|    Cars|ABARTH|ABARTH SPIDER| 124 SPIDER MULTIAIR|Petrol|Cars::ABARTH::ABA...|\n",
      "+--------+------+-------------+--------------------+------+--------------------+\n",
      "only showing top 5 rows\n",
      "\n"
     ]
    }
   ],
   "source": [
    "from pyspark.sql.functions import concat_ws\n",
    "Vstat=df_pyspark.withColumn('id',concat_ws(\"::\",\"BodyType\",\"Make\",\"GenModel\",\"Model\",\"Fuel\",\"LicenceStatus\"))\n",
    "Vstat.select(\"BodyType\",\"Make\",\"GenModel\",\"Model\",\"Fuel\",\"id\").show(5)"
   ]
  },
  {
   "cell_type": "code",
   "execution_count": 11,
   "id": "66b620e2-6033-404b-bac9-610e978509a1",
   "metadata": {},
   "outputs": [
    {
     "name": "stdout",
     "output_type": "stream",
     "text": [
      "root\n",
      " |-- split(id, ::, -1): array (nullable = false)\n",
      " |    |-- element: string (containsNull = false)\n",
      "\n"
     ]
    }
   ],
   "source": [
    "from pyspark.sql.functions import col, split\n",
    "lines = Vstat.select(split(col(\"id\"), \"::\"))\n",
    "lines\n",
    "\n",
    "# DataFrame[split(value,  , -1): array<string>]\n",
    "lines.printSchema()"
   ]
  },
  {
   "cell_type": "code",
   "execution_count": 12,
   "id": "c05c9122-595e-43ad-bee9-1c1d6bbfb304",
   "metadata": {},
   "outputs": [
    {
     "name": "stdout",
     "output_type": "stream",
     "text": [
      "+--------------------------------------------------------------------+\n",
      "|                                                   split(id, ::, -1)|\n",
      "+--------------------------------------------------------------------+\n",
      "|       [Cars, ABARTH, ABARTH 124, 124 GT MULTIAIR, Petrol, Licensed]|\n",
      "|           [Cars, ABARTH, ABARTH 124, 124 GT MULTIAIR, Petrol, SORN]|\n",
      "|  [Cars, ABARTH, ABARTH 124, 124 GT MULTIAIR AUTO, Petrol, Licensed]|\n",
      "|      [Cars, ABARTH, ABARTH 124, 124 GT MULTIAIR AUTO, Petrol, SORN]|\n",
      "|[Cars, ABARTH, ABARTH SPIDER, 124 SPIDER MULTIAIR, Petrol, Licensed]|\n",
      "+--------------------------------------------------------------------+\n",
      "only showing top 5 rows\n",
      "\n"
     ]
    }
   ],
   "source": [
    "lines.show(5, truncate=100)"
   ]
  },
  {
   "cell_type": "code",
   "execution_count": 13,
   "id": "2b0472bd-4676-4915-a686-df3a343e765a",
   "metadata": {},
   "outputs": [],
   "source": [
    "def split(str, pattern, limit=-1):\n",
    "    \"\"\" [... elided ] \"\"\"\n",
    "    sc = SparkContext._active_spark_context\n",
    "    return Column(sc._jvm.functions.split(_to_java_column(str), pattern, limit))"
   ]
  },
  {
   "cell_type": "code",
   "execution_count": 14,
   "id": "3303a333-f8f8-48c8-81fe-f09de5bc33c7",
   "metadata": {},
   "outputs": [
    {
     "name": "stdout",
     "output_type": "stream",
     "text": [
      "root\n",
      " |-- split(id, ::, -1): array (nullable = false)\n",
      " |    |-- element: string (containsNull = false)\n",
      "\n",
      "root\n",
      " |-- veh: array (nullable = false)\n",
      " |    |-- element: string (containsNull = false)\n",
      "\n"
     ]
    }
   ],
   "source": [
    "from pyspark.sql.functions import col, split\n",
    "Vstat.select(split(col(\"id\"), \"::\")).printSchema()\n",
    "# root\n",
    "#  |-- split(value,  , -1): array (nullable = true)    ❶\n",
    "#  |    |-- element: string (containsNull = true)\n",
    " \n",
    "Vstat.select(split(col(\"id\"), \"::\").alias(\"veh\")).printSchema()\n",
    " \n",
    "# root\n",
    "#  |-- line: array (nullable = true)                   ❷\n",
    "#  |    |-- element: string (containsNull = true)\n"
   ]
  },
  {
   "cell_type": "code",
   "execution_count": 15,
   "id": "b8c68409-18c7-4afb-ab9b-7c8eb4fe679a",
   "metadata": {},
   "outputs": [],
   "source": [
    "df_VStat = Vstat.unpivot(\"id\",[\"2024Q2\",\"2024Q1\",\"2023Q4\",\"2023Q3\",\"2023Q2\",\"2023Q1\",\"2022Q4\",\"2022Q3\",\"2022Q2\",\"2022Q1\"\\\n",
    "                    ,\"2021Q4\",\"2021Q3\",\"2021Q2\",\"2021Q1\",\"2020Q4\",\"2020Q3\",\"2020Q2\",\"2020Q1\",\"2019Q4\",\"2019Q3\",\"2019Q2\",\"2019Q1\"\\\n",
    "                    ,\"2018Q4\",\"2018Q3\",\"2018Q2\",\"2018Q1\",\"2017Q4\",\"2017Q3\",\"2017Q2\",\"2017Q1\",\"2016Q4\",\"2016Q3\",\"2016Q2\",\"2016Q1\"\\\n",
    "                    ,\"2015Q4\",\"2015Q3\",\"2015Q2\",\"2015Q1\",\"2014Q4\",\"2014Q3\",\"2014Q2\",\"2014Q1\",\"2013Q4\",\"2013Q3\",\"2013Q2\",\"2013Q1\"\\\n",
    "                    ,\"2012Q4\",\"2012Q3\",\"2012Q2\",\"2012Q1\",\"2011Q4\",\"2011Q3\",\"2011Q2\",\"2011Q1\",\"2010Q4\",\"2010Q3\",\"2010Q2\",\"2010Q1\"\\\n",
    "                    ,\"2009Q4\",\"2009Q3\",\"2009Q2\",\"2009Q1\",\"2008Q4\",\"2008Q3\",\"2007Q4\",\"2006Q4\",\"2005Q4\",\"2004Q4\",\"2003Q4\",\"2002Q4\"\\\n",
    "                    ,\"2001Q4\",\"2000Q4\",\"1999Q4\",\"1998Q4\",\"1997Q4\",\"1996Q4\",\"1995Q4\",\"1994Q4\"\\\n",
    "                   ],\"Period\",\"Counting\")"
   ]
  },
  {
   "cell_type": "code",
   "execution_count": 16,
   "id": "df333d88-bfed-4424-87f1-4024d897e72d",
   "metadata": {
    "scrolled": true
   },
   "outputs": [],
   "source": [
    "#df_VStat.write.parquet(\"df_VEH0120_GB_p1.parquet\")"
   ]
  },
  {
   "cell_type": "code",
   "execution_count": null,
   "id": "9b791e0f-3d5f-4943-9e2f-30b2d8d45532",
   "metadata": {},
   "outputs": [],
   "source": []
  },
  {
   "cell_type": "code",
   "execution_count": 17,
   "id": "c1204576-4831-4345-b707-689d04562c98",
   "metadata": {},
   "outputs": [
    {
     "name": "stdout",
     "output_type": "stream",
     "text": [
      "+-------------------+--------------------+--------------------+------------+--------------------+\n",
      "|       RegistryPath|                Path|                Name|        Kind|               Value|\n",
      "+-------------------+--------------------+--------------------+------------+--------------------+\n",
      "|HiveKeyLocalMachine|System\\CurrentCon...|EnablePlainTextPa...|       DWord|            00000000|\n",
      "|HiveKeyLocalMachine|System\\CurrentCon...|EnableSecuritySig...|       DWord|            00000001|\n",
      "|HiveKeyLocalMachine|System\\CurrentCon...|RequireSecuritySi...|       DWord|            00000000|\n",
      "|HiveKeyLocalMachine|System\\CurrentCon...|          ServiceDll|ExpandString|C:\\WINDOWS\\System...|\n",
      "|HiveKeyLocalMachine|System\\CurrentCon...|ServiceDllUnloadO...|       DWord|            00000001|\n",
      "|HiveKeyLocalMachine|System\\CurrentCon...|     AuditSmb1Access|       DWord|            00000000|\n",
      "+-------------------+--------------------+--------------------+------------+--------------------+\n",
      "\n"
     ]
    }
   ],
   "source": [
    "df_pyspark_vh=spark.read.csv('LanmanWorkstation Parameters.csv',header=True,inferSchema=True)\n",
    "df_pyspark_vh.show()"
   ]
  },
  {
   "cell_type": "code",
   "execution_count": 18,
   "id": "1ca694ce-75f2-4ca5-a637-aa591cd181c5",
   "metadata": {},
   "outputs": [
    {
     "data": {
      "text/plain": [
       "pyspark.sql.dataframe.DataFrame"
      ]
     },
     "execution_count": 18,
     "metadata": {},
     "output_type": "execute_result"
    }
   ],
   "source": [
    "type(df_pyspark)"
   ]
  },
  {
   "cell_type": "code",
   "execution_count": 19,
   "id": "dec3832e-2dfc-42ae-857e-38f7a4f780e0",
   "metadata": {},
   "outputs": [
    {
     "data": {
      "text/plain": [
       "['RegistryPath', 'Path', 'Name', 'Kind', 'Value']"
      ]
     },
     "execution_count": 19,
     "metadata": {},
     "output_type": "execute_result"
    }
   ],
   "source": [
    "df_pyspark_vh.columns"
   ]
  },
  {
   "cell_type": "code",
   "execution_count": 20,
   "id": "dbb86ceb-a800-48eb-9546-378a060103a0",
   "metadata": {},
   "outputs": [
    {
     "data": {
      "text/plain": [
       "[Row(BodyType='Cars', Make='ABARTH', GenModel='ABARTH 124', Model='124 GT MULTIAIR', Fuel='Petrol', LicenceStatus='Licensed', 2024Q2=16, 2024Q1=16, 2023Q4=16, 2023Q3=16, 2023Q2=17, 2023Q1=17, 2022Q4=17, 2022Q3=17, 2022Q2=18, 2022Q1=18, 2021Q4=16, 2021Q3=18, 2021Q2=18, 2021Q1=17, 2020Q4=18, 2020Q3=18, 2020Q2=18, 2020Q1=18, 2019Q4=18, 2019Q3=18, 2019Q2=18, 2019Q1=17, 2018Q4=12, 2018Q3=2, 2018Q2=0, 2018Q1=0, 2017Q4=0, 2017Q3=0, 2017Q2=0, 2017Q1=0, 2016Q4=0, 2016Q3=0, 2016Q2=0, 2016Q1=0, 2015Q4=0, 2015Q3=0, 2015Q2=0, 2015Q1=0, 2014Q4=0, 2014Q3=0, 2014Q2=0, 2014Q1=0, 2013Q4=0, 2013Q3=0, 2013Q2=0, 2013Q1=0, 2012Q4=0, 2012Q3=0, 2012Q2=0, 2012Q1=0, 2011Q4=0, 2011Q3=0, 2011Q2=0, 2011Q1=0, 2010Q4=0, 2010Q3=0, 2010Q2=0, 2010Q1=0, 2009Q4=0, 2009Q3=0, 2009Q2=0, 2009Q1=0, 2008Q4=0, 2008Q3=0, 2007Q4=0, 2006Q4=0, 2005Q4=0, 2004Q4=0, 2003Q4=0, 2002Q4=0, 2001Q4=0, 2000Q4=0, 1999Q4=0, 1998Q4=0, 1997Q4=0, 1996Q4=0, 1995Q4=0, 1994Q4=0)]"
      ]
     },
     "execution_count": 20,
     "metadata": {},
     "output_type": "execute_result"
    }
   ],
   "source": [
    "df_pyspark.head(1)"
   ]
  },
  {
   "cell_type": "code",
   "execution_count": 21,
   "id": "074fa7ff-5432-45af-8fd5-fa969375e563",
   "metadata": {},
   "outputs": [
    {
     "data": {
      "text/plain": [
       "pyspark.sql.dataframe.DataFrame"
      ]
     },
     "execution_count": 21,
     "metadata": {},
     "output_type": "execute_result"
    }
   ],
   "source": [
    "type(df_pyspark.select('2024Q2'))"
   ]
  },
  {
   "cell_type": "code",
   "execution_count": 22,
   "id": "256e7280-5ca1-4443-a972-78eb5abd2bfa",
   "metadata": {},
   "outputs": [
    {
     "data": {
      "text/plain": [
       "[('BodyType', 'string'),\n",
       " ('Make', 'string'),\n",
       " ('GenModel', 'string'),\n",
       " ('Model', 'string'),\n",
       " ('Fuel', 'string'),\n",
       " ('LicenceStatus', 'string'),\n",
       " ('2024Q2', 'int'),\n",
       " ('2024Q1', 'int'),\n",
       " ('2023Q4', 'int'),\n",
       " ('2023Q3', 'int'),\n",
       " ('2023Q2', 'int'),\n",
       " ('2023Q1', 'int'),\n",
       " ('2022Q4', 'int'),\n",
       " ('2022Q3', 'int'),\n",
       " ('2022Q2', 'int'),\n",
       " ('2022Q1', 'int'),\n",
       " ('2021Q4', 'int'),\n",
       " ('2021Q3', 'int'),\n",
       " ('2021Q2', 'int'),\n",
       " ('2021Q1', 'int'),\n",
       " ('2020Q4', 'int'),\n",
       " ('2020Q3', 'int'),\n",
       " ('2020Q2', 'int'),\n",
       " ('2020Q1', 'int'),\n",
       " ('2019Q4', 'int'),\n",
       " ('2019Q3', 'int'),\n",
       " ('2019Q2', 'int'),\n",
       " ('2019Q1', 'int'),\n",
       " ('2018Q4', 'int'),\n",
       " ('2018Q3', 'int'),\n",
       " ('2018Q2', 'int'),\n",
       " ('2018Q1', 'int'),\n",
       " ('2017Q4', 'int'),\n",
       " ('2017Q3', 'int'),\n",
       " ('2017Q2', 'int'),\n",
       " ('2017Q1', 'int'),\n",
       " ('2016Q4', 'int'),\n",
       " ('2016Q3', 'int'),\n",
       " ('2016Q2', 'int'),\n",
       " ('2016Q1', 'int'),\n",
       " ('2015Q4', 'int'),\n",
       " ('2015Q3', 'int'),\n",
       " ('2015Q2', 'int'),\n",
       " ('2015Q1', 'int'),\n",
       " ('2014Q4', 'int'),\n",
       " ('2014Q3', 'int'),\n",
       " ('2014Q2', 'int'),\n",
       " ('2014Q1', 'int'),\n",
       " ('2013Q4', 'int'),\n",
       " ('2013Q3', 'int'),\n",
       " ('2013Q2', 'int'),\n",
       " ('2013Q1', 'int'),\n",
       " ('2012Q4', 'int'),\n",
       " ('2012Q3', 'int'),\n",
       " ('2012Q2', 'int'),\n",
       " ('2012Q1', 'int'),\n",
       " ('2011Q4', 'int'),\n",
       " ('2011Q3', 'int'),\n",
       " ('2011Q2', 'int'),\n",
       " ('2011Q1', 'int'),\n",
       " ('2010Q4', 'int'),\n",
       " ('2010Q3', 'int'),\n",
       " ('2010Q2', 'int'),\n",
       " ('2010Q1', 'int'),\n",
       " ('2009Q4', 'int'),\n",
       " ('2009Q3', 'int'),\n",
       " ('2009Q2', 'int'),\n",
       " ('2009Q1', 'int'),\n",
       " ('2008Q4', 'int'),\n",
       " ('2008Q3', 'int'),\n",
       " ('2007Q4', 'int'),\n",
       " ('2006Q4', 'int'),\n",
       " ('2005Q4', 'int'),\n",
       " ('2004Q4', 'int'),\n",
       " ('2003Q4', 'int'),\n",
       " ('2002Q4', 'int'),\n",
       " ('2001Q4', 'int'),\n",
       " ('2000Q4', 'int'),\n",
       " ('1999Q4', 'int'),\n",
       " ('1998Q4', 'int'),\n",
       " ('1997Q4', 'int'),\n",
       " ('1996Q4', 'int'),\n",
       " ('1995Q4', 'int'),\n",
       " ('1994Q4', 'int')]"
      ]
     },
     "execution_count": 22,
     "metadata": {},
     "output_type": "execute_result"
    }
   ],
   "source": [
    "df_pyspark.dtypes"
   ]
  },
  {
   "cell_type": "code",
   "execution_count": 23,
   "id": "07497c4d-2a08-42e9-917b-a7b6cc0796e3",
   "metadata": {},
   "outputs": [
    {
     "data": {
      "text/plain": [
       "DataFrame[summary: string, BodyType: string, Make: string, GenModel: string, Model: string, Fuel: string, LicenceStatus: string, 2024Q2: string, 2024Q1: string, 2023Q4: string, 2023Q3: string, 2023Q2: string, 2023Q1: string, 2022Q4: string, 2022Q3: string, 2022Q2: string, 2022Q1: string, 2021Q4: string, 2021Q3: string, 2021Q2: string, 2021Q1: string, 2020Q4: string, 2020Q3: string, 2020Q2: string, 2020Q1: string, 2019Q4: string, 2019Q3: string, 2019Q2: string, 2019Q1: string, 2018Q4: string, 2018Q3: string, 2018Q2: string, 2018Q1: string, 2017Q4: string, 2017Q3: string, 2017Q2: string, 2017Q1: string, 2016Q4: string, 2016Q3: string, 2016Q2: string, 2016Q1: string, 2015Q4: string, 2015Q3: string, 2015Q2: string, 2015Q1: string, 2014Q4: string, 2014Q3: string, 2014Q2: string, 2014Q1: string, 2013Q4: string, 2013Q3: string, 2013Q2: string, 2013Q1: string, 2012Q4: string, 2012Q3: string, 2012Q2: string, 2012Q1: string, 2011Q4: string, 2011Q3: string, 2011Q2: string, 2011Q1: string, 2010Q4: string, 2010Q3: string, 2010Q2: string, 2010Q1: string, 2009Q4: string, 2009Q3: string, 2009Q2: string, 2009Q1: string, 2008Q4: string, 2008Q3: string, 2007Q4: string, 2006Q4: string, 2005Q4: string, 2004Q4: string, 2003Q4: string, 2002Q4: string, 2001Q4: string, 2000Q4: string, 1999Q4: string, 1998Q4: string, 1997Q4: string, 1996Q4: string, 1995Q4: string, 1994Q4: string]"
      ]
     },
     "execution_count": 23,
     "metadata": {},
     "output_type": "execute_result"
    }
   ],
   "source": [
    "#checking dataframe structure\n",
    "df_pyspark.describe()"
   ]
  },
  {
   "cell_type": "code",
   "execution_count": 24,
   "id": "03e23b1f-0586-48af-bfaf-70119ce8987a",
   "metadata": {},
   "outputs": [],
   "source": [
    "##Adding columns in data frame by self-declare formula\n",
    "df_pyspark=df_pyspark.withColumn('2024Q2 plus 3', df_pyspark['2024Q2'] + 3)"
   ]
  },
  {
   "cell_type": "code",
   "execution_count": 25,
   "id": "a3c01b7f-1bbb-404f-bd5a-ca44e6ca95e3",
   "metadata": {},
   "outputs": [
    {
     "name": "stdout",
     "output_type": "stream",
     "text": [
      "+--------+------+--------------------+------+-------------+\n",
      "|BodyType|  Make|               Model|2024Q2|2024Q2 plus 3|\n",
      "+--------+------+--------------------+------+-------------+\n",
      "|    Cars|ABARTH|     124 GT MULTIAIR|    16|           19|\n",
      "|    Cars|ABARTH|     124 GT MULTIAIR|     3|            6|\n",
      "|    Cars|ABARTH|124 GT MULTIAIR AUTO|    24|           27|\n",
      "|    Cars|ABARTH|124 GT MULTIAIR AUTO|     2|            5|\n",
      "|    Cars|ABARTH| 124 SPIDER MULTIAIR|   964|          967|\n",
      "|    Cars|ABARTH| 124 SPIDER MULTIAIR|    26|           29|\n",
      "|    Cars|ABARTH|124 SPIDER MULTIA...|   648|          651|\n",
      "|    Cars|ABARTH|124 SPIDER MULTIA...|    24|           27|\n",
      "|    Cars|ABARTH|124 SPIDER SCORPI...|    60|           63|\n",
      "|    Cars|ABARTH|124 SPIDER SCORPI...|     1|            4|\n",
      "|    Cars|ABARTH|                 500|  3716|         3719|\n",
      "|    Cars|ABARTH|                 500|   339|          342|\n",
      "|    Cars|ABARTH|               500 C|   145|          148|\n",
      "|    Cars|ABARTH|               500 C|     5|            8|\n",
      "|    Cars|ABARTH|           500 C S-A|   353|          356|\n",
      "|    Cars|ABARTH|           500 C S-A|    35|           38|\n",
      "|    Cars|ABARTH|          500 CUSTOM|   331|          334|\n",
      "|    Cars|ABARTH|          500 CUSTOM|     9|           12|\n",
      "|    Cars|ABARTH|      500 CUSTOM S-A|    92|           95|\n",
      "|    Cars|ABARTH|      500 CUSTOM S-A|     3|            6|\n",
      "+--------+------+--------------------+------+-------------+\n",
      "only showing top 20 rows\n",
      "\n"
     ]
    },
    {
     "data": {
      "text/plain": [
       "[('BodyType', 'string'),\n",
       " ('Make', 'string'),\n",
       " ('GenModel', 'string'),\n",
       " ('Model', 'string'),\n",
       " ('Fuel', 'string'),\n",
       " ('LicenceStatus', 'string'),\n",
       " ('2024Q2', 'int'),\n",
       " ('2024Q1', 'int'),\n",
       " ('2023Q4', 'int'),\n",
       " ('2023Q3', 'int'),\n",
       " ('2023Q2', 'int'),\n",
       " ('2023Q1', 'int'),\n",
       " ('2022Q4', 'int'),\n",
       " ('2022Q3', 'int'),\n",
       " ('2022Q2', 'int'),\n",
       " ('2022Q1', 'int'),\n",
       " ('2021Q4', 'int'),\n",
       " ('2021Q3', 'int'),\n",
       " ('2021Q2', 'int'),\n",
       " ('2021Q1', 'int'),\n",
       " ('2020Q4', 'int'),\n",
       " ('2020Q3', 'int'),\n",
       " ('2020Q2', 'int'),\n",
       " ('2020Q1', 'int'),\n",
       " ('2019Q4', 'int'),\n",
       " ('2019Q3', 'int'),\n",
       " ('2019Q2', 'int'),\n",
       " ('2019Q1', 'int'),\n",
       " ('2018Q4', 'int'),\n",
       " ('2018Q3', 'int'),\n",
       " ('2018Q2', 'int'),\n",
       " ('2018Q1', 'int'),\n",
       " ('2017Q4', 'int'),\n",
       " ('2017Q3', 'int'),\n",
       " ('2017Q2', 'int'),\n",
       " ('2017Q1', 'int'),\n",
       " ('2016Q4', 'int'),\n",
       " ('2016Q3', 'int'),\n",
       " ('2016Q2', 'int'),\n",
       " ('2016Q1', 'int'),\n",
       " ('2015Q4', 'int'),\n",
       " ('2015Q3', 'int'),\n",
       " ('2015Q2', 'int'),\n",
       " ('2015Q1', 'int'),\n",
       " ('2014Q4', 'int'),\n",
       " ('2014Q3', 'int'),\n",
       " ('2014Q2', 'int'),\n",
       " ('2014Q1', 'int'),\n",
       " ('2013Q4', 'int'),\n",
       " ('2013Q3', 'int'),\n",
       " ('2013Q2', 'int'),\n",
       " ('2013Q1', 'int'),\n",
       " ('2012Q4', 'int'),\n",
       " ('2012Q3', 'int'),\n",
       " ('2012Q2', 'int'),\n",
       " ('2012Q1', 'int'),\n",
       " ('2011Q4', 'int'),\n",
       " ('2011Q3', 'int'),\n",
       " ('2011Q2', 'int'),\n",
       " ('2011Q1', 'int'),\n",
       " ('2010Q4', 'int'),\n",
       " ('2010Q3', 'int'),\n",
       " ('2010Q2', 'int'),\n",
       " ('2010Q1', 'int'),\n",
       " ('2009Q4', 'int'),\n",
       " ('2009Q3', 'int'),\n",
       " ('2009Q2', 'int'),\n",
       " ('2009Q1', 'int'),\n",
       " ('2008Q4', 'int'),\n",
       " ('2008Q3', 'int'),\n",
       " ('2007Q4', 'int'),\n",
       " ('2006Q4', 'int'),\n",
       " ('2005Q4', 'int'),\n",
       " ('2004Q4', 'int'),\n",
       " ('2003Q4', 'int'),\n",
       " ('2002Q4', 'int'),\n",
       " ('2001Q4', 'int'),\n",
       " ('2000Q4', 'int'),\n",
       " ('1999Q4', 'int'),\n",
       " ('1998Q4', 'int'),\n",
       " ('1997Q4', 'int'),\n",
       " ('1996Q4', 'int'),\n",
       " ('1995Q4', 'int'),\n",
       " ('1994Q4', 'int'),\n",
       " ('2024Q2 plus 3', 'int')]"
      ]
     },
     "execution_count": 25,
     "metadata": {},
     "output_type": "execute_result"
    }
   ],
   "source": [
    "df_pyspark.select(\"BodyType\",\"Make\",\"Model\",\"2024Q2\",\"2024Q2 plus 3\").show()\n",
    "df_pyspark.dtypes"
   ]
  },
  {
   "cell_type": "code",
   "execution_count": 26,
   "id": "f8a847ab-3208-443e-9a6c-23b466c5e36c",
   "metadata": {},
   "outputs": [
    {
     "name": "stdout",
     "output_type": "stream",
     "text": [
      "False\n"
     ]
    }
   ],
   "source": [
    "##Drop the colum\n",
    "# Then check if the column just dropped still in the dataframe or not\n",
    "df_pyspark=df_pyspark.drop('2024Q2 plus 3')\n",
    "print(\"2024Q2 plus 3\" in df_pyspark.columns)"
   ]
  },
  {
   "cell_type": "code",
   "execution_count": 27,
   "id": "69d35ebd-1ddb-4d0a-a02b-657eeb0a1d20",
   "metadata": {},
   "outputs": [
    {
     "name": "stdout",
     "output_type": "stream",
     "text": [
      "+--------+------+--------------------+\n",
      "|BodyType|  Make|               Model|\n",
      "+--------+------+--------------------+\n",
      "|    Cars|ABARTH|     124 GT MULTIAIR|\n",
      "|    Cars|ABARTH|     124 GT MULTIAIR|\n",
      "|    Cars|ABARTH|124 GT MULTIAIR AUTO|\n",
      "|    Cars|ABARTH|124 GT MULTIAIR AUTO|\n",
      "|    Cars|ABARTH| 124 SPIDER MULTIAIR|\n",
      "|    Cars|ABARTH| 124 SPIDER MULTIAIR|\n",
      "|    Cars|ABARTH|124 SPIDER MULTIA...|\n",
      "|    Cars|ABARTH|124 SPIDER MULTIA...|\n",
      "|    Cars|ABARTH|124 SPIDER SCORPI...|\n",
      "|    Cars|ABARTH|124 SPIDER SCORPI...|\n",
      "|    Cars|ABARTH|                 500|\n",
      "|    Cars|ABARTH|                 500|\n",
      "|    Cars|ABARTH|               500 C|\n",
      "|    Cars|ABARTH|               500 C|\n",
      "|    Cars|ABARTH|           500 C S-A|\n",
      "|    Cars|ABARTH|           500 C S-A|\n",
      "|    Cars|ABARTH|          500 CUSTOM|\n",
      "|    Cars|ABARTH|          500 CUSTOM|\n",
      "|    Cars|ABARTH|      500 CUSTOM S-A|\n",
      "|    Cars|ABARTH|      500 CUSTOM S-A|\n",
      "+--------+------+--------------------+\n",
      "only showing top 20 rows\n",
      "\n"
     ]
    },
    {
     "data": {
      "text/plain": [
       "[('BodyType', 'string'),\n",
       " ('Make', 'string'),\n",
       " ('GenModel', 'string'),\n",
       " ('Model', 'string'),\n",
       " ('Fuel', 'string'),\n",
       " ('LicenceStatus', 'string'),\n",
       " ('2024Q2', 'int'),\n",
       " ('2024Q1', 'int'),\n",
       " ('2023Q4', 'int'),\n",
       " ('2023Q3', 'int'),\n",
       " ('2023Q2', 'int'),\n",
       " ('2023Q1', 'int'),\n",
       " ('2022Q4', 'int'),\n",
       " ('2022Q3', 'int'),\n",
       " ('2022Q2', 'int'),\n",
       " ('2022Q1', 'int'),\n",
       " ('2021Q4', 'int'),\n",
       " ('2021Q3', 'int'),\n",
       " ('2021Q2', 'int'),\n",
       " ('2021Q1', 'int'),\n",
       " ('2020Q4', 'int'),\n",
       " ('2020Q3', 'int'),\n",
       " ('2020Q2', 'int'),\n",
       " ('2020Q1', 'int'),\n",
       " ('2019Q4', 'int'),\n",
       " ('2019Q3', 'int'),\n",
       " ('2019Q2', 'int'),\n",
       " ('2019Q1', 'int'),\n",
       " ('2018Q4', 'int'),\n",
       " ('2018Q3', 'int'),\n",
       " ('2018Q2', 'int'),\n",
       " ('2018Q1', 'int'),\n",
       " ('2017Q4', 'int'),\n",
       " ('2017Q3', 'int'),\n",
       " ('2017Q2', 'int'),\n",
       " ('2017Q1', 'int'),\n",
       " ('2016Q4', 'int'),\n",
       " ('2016Q3', 'int'),\n",
       " ('2016Q2', 'int'),\n",
       " ('2016Q1', 'int'),\n",
       " ('2015Q4', 'int'),\n",
       " ('2015Q3', 'int'),\n",
       " ('2015Q2', 'int'),\n",
       " ('2015Q1', 'int'),\n",
       " ('2014Q4', 'int'),\n",
       " ('2014Q3', 'int'),\n",
       " ('2014Q2', 'int'),\n",
       " ('2014Q1', 'int'),\n",
       " ('2013Q4', 'int'),\n",
       " ('2013Q3', 'int'),\n",
       " ('2013Q2', 'int'),\n",
       " ('2013Q1', 'int'),\n",
       " ('2012Q4', 'int'),\n",
       " ('2012Q3', 'int'),\n",
       " ('2012Q2', 'int'),\n",
       " ('2012Q1', 'int'),\n",
       " ('2011Q4', 'int'),\n",
       " ('2011Q3', 'int'),\n",
       " ('2011Q2', 'int'),\n",
       " ('2011Q1', 'int'),\n",
       " ('2010Q4', 'int'),\n",
       " ('2010Q3', 'int'),\n",
       " ('2010Q2', 'int'),\n",
       " ('2010Q1', 'int'),\n",
       " ('2009Q4', 'int'),\n",
       " ('2009Q3', 'int'),\n",
       " ('2009Q2', 'int'),\n",
       " ('2009Q1', 'int'),\n",
       " ('2008Q4', 'int'),\n",
       " ('2008Q3', 'int'),\n",
       " ('2007Q4', 'int'),\n",
       " ('2006Q4', 'int'),\n",
       " ('2005Q4', 'int'),\n",
       " ('2004Q4', 'int'),\n",
       " ('2003Q4', 'int'),\n",
       " ('2002Q4', 'int'),\n",
       " ('2001Q4', 'int'),\n",
       " ('2000Q4', 'int'),\n",
       " ('1999Q4', 'int'),\n",
       " ('1998Q4', 'int'),\n",
       " ('1997Q4', 'int'),\n",
       " ('1996Q4', 'int'),\n",
       " ('1995Q4', 'int'),\n",
       " ('1994Q4', 'int')]"
      ]
     },
     "execution_count": 27,
     "metadata": {},
     "output_type": "execute_result"
    }
   ],
   "source": [
    "df_pyspark.select(\"BodyType\",\"Make\",\"Model\").show()\n",
    "df_pyspark.dtypes"
   ]
  },
  {
   "cell_type": "code",
   "execution_count": 28,
   "id": "531b2bef-c9e3-4579-b13f-a93e07812ec3",
   "metadata": {},
   "outputs": [
    {
     "data": {
      "text/plain": [
       "<pyspark.sql.readwriter.DataFrameReader at 0x18bad396d20>"
      ]
     },
     "execution_count": 28,
     "metadata": {},
     "output_type": "execute_result"
    }
   ],
   "source": [
    "spark.read"
   ]
  },
  {
   "cell_type": "code",
   "execution_count": 29,
   "id": "f2b19f1b-a509-4ba2-b97b-214bdc1ea134",
   "metadata": {},
   "outputs": [
    {
     "data": {
      "text/plain": [
       "['__class__',\n",
       " '__delattr__',\n",
       " '__dict__',\n",
       " '__dir__',\n",
       " '__doc__',\n",
       " '__eq__',\n",
       " '__format__',\n",
       " '__ge__',\n",
       " '__getattribute__',\n",
       " '__getstate__',\n",
       " '__gt__',\n",
       " '__hash__',\n",
       " '__init__',\n",
       " '__init_subclass__',\n",
       " '__le__',\n",
       " '__lt__',\n",
       " '__module__',\n",
       " '__ne__',\n",
       " '__new__',\n",
       " '__reduce__',\n",
       " '__reduce_ex__',\n",
       " '__repr__',\n",
       " '__setattr__',\n",
       " '__sizeof__',\n",
       " '__str__',\n",
       " '__subclasshook__',\n",
       " '__weakref__',\n",
       " '_df',\n",
       " '_jreader',\n",
       " '_set_opts',\n",
       " '_spark',\n",
       " 'csv',\n",
       " 'format',\n",
       " 'jdbc',\n",
       " 'json',\n",
       " 'load',\n",
       " 'option',\n",
       " 'options',\n",
       " 'orc',\n",
       " 'parquet',\n",
       " 'schema',\n",
       " 'table',\n",
       " 'text']"
      ]
     },
     "execution_count": 29,
     "metadata": {},
     "output_type": "execute_result"
    }
   ],
   "source": [
    "dir(spark.read)"
   ]
  },
  {
   "cell_type": "code",
   "execution_count": 30,
   "id": "0cf6f7d8-b31f-47d6-b0ec-e17b362f4165",
   "metadata": {},
   "outputs": [],
   "source": [
    "df_en = spark.read.option('header','true').csv('C:\\\\Data\\\\source\\\\EngagingNetworks\\\\Archive\\\\EngagingNetworks Test Data 2.8.csv',inferSchema=True)"
   ]
  },
  {
   "cell_type": "code",
   "execution_count": 31,
   "id": "614cb41e-5227-4780-8ca9-0ab369f7e807",
   "metadata": {},
   "outputs": [
    {
     "name": "stdout",
     "output_type": "stream",
     "text": [
      "+----------+------------+------------------------------------------+-----+--------+\n",
      "|Account ID|Supporter ID|Campaign ID                               |Title|Postcode|\n",
      "+----------+------------+------------------------------------------+-----+--------+\n",
      "|2339      |161014313   |Become a Mind campaigner                  |Miss |CV32 5NA|\n",
      "|2339      |161014313   |SMS or text Opt-in                        |Miss |CV32 5NA|\n",
      "|2339      |161014313   |Shaping Mind's work                       |Miss |CV32 5NA|\n",
      "|2339      |161014313   |Fundraising events and challenges         |Miss |CV32 5NA|\n",
      "|2339      |161014313   |I want to choose what you contact me about|Miss |CV32 5NA|\n",
      "|2339      |161014313   |Phone opt in                              |Miss |CV32 5NA|\n",
      "|2339      |161014313   |Email Opt-in                              |Miss |CV32 5NA|\n",
      "+----------+------------+------------------------------------------+-----+--------+\n",
      "\n"
     ]
    }
   ],
   "source": [
    "df_en.select('Account ID','Supporter ID','Campaign ID','Title','Postcode').filter(df_en['Supporter ID'].like(\"%161014313\")).show(10, truncate=False)"
   ]
  },
  {
   "cell_type": "code",
   "execution_count": 32,
   "id": "5acc46dd-0c86-429b-a4d8-acec31a74d02",
   "metadata": {},
   "outputs": [
    {
     "data": {
      "text/plain": [
       "[('Account ID', 'int'),\n",
       " ('Supporter ID', 'int'),\n",
       " ('Supporter Email', 'string'),\n",
       " ('Date Created', 'string'),\n",
       " ('Date Modified', 'string'),\n",
       " ('Campaign Number', 'int'),\n",
       " ('Campaign Type', 'string'),\n",
       " ('Campaign ID', 'string'),\n",
       " ('Campaign Date', 'string'),\n",
       " ('Campaign Time', 'timestamp'),\n",
       " ('Campaign Status', 'string'),\n",
       " ('Campaign Data 1', 'string'),\n",
       " ('Campaign Data 2', 'string'),\n",
       " ('Campaign Data 3', 'string'),\n",
       " ('Campaign Data 4', 'string'),\n",
       " ('Campaign Data 5', 'string'),\n",
       " ('Campaign Data 6', 'string'),\n",
       " ('Campaign Data 7', 'string'),\n",
       " ('Campaign Data 8', 'string'),\n",
       " ('Campaign Data 9', 'string'),\n",
       " ('Campaign Data 10', 'string'),\n",
       " ('Campaign Data 11', 'string'),\n",
       " ('Campaign Data 12', 'string'),\n",
       " ('Campaign Data 13', 'string'),\n",
       " ('Campaign Data 14', 'string'),\n",
       " ('Campaign Data 15', 'string'),\n",
       " ('Campaign Data 16', 'string'),\n",
       " ('Campaign Data 17', 'string'),\n",
       " ('Campaign Data 18', 'string'),\n",
       " ('Campaign Data 19', 'string'),\n",
       " ('Campaign Data 20', 'string'),\n",
       " ('Campaign Data 21', 'string'),\n",
       " ('Campaign Data 22', 'string'),\n",
       " ('Campaign Data 23', 'string'),\n",
       " ('Campaign Data 24', 'string'),\n",
       " ('Campaign Data 25', 'string'),\n",
       " ('Campaign Data 26', 'string'),\n",
       " ('Campaign Data 27', 'string'),\n",
       " ('Campaign Data 28', 'string'),\n",
       " ('Campaign Data 29', 'string'),\n",
       " ('Campaign Data 30', 'string'),\n",
       " ('Campaign Data 31', 'string'),\n",
       " ('Campaign Data 32', 'string'),\n",
       " ('Campaign Data 33', 'string'),\n",
       " ('Campaign Data 34', 'string'),\n",
       " ('Campaign Data 35', 'string'),\n",
       " ('External Reference 1', 'string'),\n",
       " ('External Reference 2', 'string'),\n",
       " ('External Reference 3', 'string'),\n",
       " ('External Reference 4', 'string'),\n",
       " ('External Reference 5', 'string'),\n",
       " ('External Reference 6', 'string'),\n",
       " ('External Reference 7', 'string'),\n",
       " ('External Reference 8', 'string'),\n",
       " ('External Reference 9', 'string'),\n",
       " ('External Reference 10', 'string'),\n",
       " ('Origin Source', 'string'),\n",
       " ('Title', 'string'),\n",
       " ('First Name', 'string'),\n",
       " ('Last Name', 'string'),\n",
       " ('Email Address', 'string'),\n",
       " ('City', 'string'),\n",
       " ('Country', 'string'),\n",
       " ('Street', 'string'),\n",
       " ('Address 2', 'string'),\n",
       " ('Postcode', 'string'),\n",
       " ('Home Phone', 'string'),\n",
       " ('Cell Phone', 'bigint'),\n",
       " ('Language preference', 'string'),\n",
       " ('Quiz Score', 'string'),\n",
       " ('Nation', 'string'),\n",
       " ('MP Constituency', 'string'),\n",
       " ('MP Party', 'string'),\n",
       " ('MP First Name', 'string'),\n",
       " ('MP Surname', 'string'),\n",
       " ('MP Title', 'string'),\n",
       " ('MP ID,', 'int')]"
      ]
     },
     "execution_count": 32,
     "metadata": {},
     "output_type": "execute_result"
    }
   ],
   "source": [
    "df_en.dtypes"
   ]
  },
  {
   "cell_type": "code",
   "execution_count": 33,
   "id": "8b9b9112-dd2a-4665-8f6d-6446b464576f",
   "metadata": {},
   "outputs": [
    {
     "name": "stdout",
     "output_type": "stream",
     "text": [
      "+----------+------------+--------------------+--------+\n",
      "|Account ID|Supporter ID|         Campaign ID|Postcode|\n",
      "+----------+------------+--------------------+--------+\n",
      "|      2339|   161014313|Become a Mind cam...|CV32 5NA|\n",
      "|      2339|   161014313|  SMS or text Opt-in|CV32 5NA|\n",
      "|      2339|   161014313| Shaping Mind's work|CV32 5NA|\n",
      "|      2339|   161014313|Fundraising event...|CV32 5NA|\n",
      "|      2339|   161014313|I want to choose ...|CV32 5NA|\n",
      "|      2339|   161014313|        Phone opt in|CV32 5NA|\n",
      "|      2339|   161014313|        Email Opt-in|CV32 5NA|\n",
      "+----------+------------+--------------------+--------+\n",
      "\n"
     ]
    }
   ],
   "source": [
    "#Create a table view for sql query\n",
    "df_en.createOrReplaceTempView('eNet')\n",
    "spark.sql(\"SELECT `Account ID`,`Supporter ID`,`Campaign ID`, Postcode FROM eNet WHERE `Supporter ID` like '%161014313'\").show()"
   ]
  },
  {
   "cell_type": "code",
   "execution_count": 34,
   "id": "2465acba-8ced-4248-95c5-f9d1c0a97fe9",
   "metadata": {},
   "outputs": [
    {
     "data": {
      "text/plain": [
       "[Table(name='eNet', catalog=None, namespace=[], description=None, tableType='TEMPORARY', isTemporary=True)]"
      ]
     },
     "execution_count": 34,
     "metadata": {},
     "output_type": "execute_result"
    }
   ],
   "source": [
    "spark.catalog.listTables()"
   ]
  },
  {
   "cell_type": "code",
   "execution_count": 35,
   "id": "170e157d-7e88-4d6a-8e02-461d09ef27b0",
   "metadata": {},
   "outputs": [],
   "source": [
    "pc = spark.read.csv('C:\\\\Data\\\\source\\\\postcodes.csv',header=True,inferSchema=True)"
   ]
  },
  {
   "cell_type": "code",
   "execution_count": 64,
   "id": "0c1b4741-6b4f-40f2-aa05-5c05675921c0",
   "metadata": {},
   "outputs": [
    {
     "data": {
      "text/plain": [
       "[('Postcode', 'string'),\n",
       " ('In Use?', 'string'),\n",
       " ('Latitude', 'double'),\n",
       " ('Longitude', 'double'),\n",
       " ('Easting', 'int'),\n",
       " ('Northing', 'int'),\n",
       " ('Grid Ref', 'string'),\n",
       " ('County', 'string'),\n",
       " ('District', 'string'),\n",
       " ('Ward', 'string'),\n",
       " ('District Code', 'string'),\n",
       " ('Ward Code', 'string'),\n",
       " ('Country', 'string'),\n",
       " ('County Code', 'string'),\n",
       " ('Constituency', 'string'),\n",
       " ('Introduced', 'date'),\n",
       " ('Terminated', 'date'),\n",
       " ('Parish', 'string'),\n",
       " ('National Park', 'string'),\n",
       " ('Population', 'int'),\n",
       " ('Households', 'int'),\n",
       " ('Built up area', 'string'),\n",
       " ('Built up sub-division', 'string'),\n",
       " ('Lower layer super output area', 'string'),\n",
       " ('Rural/urban', 'string'),\n",
       " ('Region', 'string'),\n",
       " ('Altitude', 'int'),\n",
       " ('London zone', 'int'),\n",
       " ('LSOA Code', 'string'),\n",
       " ('Local authority', 'string'),\n",
       " ('MSOA Code', 'string'),\n",
       " ('Middle layer super output area', 'string'),\n",
       " ('Parish Code', 'string'),\n",
       " ('Census output area', 'string'),\n",
       " ('Constituency Code', 'string'),\n",
       " ('Index of Multiple Deprivation', 'int'),\n",
       " ('Quality', 'int'),\n",
       " ('User Type', 'int'),\n",
       " ('Last updated', 'date'),\n",
       " ('Nearest station', 'string'),\n",
       " ('Distance to station', 'double'),\n",
       " ('Postcode area', 'string'),\n",
       " ('Postcode district', 'string'),\n",
       " ('Police force', 'string'),\n",
       " ('Water company', 'string'),\n",
       " ('Plus Code', 'string'),\n",
       " ('Average Income', 'int'),\n",
       " ('Sewage Company', 'string'),\n",
       " ('Travel To Work Area', 'string'),\n",
       " ('ITL level 2', 'string'),\n",
       " ('ITL level 3', 'string'),\n",
       " ('UPRNs', 'string'),\n",
       " ('Distance to sea', 'double'),\n",
       " ('LSOA21 Code', 'string'),\n",
       " ('Lower layer super output area 2021', 'string'),\n",
       " ('MSOA21 Code', 'string'),\n",
       " ('Middle layer super output area 2021', 'string'),\n",
       " ('Census output area 2021', 'string')]"
      ]
     },
     "execution_count": 64,
     "metadata": {},
     "output_type": "execute_result"
    }
   ],
   "source": [
    "pc.dtypes"
   ]
  },
  {
   "cell_type": "code",
   "execution_count": 37,
   "id": "ab166fc9-54cd-4d2b-b5d9-2bdf1e2c79a6",
   "metadata": {},
   "outputs": [
    {
     "name": "stdout",
     "output_type": "stream",
     "text": [
      "+----------+------------+--------------------+--------+--------+\n",
      "|Account ID|Supporter ID|         Campaign ID|Postcode|Altitude|\n",
      "+----------+------------+--------------------+--------+--------+\n",
      "|      2339|   161014313|Become a Mind cam...|CV32 5NA|      69|\n",
      "|      2339|   161014313|  SMS or text Opt-in|CV32 5NA|      69|\n",
      "|      2339|   161014313| Shaping Mind's work|CV32 5NA|      69|\n",
      "|      2339|   161014313|Fundraising event...|CV32 5NA|      69|\n",
      "|      2339|   161014313|I want to choose ...|CV32 5NA|      69|\n",
      "|      2339|   161014313|        Phone opt in|CV32 5NA|      69|\n",
      "|      2339|   161014313|        Email Opt-in|CV32 5NA|      69|\n",
      "+----------+------------+--------------------+--------+--------+\n",
      "\n"
     ]
    }
   ],
   "source": [
    "#Create another table view Psc for join query\n",
    "pc.createOrReplaceTempView('Psc')\n",
    "spark.sql(\"SELECT eNet.`Account ID`,eNet.`Supporter ID`,eNet.`Campaign ID`, eNet.Postcode, Psc.`Altitude` \\\n",
    "FROM eNet left join Psc on eNet.Postcode = Psc.Postcode WHERE `Supporter ID` like '%161014313'\").show()"
   ]
  },
  {
   "cell_type": "code",
   "execution_count": 38,
   "id": "d6ffd155-3364-4a1e-8626-d93c976b9589",
   "metadata": {},
   "outputs": [],
   "source": [
    "#Convert Spark DataFrame to Pandas\n",
    "EnageNetwork = df_en.toPandas()"
   ]
  },
  {
   "cell_type": "code",
   "execution_count": 39,
   "id": "9c0481c2-b95b-4ef9-bb03-8b1c716dc0dd",
   "metadata": {},
   "outputs": [
    {
     "name": "stdout",
     "output_type": "stream",
     "text": [
      "<class 'pandas.core.frame.DataFrame'>\n",
      "RangeIndex: 21 entries, 0 to 20\n",
      "Data columns (total 77 columns):\n",
      " #   Column                 Non-Null Count  Dtype         \n",
      "---  ------                 --------------  -----         \n",
      " 0   Account ID             21 non-null     int32         \n",
      " 1   Supporter ID           21 non-null     int32         \n",
      " 2   Supporter Email        21 non-null     object        \n",
      " 3   Date Created           21 non-null     object        \n",
      " 4   Date Modified          7 non-null      object        \n",
      " 5   Campaign Number        21 non-null     int32         \n",
      " 6   Campaign Type          21 non-null     object        \n",
      " 7   Campaign ID            21 non-null     object        \n",
      " 8   Campaign Date          21 non-null     object        \n",
      " 9   Campaign Time          21 non-null     datetime64[ns]\n",
      " 10  Campaign Status        21 non-null     object        \n",
      " 11  Campaign Data 1        18 non-null     object        \n",
      " 12  Campaign Data 2        0 non-null      object        \n",
      " 13  Campaign Data 3        0 non-null      object        \n",
      " 14  Campaign Data 4        0 non-null      object        \n",
      " 15  Campaign Data 5        0 non-null      object        \n",
      " 16  Campaign Data 6        0 non-null      object        \n",
      " 17  Campaign Data 7        0 non-null      object        \n",
      " 18  Campaign Data 8        0 non-null      object        \n",
      " 19  Campaign Data 9        0 non-null      object        \n",
      " 20  Campaign Data 10       0 non-null      object        \n",
      " 21  Campaign Data 11       0 non-null      object        \n",
      " 22  Campaign Data 12       0 non-null      object        \n",
      " 23  Campaign Data 13       0 non-null      object        \n",
      " 24  Campaign Data 14       0 non-null      object        \n",
      " 25  Campaign Data 15       0 non-null      object        \n",
      " 26  Campaign Data 16       0 non-null      object        \n",
      " 27  Campaign Data 17       0 non-null      object        \n",
      " 28  Campaign Data 18       0 non-null      object        \n",
      " 29  Campaign Data 19       0 non-null      object        \n",
      " 30  Campaign Data 20       0 non-null      object        \n",
      " 31  Campaign Data 21       0 non-null      object        \n",
      " 32  Campaign Data 22       0 non-null      object        \n",
      " 33  Campaign Data 23       0 non-null      object        \n",
      " 34  Campaign Data 24       0 non-null      object        \n",
      " 35  Campaign Data 25       0 non-null      object        \n",
      " 36  Campaign Data 26       0 non-null      object        \n",
      " 37  Campaign Data 27       0 non-null      object        \n",
      " 38  Campaign Data 28       0 non-null      object        \n",
      " 39  Campaign Data 29       0 non-null      object        \n",
      " 40  Campaign Data 30       0 non-null      object        \n",
      " 41  Campaign Data 31       0 non-null      object        \n",
      " 42  Campaign Data 32       3 non-null      object        \n",
      " 43  Campaign Data 33       3 non-null      object        \n",
      " 44  Campaign Data 34       0 non-null      object        \n",
      " 45  Campaign Data 35       0 non-null      object        \n",
      " 46  External Reference 1   0 non-null      object        \n",
      " 47  External Reference 2   0 non-null      object        \n",
      " 48  External Reference 3   0 non-null      object        \n",
      " 49  External Reference 4   0 non-null      object        \n",
      " 50  External Reference 5   0 non-null      object        \n",
      " 51  External Reference 6   0 non-null      object        \n",
      " 52  External Reference 7   0 non-null      object        \n",
      " 53  External Reference 8   0 non-null      object        \n",
      " 54  External Reference 9   0 non-null      object        \n",
      " 55  External Reference 10  0 non-null      object        \n",
      " 56  Origin Source          0 non-null      object        \n",
      " 57  Title                  21 non-null     object        \n",
      " 58  First Name             21 non-null     object        \n",
      " 59  Last Name              21 non-null     object        \n",
      " 60  Email Address          21 non-null     object        \n",
      " 61  City                   21 non-null     object        \n",
      " 62  Country                7 non-null      object        \n",
      " 63  Street                 21 non-null     object        \n",
      " 64  Address 2              0 non-null      object        \n",
      " 65  Postcode               21 non-null     object        \n",
      " 66  Home Phone             0 non-null      object        \n",
      " 67  Cell Phone             7 non-null      float64       \n",
      " 68  Language preference    0 non-null      object        \n",
      " 69  Quiz Score             0 non-null      object        \n",
      " 70  Nation                 21 non-null     object        \n",
      " 71  MP Constituency        7 non-null      object        \n",
      " 72  MP Party               7 non-null      object        \n",
      " 73  MP First Name          7 non-null      object        \n",
      " 74  MP Surname             7 non-null      object        \n",
      " 75  MP Title               7 non-null      object        \n",
      " 76  MP ID,                 7 non-null      float64       \n",
      "dtypes: datetime64[ns](1), float64(2), int32(3), object(71)\n",
      "memory usage: 12.5+ KB\n"
     ]
    }
   ],
   "source": [
    "EnageNetwork.info()"
   ]
  },
  {
   "cell_type": "code",
   "execution_count": 40,
   "id": "300f07f7-244c-44bf-8fd6-851a51374956",
   "metadata": {},
   "outputs": [],
   "source": [
    "#Setup variable for reading SQL Server\n",
    "#Reading mssql server, it need to use Pandas, pyodbc, and sqlachemy\n",
    "import pyodbc\n",
    "import pandas as pd\n",
    "import sqlalchemy as sa\n",
    "# Set up the database connection\n",
    "\n",
    "db_host = \"127.0.0.1\"\n",
    "db_port = \"1433\"\n",
    "db_name = \"test\"\n",
    "db_user = \"pyt\"\n",
    "db_password = \"pyt1234\""
   ]
  },
  {
   "cell_type": "code",
   "execution_count": 52,
   "id": "4eee5fc5-3192-4725-b63f-63c62108fff1",
   "metadata": {},
   "outputs": [
    {
     "name": "stderr",
     "output_type": "stream",
     "text": [
      "C:\\Users\\wilso\\AppData\\Local\\Temp\\ipykernel_11348\\2786429088.py:12: UserWarning: pandas only supports SQLAlchemy connectable (engine/connection) or database string URI or sqlite3 DBAPI2 connection. Other DBAPI2 objects are not tested. Please consider using SQLAlchemy.\n",
      "  df_pandas = pd.read_sql(query, conn)\n"
     ]
    }
   ],
   "source": [
    "# Connect SQL Server with Pyspark\n",
    "\n",
    "conn = pyodbc.connect(\\\n",
    "    \"Driver={SQL Server};\"\\\n",
    "    \"Server=\" + db_host + \",\" + db_port + \";\"\\\n",
    "    \"Database=\" + db_name + \";\"\\\n",
    "    \"UID=\" + db_user + \";\"\\\n",
    "    \"PWD=\" + db_password + \";\"\\\n",
    ")\n",
    "\n",
    "query = \"SELECT * FROM dbo.postcode\"\n",
    "df_pandas = pd.read_sql(query, conn)\n",
    "from sqlalchemy.engine import URL\n",
    "connection_string = \"DRIVER={ODBC Driver 17 for SQL Server};SERVER=127.0.0.1;DATABASE=test;UID=pyt;PWD=pyt1234;\"\n",
    "#connection_string = \"DRIVER={ODBC Driver 17 for SQL Server};SERVER=\"+db_host+\";DATABASE=\"+db_name+\";UID=\"+db_user+\";PWD=\"+db_password+\";\"\n",
    "connection_url = URL.create(\"mssql+pyodbc\", query={\"odbc_connect\": connection_string})\n",
    "\n",
    "from sqlalchemy import create_engine\n",
    "engine = create_engine(connection_url)\n",
    "\n",
    "with engine.begin() as conn:\n",
    "    df = pd.read_sql_query(sa.text(\"SELECT * FROM dbo.postcode\"), conn)\n",
    "    #df = pd.read_sql_query(sa.text(query), conn)\n",
    "    #df = pd.read_sql(query, conn)"
   ]
  },
  {
   "cell_type": "code",
   "execution_count": 53,
   "id": "762247ec-f930-46e4-99f0-88f8431e6c6b",
   "metadata": {},
   "outputs": [
    {
     "name": "stdout",
     "output_type": "stream",
     "text": [
      "<class 'pandas.core.frame.DataFrame'>\n",
      "RangeIndex: 2854 entries, 0 to 2853\n",
      "Data columns (total 9 columns):\n",
      " #   Column          Non-Null Count  Dtype  \n",
      "---  ------          --------------  -----  \n",
      " 0   postcode        2854 non-null   object \n",
      " 1   eastings        2854 non-null   int64  \n",
      " 2   northings       2841 non-null   float64\n",
      " 3   latitude        2854 non-null   float64\n",
      " 4   longitude       2854 non-null   float64\n",
      " 5   town            2288 non-null   object \n",
      " 6   region          2854 non-null   object \n",
      " 7   country         2854 non-null   object \n",
      " 8   country_string  2854 non-null   object \n",
      "dtypes: float64(3), int64(1), object(5)\n",
      "memory usage: 200.8+ KB\n"
     ]
    },
    {
     "data": {
      "text/html": [
       "<div>\n",
       "<style scoped>\n",
       "    .dataframe tbody tr th:only-of-type {\n",
       "        vertical-align: middle;\n",
       "    }\n",
       "\n",
       "    .dataframe tbody tr th {\n",
       "        vertical-align: top;\n",
       "    }\n",
       "\n",
       "    .dataframe thead th {\n",
       "        text-align: right;\n",
       "    }\n",
       "</style>\n",
       "<table border=\"1\" class=\"dataframe\">\n",
       "  <thead>\n",
       "    <tr style=\"text-align: right;\">\n",
       "      <th></th>\n",
       "      <th>postcode</th>\n",
       "      <th>eastings</th>\n",
       "      <th>northings</th>\n",
       "      <th>latitude</th>\n",
       "      <th>longitude</th>\n",
       "      <th>town</th>\n",
       "      <th>region</th>\n",
       "      <th>country</th>\n",
       "      <th>country_string</th>\n",
       "    </tr>\n",
       "  </thead>\n",
       "  <tbody>\n",
       "    <tr>\n",
       "      <th>0</th>\n",
       "      <td>AB10</td>\n",
       "      <td>392900</td>\n",
       "      <td>804900.0</td>\n",
       "      <td>57.135139</td>\n",
       "      <td>-2.11731</td>\n",
       "      <td>Aberdeen</td>\n",
       "      <td>Aberdeen City</td>\n",
       "      <td>SCT</td>\n",
       "      <td>Scotland</td>\n",
       "    </tr>\n",
       "    <tr>\n",
       "      <th>1</th>\n",
       "      <td>AB11</td>\n",
       "      <td>394500</td>\n",
       "      <td>805300.0</td>\n",
       "      <td>57.138748</td>\n",
       "      <td>-2.09089</td>\n",
       "      <td>Aberdeen</td>\n",
       "      <td>Aberdeen City</td>\n",
       "      <td>SCT</td>\n",
       "      <td>Scotland</td>\n",
       "    </tr>\n",
       "    <tr>\n",
       "      <th>2</th>\n",
       "      <td>AB12</td>\n",
       "      <td>393300</td>\n",
       "      <td>801100.0</td>\n",
       "      <td>57.101002</td>\n",
       "      <td>-2.11060</td>\n",
       "      <td>Aberdeen</td>\n",
       "      <td>Aberdeen City</td>\n",
       "      <td>SCT</td>\n",
       "      <td>Scotland</td>\n",
       "    </tr>\n",
       "    <tr>\n",
       "      <th>3</th>\n",
       "      <td>AB13</td>\n",
       "      <td>385600</td>\n",
       "      <td>801900.0</td>\n",
       "      <td>57.108009</td>\n",
       "      <td>-2.23776</td>\n",
       "      <td>Milltimber</td>\n",
       "      <td>Aberdeen City</td>\n",
       "      <td>SCT</td>\n",
       "      <td>Scotland</td>\n",
       "    </tr>\n",
       "    <tr>\n",
       "      <th>4</th>\n",
       "      <td>AB14</td>\n",
       "      <td>383600</td>\n",
       "      <td>801100.0</td>\n",
       "      <td>57.100761</td>\n",
       "      <td>-2.27073</td>\n",
       "      <td>Peterculter</td>\n",
       "      <td>Aberdeen City</td>\n",
       "      <td>SCT</td>\n",
       "      <td>Scotland</td>\n",
       "    </tr>\n",
       "  </tbody>\n",
       "</table>\n",
       "</div>"
      ],
      "text/plain": [
       "  postcode  eastings  northings   latitude  longitude         town  \\\n",
       "0     AB10    392900   804900.0  57.135139   -2.11731     Aberdeen   \n",
       "1     AB11    394500   805300.0  57.138748   -2.09089     Aberdeen   \n",
       "2     AB12    393300   801100.0  57.101002   -2.11060     Aberdeen   \n",
       "3     AB13    385600   801900.0  57.108009   -2.23776   Milltimber   \n",
       "4     AB14    383600   801100.0  57.100761   -2.27073  Peterculter   \n",
       "\n",
       "          region country country_string  \n",
       "0  Aberdeen City     SCT       Scotland  \n",
       "1  Aberdeen City     SCT       Scotland  \n",
       "2  Aberdeen City     SCT       Scotland  \n",
       "3  Aberdeen City     SCT       Scotland  \n",
       "4  Aberdeen City     SCT       Scotland  "
      ]
     },
     "execution_count": 53,
     "metadata": {},
     "output_type": "execute_result"
    }
   ],
   "source": [
    "df.info()\n",
    "df.head()"
   ]
  },
  {
   "cell_type": "code",
   "execution_count": 63,
   "id": "4c9bd3bc-7080-473c-b746-265669099cc2",
   "metadata": {},
   "outputs": [],
   "source": [
    "#Apache Arrow is an in-memory columnar data format\n",
    "#not enabled by default\n",
    "#All Spark SQL data types are supported by Arrow-based conversion except MapType, ArrayType of TimestampType, and nested StructType\n",
    "spark.conf.set(\"spark.sql.execution.arrow.pyspark.enabled\",\"true\")"
   ]
  },
  {
   "cell_type": "code",
   "execution_count": 55,
   "id": "f7557a30-cdd5-4caa-bded-5589d7a03e9f",
   "metadata": {},
   "outputs": [],
   "source": [
    "#pd.DataFrame.iteritems = pd.DataFrame.items"
   ]
  },
  {
   "cell_type": "code",
   "execution_count": 56,
   "id": "4ed1fb82-0c8d-4a4c-b493-494f14502af5",
   "metadata": {},
   "outputs": [
    {
     "name": "stdout",
     "output_type": "stream",
     "text": [
      "root\n",
      " |-- postcode: string (nullable = true)\n",
      " |-- eastings: long (nullable = true)\n",
      " |-- northings: double (nullable = true)\n",
      " |-- latitude: double (nullable = true)\n",
      " |-- longitude: double (nullable = true)\n",
      " |-- town: string (nullable = true)\n",
      " |-- region: string (nullable = true)\n",
      " |-- country: string (nullable = true)\n",
      " |-- country_string: string (nullable = true)\n",
      "\n"
     ]
    },
    {
     "data": {
      "text/plain": [
       "DataFrame[postcode: string, eastings: bigint, northings: double, latitude: double, longitude: double, town: string, region: string, country: string, country_string: string]"
      ]
     },
     "metadata": {},
     "output_type": "display_data"
    },
    {
     "name": "stdout",
     "output_type": "stream",
     "text": [
      "+--------+--------+---------+------------------+-------------------+----------------+-------------+-------+--------------+\n",
      "|postcode|eastings|northings|          latitude|          longitude|            town|       region|country|country_string|\n",
      "+--------+--------+---------+------------------+-------------------+----------------+-------------+-------+--------------+\n",
      "|    AB10|  392900| 804900.0| 57.13513946533203| -2.117310047149658|        Aberdeen|Aberdeen City|    SCT|      Scotland|\n",
      "|    AB11|  394500| 805300.0| 57.13874816894531|-2.0908899307250977|        Aberdeen|Aberdeen City|    SCT|      Scotland|\n",
      "|    AB12|  393300| 801100.0| 57.10100173950195| -2.110599994659424|        Aberdeen|Aberdeen City|    SCT|      Scotland|\n",
      "|    AB13|  385600| 801900.0|57.108009338378906| -2.237760066986084|      Milltimber|Aberdeen City|    SCT|      Scotland|\n",
      "|    AB14|  383600| 801100.0| 57.10076141357422|-2.2707300186157227|     Peterculter|Aberdeen City|    SCT|      Scotland|\n",
      "|    AB15|  390000| 805300.0| 57.13867950439453| -2.165250062942505|        Aberdeen|Aberdeen City|    SCT|      Scotland|\n",
      "|    AB16|  390600| 807800.0| 57.16115188598633|-2.1554300785064697|        Aberdeen|Aberdeen City|    SCT|      Scotland|\n",
      "|    AB21|  387900| 813200.0|57.209598541259766|-2.2003300189971924|Aberdeen Airport|Aberdeen City|    SCT|      Scotland|\n",
      "|    AB22|  392800| 810700.0| 57.18724060058594|-2.1191298961639404|   Bridge Of Don|Aberdeen City|    SCT|      Scotland|\n",
      "|    AB23|  394700| 813500.0| 57.21242141723633|-2.0877599716186523|        Aberdeen|Aberdeen City|    SCT|      Scotland|\n",
      "|    AB24|  393308| 808004.0|   57.162841796875|-2.1122798919677734|        Aberdeen|Aberdeen City|    SCT|      Scotland|\n",
      "|    AB25|  393200| 806900.0| 57.15311050415039| -2.112410068511963|        Aberdeen|Aberdeen City|    SCT|      Scotland|\n",
      "|    AB30|  370900| 772900.0|56.846778869628906|-2.4771199226379395|    Laurencekirk|Aberdeenshire|    SCT|      Scotland|\n",
      "|    AB31|  368100| 798300.0|57.074790954589844|-2.5262300968170166|        Banchory|Aberdeenshire|    SCT|      Scotland|\n",
      "|    AB32|  380800| 807200.0| 57.15544891357422|  -2.31742000579834|        Westhill|Aberdeenshire|    SCT|      Scotland|\n",
      "|    AB33|  355200| 815100.0|57.224639892578125| -2.742029905319214|          Alford|Aberdeenshire|    SCT|      Scotland|\n",
      "|    AB34|  350800| 800600.0|57.093929290771484| -2.812040090560913|          Aboyne|Aberdeenshire|    SCT|      Scotland|\n",
      "|    AB35|  330300| 794700.0| 57.03828811645508|-3.1486899852752686|        Ballatar|Aberdeenshire|    SCT|      Scotland|\n",
      "|    AB36|  335600| 812300.0| 57.19715118408203| -3.065890073776245|       Strathdon|Aberdeenshire|    SCT|      Scotland|\n",
      "|    AB37|  318700| 827500.0| 57.33097839355469|-3.3505098819732666|   Ballindalloch|        Moray|    SCT|      Scotland|\n",
      "+--------+--------+---------+------------------+-------------------+----------------+-------------+-------+--------------+\n",
      "only showing top 20 rows\n",
      "\n"
     ]
    }
   ],
   "source": [
    "#from Pandas dataframe df, convert to Spark dataframe by using pyarrow\n",
    "df_postcode=spark.createDataFrame(df) \n",
    "df_postcode.printSchema()\n",
    "#df_postcode.select('postcode','eastings','town','region','country').filter(df_postcode['town'].like(\"%Warrington%\")).show(10, truncate=False)\n",
    "display(df_postcode)\n",
    "df_postcode.show(20)"
   ]
  },
  {
   "cell_type": "code",
   "execution_count": 89,
   "id": "e5aca77d-a78c-4e7b-b385-ecd04e00c89e",
   "metadata": {},
   "outputs": [
    {
     "name": "stdout",
     "output_type": "stream",
     "text": [
      "       id                author                                   title  \\\n",
      "0   bk101  Gambardella, Matthew                   XML Developer's Guide   \n",
      "1   bk102            Ralls, Kim                           Midnight Rain   \n",
      "2   bk103           Corets, Eva                         Maeve Ascendant   \n",
      "3   bk104           Corets, Eva                         Oberon's Legacy   \n",
      "4   bk105           Corets, Eva                      The Sundered Grail   \n",
      "5   bk106      Randall, Cynthia                             Lover Birds   \n",
      "6   bk107        Thurman, Paula                           Splish Splash   \n",
      "7   bk108         Knorr, Stefan                         Creepy Crawlies   \n",
      "8   bk109          Kress, Peter                            Paradox Lost   \n",
      "9   bk110          O'Brien, Tim   Microsoft .NET: The Programming Bible   \n",
      "10  bk111          O'Brien, Tim           MSXML3: A Comprehensive Guide   \n",
      "11  bk112           Galos, Mike  Visual Studio 7: A Comprehensive Guide   \n",
      "\n",
      "              genre  price publish_date  \\\n",
      "0          Computer  44.95   2000-10-01   \n",
      "1           Fantasy   5.95   2000-12-16   \n",
      "2           Fantasy   5.95   2000-11-17   \n",
      "3           Fantasy   5.95   2001-03-10   \n",
      "4           Fantasy   5.95   2001-09-10   \n",
      "5           Romance   4.95   2000-09-02   \n",
      "6           Romance   4.95   2000-11-02   \n",
      "7            Horror   4.95   2000-12-06   \n",
      "8   Science Fiction   6.95   2000-11-02   \n",
      "9          Computer  36.95   2000-12-09   \n",
      "10         Computer  36.95   2000-12-01   \n",
      "11         Computer  49.95   2001-04-16   \n",
      "\n",
      "                                          description  \n",
      "0   An in-depth look at creating applications \\n  ...  \n",
      "1   A former architect battles corporate zombies, ...  \n",
      "2   After the collapse of a nanotechnology \\n     ...  \n",
      "3   In post-apocalypse England, the mysterious \\n ...  \n",
      "4   The two daughters of Maeve, half-sisters, \\n  ...  \n",
      "5   When Carla meets Paul at an ornithology \\n    ...  \n",
      "6   A deep sea diver finds true love twenty \\n    ...  \n",
      "7   An anthology of horror stories about roaches,\\...  \n",
      "8   After an inadvertant trip through a Heisenberg...  \n",
      "9   Microsoft's .NET initiative is explored in \\n ...  \n",
      "10  The Microsoft MSXML3 parser is covered in \\n  ...  \n",
      "11  Microsoft Visual Studio 7 is explored in depth...  \n"
     ]
    }
   ],
   "source": [
    "import pandas as pd\n",
    "import xml.etree.ElementTree as ET\n",
    "\n",
    "# Parse the XML file\n",
    "xdf = ET.parse(\"C:\\\\data\\\\books_sample.xml\")\n",
    "root = xdf.getroot()\n",
    "\n",
    "#xdf = pd.read_xml('C:\\\\data\\\\books_sample.xml')\n",
    "\n",
    "data = []\n",
    "for book in root.findall(\"book\"):\n",
    "    data.append({\n",
    "        \"id\": book.get(\"id\"),\n",
    "        \"author\": book.find(\"author\").text,\n",
    "        \"title\": book.find(\"title\").text,\n",
    "        \"genre\": book.find(\"genre\").text,\n",
    "        \"price\": book.find(\"price\").text,\n",
    "        \"publish_date\": book.find(\"publish_date\").text,\n",
    "        \"description\": book.find(\"description\").text\n",
    "    })\n",
    "\n",
    "df = pd.DataFrame(data)\n",
    "print(df)"
   ]
  },
  {
   "cell_type": "code",
   "execution_count": 90,
   "id": "839851a2-a0fb-4e2c-a692-9150137207ae",
   "metadata": {},
   "outputs": [
    {
     "name": "stdout",
     "output_type": "stream",
     "text": [
      "[{'id': 'bk101', 'author': 'Gambardella, Matthew', 'title': \"XML Developer's Guide\", 'genre': 'Computer', 'price': '44.95', 'publish_date': '2000-10-01', 'description': 'An in-depth look at creating applications \\n      with XML.'}, {'id': 'bk102', 'author': 'Ralls, Kim', 'title': 'Midnight Rain', 'genre': 'Fantasy', 'price': '5.95', 'publish_date': '2000-12-16', 'description': 'A former architect battles corporate zombies, \\n      an evil sorceress, and her own childhood to become queen \\n      of the world.'}, {'id': 'bk103', 'author': 'Corets, Eva', 'title': 'Maeve Ascendant', 'genre': 'Fantasy', 'price': '5.95', 'publish_date': '2000-11-17', 'description': 'After the collapse of a nanotechnology \\n      society in England, the young survivors lay the \\n      foundation for a new society.'}, {'id': 'bk104', 'author': 'Corets, Eva', 'title': \"Oberon's Legacy\", 'genre': 'Fantasy', 'price': '5.95', 'publish_date': '2001-03-10', 'description': 'In post-apocalypse England, the mysterious \\n      agent known only as Oberon helps to create a new life \\n      for the inhabitants of London. Sequel to Maeve \\n      Ascendant.'}, {'id': 'bk105', 'author': 'Corets, Eva', 'title': 'The Sundered Grail', 'genre': 'Fantasy', 'price': '5.95', 'publish_date': '2001-09-10', 'description': \"The two daughters of Maeve, half-sisters, \\n      battle one another for control of England. Sequel to \\n      Oberon's Legacy.\"}, {'id': 'bk106', 'author': 'Randall, Cynthia', 'title': 'Lover Birds', 'genre': 'Romance', 'price': '4.95', 'publish_date': '2000-09-02', 'description': 'When Carla meets Paul at an ornithology \\n      conference, tempers fly as feathers get ruffled.'}, {'id': 'bk107', 'author': 'Thurman, Paula', 'title': 'Splish Splash', 'genre': 'Romance', 'price': '4.95', 'publish_date': '2000-11-02', 'description': 'A deep sea diver finds true love twenty \\n      thousand leagues beneath the sea.'}, {'id': 'bk108', 'author': 'Knorr, Stefan', 'title': 'Creepy Crawlies', 'genre': 'Horror', 'price': '4.95', 'publish_date': '2000-12-06', 'description': 'An anthology of horror stories about roaches,\\n      centipedes, scorpions  and other insects.'}, {'id': 'bk109', 'author': 'Kress, Peter', 'title': 'Paradox Lost', 'genre': 'Science Fiction', 'price': '6.95', 'publish_date': '2000-11-02', 'description': 'After an inadvertant trip through a Heisenberg\\n      Uncertainty Device, James Salway discovers the problems \\n      of being quantum.'}, {'id': 'bk110', 'author': \"O'Brien, Tim\", 'title': 'Microsoft .NET: The Programming Bible', 'genre': 'Computer', 'price': '36.95', 'publish_date': '2000-12-09', 'description': \"Microsoft's .NET initiative is explored in \\n      detail in this deep programmer's reference.\"}, {'id': 'bk111', 'author': \"O'Brien, Tim\", 'title': 'MSXML3: A Comprehensive Guide', 'genre': 'Computer', 'price': '36.95', 'publish_date': '2000-12-01', 'description': 'The Microsoft MSXML3 parser is covered in \\n      detail, with attention to XML DOM interfaces, XSLT processing, \\n      SAX and more.'}, {'id': 'bk112', 'author': 'Galos, Mike', 'title': 'Visual Studio 7: A Comprehensive Guide', 'genre': 'Computer', 'price': '49.95', 'publish_date': '2001-04-16', 'description': 'Microsoft Visual Studio 7 is explored in depth,\\n      looking at how Visual Basic, Visual C++, C#, and ASP+ are \\n      integrated into a comprehensive development \\n      environment.'}]\n"
     ]
    }
   ],
   "source": [
    "print(data)"
   ]
  },
  {
   "cell_type": "code",
   "execution_count": null,
   "id": "63ddeee6-7219-48c7-95d9-ca366e710a4e",
   "metadata": {},
   "outputs": [],
   "source": []
  }
 ],
 "metadata": {
  "kernelspec": {
   "display_name": "Python 3 (ipykernel)",
   "language": "python",
   "name": "python3"
  },
  "language_info": {
   "codemirror_mode": {
    "name": "ipython",
    "version": 3
   },
   "file_extension": ".py",
   "mimetype": "text/x-python",
   "name": "python",
   "nbconvert_exporter": "python",
   "pygments_lexer": "ipython3",
   "version": "3.12.8"
  }
 },
 "nbformat": 4,
 "nbformat_minor": 5
}
