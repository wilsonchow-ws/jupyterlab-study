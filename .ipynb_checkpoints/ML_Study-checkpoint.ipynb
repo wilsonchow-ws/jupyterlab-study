{
 "cells": [
  {
   "cell_type": "code",
   "execution_count": null,
   "id": "f633d830-99f3-4dcf-9df5-5a2ab34d4266",
   "metadata": {},
   "outputs": [],
   "source": [
    "# Data for analysis could be defined as 3 types\n",
    "# Data Types\n",
    "\n",
    "# To analyze data, it is important to know what type of data we are dealing with.\n",
    "\n",
    "# We can split the data types into three main categories:\n",
    "\n",
    "#    Numerical\n",
    "#    Categorical\n",
    "#    Ordinal\n",
    "\n",
    "# Numerical data are numbers, and can be split into two numerical categories:\n",
    "# \n",
    "#     Discrete Data\n",
    "#     - counted data that are limited to integers. Example: The number of cars passing by.\n",
    "#     Continuous Data\n",
    "#     - measured data that can be any number. Example: The price of an item, or the size of an item\n",
    "# \n",
    "# Categorical data are values that cannot be measured up against each other. Example: a color value, or any yes/no values.\n",
    "# \n",
    "# Ordinal data are like categorical data, but can be measured up against each other. Example: school grades where A is better than B and so on.\n",
    "# \n",
    "# By knowing the data type of your data source, you will be able to know what technique to use when analyzing them.\n",
    "# \n",
    "# You will learn more about statistics and analyzing data in the next chapters."
   ]
  },
  {
   "cell_type": "code",
   "execution_count": null,
   "id": "15dfebbf-5f94-486e-bc35-0fd4eafaceec",
   "metadata": {},
   "outputs": [],
   "source": [
    "## Numerical Value Analysis"
   ]
  },
  {
   "cell_type": "code",
   "execution_count": 1,
   "id": "6eef8f6c-c2e7-423d-b322-12478b423e2e",
   "metadata": {},
   "outputs": [
    {
     "name": "stdout",
     "output_type": "stream",
     "text": [
      "89.76923076923077\n"
     ]
    }
   ],
   "source": [
    "# The mean (average value)\n",
    "import numpy\n",
    "\n",
    "speed = [99,86,87,88,111,86,103,87,94,78,77,85,86]\n",
    "\n",
    "x = numpy.mean(speed)\n",
    "\n",
    "print(x) "
   ]
  },
  {
   "cell_type": "code",
   "execution_count": 15,
   "id": "8a29c264-24c6-454a-95c1-7801f2ba261c",
   "metadata": {},
   "outputs": [
    {
     "name": "stdout",
     "output_type": "stream",
     "text": [
      "[77, 78, 85, 86, 86, 86, 87, 87, 88, 94, 99, 103, 111]\n",
      "1167\n",
      "13\n",
      "89.76923076923077\n",
      "[77, 78, 85, 86, 87, 88, 94, 99, 103, 111]\n",
      "87.0\n"
     ]
    }
   ],
   "source": [
    "# The Median - middle value\n",
    "import numpy\n",
    "\n",
    "speed = [99,86,87,88,111,86,103,87,94,78,77,85,86]\n",
    "\n",
    "speed.sort()\n",
    "print(speed)\n",
    "\n",
    "print(sum(speed))\n",
    "print(len(speed))\n",
    "\n",
    "# Mean:\n",
    "print(sum(speed) / len(speed))\n",
    "used = set()\n",
    "print([x for x in speed if x not in used and (used.add(x) or True)])\n",
    "\n",
    "x = numpy.median(speed)\n",
    "\n",
    "print(x) "
   ]
  },
  {
   "cell_type": "code",
   "execution_count": 17,
   "id": "2c30d330-2f80-4843-86a1-234231efd568",
   "metadata": {},
   "outputs": [
    {
     "name": "stdout",
     "output_type": "stream",
     "text": [
      "[77, 78, 85, 86, 86, 86, 87, 87, 88, 94, 99, 103]\n",
      "[77, 78, 85, 86, 87, 88, 94, 99, 103]\n",
      "86.5\n"
     ]
    }
   ],
   "source": [
    "speed = [99,86,87,88,86,103,87,94,78,77,85,86]\n",
    "speed.sort()\n",
    "print(speed)\n",
    "used = set()\n",
    "print([x for x in speed if x not in used and (used.add(x) or True)])\n",
    "\n",
    "x = numpy.median(speed)\n",
    "# x = 86.5 = (86 + 87) /2\n",
    "print(x) "
   ]
  },
  {
   "cell_type": "code",
   "execution_count": 21,
   "id": "6dc5986f-6496-40fd-b795-3dcab597b5fb",
   "metadata": {},
   "outputs": [
    {
     "name": "stdout",
     "output_type": "stream",
     "text": [
      "[77, 78, 85, 86, 86, 86, 87, 87, 88, 94, 99, 103, 111]\n",
      "ModeResult(mode=86, count=3)\n"
     ]
    }
   ],
   "source": [
    "# Mode is the most popular value in the list\n",
    "from scipy import stats\n",
    "\n",
    "speed = [99,86,87,88,111,86,103,87,94,78,77,85,86]\n",
    "speed.sort()\n",
    "print(speed)\n",
    "\n",
    "x = stats.mode(speed)\n",
    "\n",
    "print(x) "
   ]
  },
  {
   "cell_type": "code",
   "execution_count": null,
   "id": "5e6cc9dd-0da1-4dd2-a985-fcd613e73fa5",
   "metadata": {},
   "outputs": [],
   "source": [
    "# Standard Deviation\n",
    "# What is Standard Deviation?\n",
    "# Standard deviation is a number that describes how spread out the values are.\n",
    "# A low standard deviation means that most of the numbers are close to the mean (average) value.\n",
    "# A high standard deviation means that the values are spread out over a wider range."
   ]
  },
  {
   "cell_type": "code",
   "execution_count": 22,
   "id": "2069a2d9-56d1-47e0-ac61-70624d334157",
   "metadata": {},
   "outputs": [
    {
     "name": "stdout",
     "output_type": "stream",
     "text": [
      "0.9035079029052513\n"
     ]
    }
   ],
   "source": [
    "import numpy\n",
    "\n",
    "speed = [86,87,88,86,87,85,86]\n",
    "\n",
    "x = numpy.std(speed)\n",
    "\n",
    "print(x) "
   ]
  },
  {
   "cell_type": "code",
   "execution_count": 23,
   "id": "038e5f97-3396-4c52-8a1b-889a4bb3268a",
   "metadata": {},
   "outputs": [
    {
     "name": "stdout",
     "output_type": "stream",
     "text": [
      "37.84501153334721\n"
     ]
    }
   ],
   "source": [
    "speed = [32,111,138,28,59,77,97]\n",
    "\n",
    "x = numpy.std(speed)\n",
    "\n",
    "print(x)"
   ]
  },
  {
   "cell_type": "code",
   "execution_count": 26,
   "id": "048971d7-f135-489d-a4bd-d51cc19d6b97",
   "metadata": {},
   "outputs": [
    {
     "name": "stdout",
     "output_type": "stream",
     "text": [
      "37.84441834669943\n"
     ]
    }
   ],
   "source": [
    "# 1. Find the mean:\n",
    "# \n",
    "# (32+111+138+28+59+77+97) / 7 = 77.4\n",
    "# \n",
    "# 2. For each value: find the difference from the mean:\n",
    "# \n",
    "#  32 - 77.4 = -45.4\n",
    "# 111 - 77.4 =  33.6\n",
    "# 138 - 77.4 =  60.6\n",
    "#  28 - 77.4 = -49.4\n",
    "#  59 - 77.4 = -18.4\n",
    "#  77 - 77.4 = - 0.4\n",
    "#  97 - 77.4 =  19.6\n",
    "# \n",
    "# 3. For each difference: find the square value:\n",
    "# \n",
    "# (-45.4)2 = 2061.16\n",
    "#  (33.6)2 = 1128.96\n",
    "#  (60.6)2 = 3672.36\n",
    "# (-49.4)2 = 2440.36\n",
    "# (-18.4)2 =  338.56\n",
    "# (- 0.4)2 =    0.16\n",
    "#  (19.6)2 =  384.16\n",
    "# \n",
    "# 4. The variance is the average number of these squared differences:\n",
    "# \n",
    "# (2061.16+1128.96+3672.36+2440.36+338.56+0.16+384.16) / 7 = 1432.2 \n",
    "\n",
    "# the square root value of above result is the standard deviation\n",
    "\n",
    "import math\n",
    "\n",
    "print(math.sqrt(1432.2))"
   ]
  },
  {
   "cell_type": "code",
   "execution_count": 27,
   "id": "330ee021-5c57-46a3-b5bb-a00eacbd11e6",
   "metadata": {},
   "outputs": [
    {
     "name": "stdout",
     "output_type": "stream",
     "text": [
      "1432.2448979591834\n"
     ]
    }
   ],
   "source": [
    "import numpy\n",
    "\n",
    "speed = [32,111,138,28,59,77,97]\n",
    "\n",
    "x = numpy.var(speed)\n",
    "\n",
    "print(x) "
   ]
  },
  {
   "cell_type": "code",
   "execution_count": null,
   "id": "ba4190cf-e2c4-43e8-9b6c-42ef2e0ea618",
   "metadata": {},
   "outputs": [],
   "source": [
    "# Standard Deviation is often represented by the symbol Sigma: σ\n",
    "# Variance is often represented by the symbol Sigma Squared: σ2 "
   ]
  },
  {
   "cell_type": "code",
   "execution_count": null,
   "id": "c9b16498-6952-457d-b672-6338f46dc4bd",
   "metadata": {},
   "outputs": [],
   "source": [
    "# Percentiles\n",
    "# What is the 75. percentile? The answer is 43, meaning that 75% of the people are 43 or younger."
   ]
  },
  {
   "cell_type": "code",
   "execution_count": 31,
   "id": "278f14f2-abe9-49cb-9ec1-20eab01a7682",
   "metadata": {},
   "outputs": [
    {
     "name": "stdout",
     "output_type": "stream",
     "text": [
      "[2, 5, 6, 7, 8, 11, 15, 25, 27, 31, 31, 32, 36, 39, 41, 43, 48, 50, 61, 80, 82]\n",
      "43.0\n"
     ]
    }
   ],
   "source": [
    "import numpy\n",
    "\n",
    "ages = [5,31,43,48,50,41,7,11,15,39,80,82,32,2,8,6,25,36,27,61,31]\n",
    "ages.sort()\n",
    "print(ages)\n",
    "x = numpy.percentile(ages, 75)\n",
    "\n",
    "print(x) "
   ]
  },
  {
   "cell_type": "code",
   "execution_count": 33,
   "id": "51063106-079a-469c-b470-6a18acbfa104",
   "metadata": {},
   "outputs": [
    {
     "name": "stdout",
     "output_type": "stream",
     "text": [
      "61.0\n",
      "48.0\n"
     ]
    }
   ],
   "source": [
    "print(numpy.percentile(ages, 90))\n",
    "# means 90% of people ages under or equal to 61\n",
    "\n",
    "print(numpy.percentile(ages, 80))"
   ]
  },
  {
   "cell_type": "code",
   "execution_count": 36,
   "id": "aebdc09f-bd33-4528-9448-731a0f404ac6",
   "metadata": {},
   "outputs": [
    {
     "data": {
      "image/png": "[encoded data removed]",
      "text/plain": [
       "<Figure size 640x480 with 1 Axes>"
      ]
     },
     "metadata": {},
     "output_type": "display_data"
    }
   ],
   "source": [
    "## Creatw a large data set\n",
    "import numpy\n",
    "import matplotlib.pyplot as plt\n",
    "\n",
    "# x would have 100,000 values be generated by randomly, and the values between 0.0 to 5.0\n",
    "x = numpy.random.uniform(0.0, 5.0, 100000)\n",
    "\n",
    "plt.hist(x, 100)\n",
    "plt.show() "
   ]
  },
  {
   "cell_type": "code",
   "execution_count": 40,
   "id": "b1034f4c-76f8-4cc0-af6c-f7f367df9f26",
   "metadata": {},
   "outputs": [
    {
     "data": {
      "image/png": "[encoded data removed]",
      "text/plain": [
       "<Figure size 640x480 with 1 Axes>"
      ]
     },
     "metadata": {},
     "output_type": "display_data"
    }
   ],
   "source": [
    "## Normal distribution\n",
    "\n",
    "# We use the array from the numpy.random.normal() method, with 100000 values,  to draw a histogram with 100 bars.\n",
    "# We specify that the mean value is 5.0, and the standard deviation is 1.0.\n",
    "# Meaning that the values should be concentrated around 5.0, and rarely further away than 1.0 from the mean.\n",
    "# And as you can see from the histogram, most values are between 4.0 and 6.0, with a top at approximately 5.0.\n",
    "\n",
    "import numpy\n",
    "import matplotlib.pyplot as plt\n",
    "\n",
    "x = numpy.random.normal(5.0, 1.0, 100000)\n",
    "#x = numpy.random.uniform(0.0, 5.0, 100000)\n",
    "\n",
    "plt.hist(x, 100)\n",
    "plt.show() "
   ]
  },
  {
   "cell_type": "code",
   "execution_count": 41,
   "id": "c5ce8dcb-0eb9-455b-b8fa-8a4a8b45a994",
   "metadata": {},
   "outputs": [
    {
     "data": {
      "image/png": "[encoded data removed]",
      "text/plain": [
       "<Figure size 640x480 with 1 Axes>"
      ]
     },
     "metadata": {},
     "output_type": "display_data"
    }
   ],
   "source": [
    "import numpy\n",
    "import matplotlib.pyplot as plt\n",
    "\n",
    "x = numpy.random.normal(5.0, 1.0, 1000)\n",
    "y = numpy.random.normal(10.0, 2.0, 1000)\n",
    "\n",
    "plt.scatter(x, y)\n",
    "plt.show()"
   ]
  },
  {
   "cell_type": "code",
   "execution_count": null,
   "id": "6fbc2535-14d6-4bd4-bf14-2e850b0090a8",
   "metadata": {},
   "outputs": [],
   "source": []
  }
 ],
 "metadata": {
  "kernelspec": {
   "display_name": "Python 3 (ipykernel)",
   "language": "python",
   "name": "python3"
  },
  "language_info": {
   "codemirror_mode": {
    "name": "ipython",
    "version": 3
   },
   "file_extension": ".py",
   "mimetype": "text/x-python",
   "name": "python",
   "nbconvert_exporter": "python",
   "pygments_lexer": "ipython3",
   "version": "3.12.8"
  }
 },
 "nbformat": 4,
 "nbformat_minor": 5
}
