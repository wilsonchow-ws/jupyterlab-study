{
 "cells": [
  {
   "cell_type": "code",
   "execution_count": 1,
   "id": "26a4f183-27a8-4a50-9a1e-82b35cbf6d48",
   "metadata": {},
   "outputs": [],
   "source": [
    "## Python basic learning:\n",
    "## Objective for Data Engineer:\n",
    "# 1. Object-oriebted programming\n",
    "# 2. Decorators\n",
    "# 3. Good practices\n",
    "# 4. Version control\n"
   ]
  },
  {
   "cell_type": "code",
   "execution_count": 2,
   "id": "43fa201f-7bc8-4752-a916-de50f2aa8de0",
   "metadata": {},
   "outputs": [
    {
     "data": {
      "text/plain": [
       "5"
      ]
     },
     "execution_count": 2,
     "metadata": {},
     "output_type": "execute_result"
    }
   ],
   "source": [
    "# Decorators:\n",
    "def plus_one(number):\n",
    "    def add_one(number):\n",
    "        return number + 1\n",
    "\n",
    "\n",
    "    result = add_one(number)\n",
    "    return result\n",
    "plus_one(4)\n"
   ]
  },
  {
   "cell_type": "code",
   "execution_count": 3,
   "id": "ee3fcfdd-07c1-44a7-bc40-3107b52b60be",
   "metadata": {},
   "outputs": [
    {
     "data": {
      "text/plain": [
       "6"
      ]
     },
     "execution_count": 3,
     "metadata": {},
     "output_type": "execute_result"
    }
   ],
   "source": [
    "#Passing Functions as Arguments to other Functions\n",
    "def plus_one(number):\n",
    "    return number + 1\n",
    "\n",
    "def square(number):\n",
    "    return number ** 2\n",
    "\n",
    "def function_call(function):\n",
    "    number_to_add = 5\n",
    "    return function(number_to_add)\n",
    "\n",
    "function_call(plus_one)"
   ]
  },
  {
   "cell_type": "code",
   "execution_count": 4,
   "id": "9e628f54-2e4d-4b19-a6c1-35fa5215c63d",
   "metadata": {},
   "outputs": [
    {
     "data": {
      "text/plain": [
       "25"
      ]
     },
     "execution_count": 4,
     "metadata": {},
     "output_type": "execute_result"
    }
   ],
   "source": [
    "function_call(square)"
   ]
  },
  {
   "cell_type": "code",
   "execution_count": 5,
   "id": "5be1382e-b065-4f3e-ace7-0b0d5b2f9e92",
   "metadata": {},
   "outputs": [
    {
     "data": {
      "text/plain": [
       "'Hi'"
      ]
     },
     "execution_count": 5,
     "metadata": {},
     "output_type": "execute_result"
    }
   ],
   "source": [
    "## Function return other function\n",
    "def hello_function():\n",
    "    def say_hi():\n",
    "        return \"Hi\"\n",
    "    return say_hi\n",
    "hello = hello_function()\n",
    "hello()\n"
   ]
  },
  {
   "cell_type": "code",
   "execution_count": 41,
   "id": "a2ccf68c-4703-4241-b298-dee32c496d13",
   "metadata": {},
   "outputs": [
    {
     "name": "stdout",
     "output_type": "stream",
     "text": [
      "Some random message\n"
     ]
    }
   ],
   "source": [
    "#Nested Functions have access to the Enclosing Function's Variable Scope\n",
    "\n",
    "## This code defines a function called print_message that takes a single argument message. Within the print_message function, there is a nested function called message_sender that simply prints the message argument. \n",
    "## The message_sender function is then called within the print_message function. \n",
    "\n",
    "## When the code is executed, the print_message function is called with the argument \"Some random message\". This causes the message_sender function to be called, which in turn prints the message \"Some random message\". \n",
    "## The purpose of this code is to demonstrate how nested functions work in Python. \n",
    "## The message_sender function is nested within the print_message function, which means it has access to the message argument even though it is not passed as an argument to the message_sender function itself. \n",
    "## This is because nested functions have access to the variables and arguments of their enclosing functions.\n",
    "\n",
    "def print_message(message):\n",
    "    \"Enclosong Function\"\n",
    "    def message_sender():\n",
    "        \"Nested Function\"\n",
    "        print(message)\n",
    "        \n",
    "    message_sender()\n",
    "\n",
    "print_message(\"Some random message\")\n"
   ]
  },
  {
   "cell_type": "code",
   "execution_count": 38,
   "id": "efdfd692-24ce-4112-b7f2-fb8376e23f72",
   "metadata": {},
   "outputs": [],
   "source": [
    "#Creating Decorators\n",
    "\n",
    "# With these prerequisites out of the way, let's go ahead and create a simple decorator that will convert a sentence to uppercase. \n",
    "# We do this by defining a wrapper inside an enclosed function. As you can see it very similar to the function inside another function that we created earlier.\n",
    "\n",
    "# This code defines a decorator function called uppercase_decorator that takes in another function as an argument. The decorator function returns a new function called wrapper that wraps the original function. \n",
    "\n",
    "# The wrapper function first calls the original function using function(), and then converts the result to uppercase using the upper() method. Finally, it returns the uppercase result.\n",
    "\n",
    "# The purpose of this decorator is to modify the output of the original function by converting it to uppercase. To use this decorator, you would apply it to a function by placing @uppercase_decorator above the function definition.\n",
    "\n",
    "def uppercase_decorator(function):\n",
    "    def wrapper():\n",
    "        func = str(function())\n",
    "        make_uppercase = func.upper()\n",
    "        return make_uppercase\n",
    "\n",
    "    return wrapper\n"
   ]
  },
  {
   "cell_type": "code",
   "execution_count": 39,
   "id": "404d0578-a780-4bb5-8b0b-87f963580fa5",
   "metadata": {},
   "outputs": [
    {
     "data": {
      "text/plain": [
       "'HELLO THERE'"
      ]
     },
     "execution_count": 39,
     "metadata": {},
     "output_type": "execute_result"
    }
   ],
   "source": [
    "def say_hi():\n",
    "    return 'hello there'\n",
    "\n",
    "decorate = uppercase_decorator(say_hi)\n",
    "decorate()"
   ]
  },
  {
   "cell_type": "code",
   "execution_count": 44,
   "id": "c85c774a-1b6b-4b08-ae66-350a5ff5962d",
   "metadata": {},
   "outputs": [],
   "source": [
    "# It would becomes TypeError: 'NoneType' object is not callable. Because print_message() only use print to out the parameter, not return string.\n",
    "#pmsg = uppercase_decorator(print_message(\"Some random message\"))\n",
    "\n",
    "# But hello_function(), is RETURN a string. It would not be error in there as it returns a string to uppercase_decorator\n",
    "pmsg = uppercase_decorator(hello_function())\n",
    "#pmsg()\n",
    "#print_message(\"Some random message\")"
   ]
  },
  {
   "cell_type": "code",
   "execution_count": 45,
   "id": "180580f2-7bb2-409b-b436-44f37098e86b",
   "metadata": {},
   "outputs": [
    {
     "data": {
      "text/plain": [
       "'HI'"
      ]
     },
     "execution_count": 45,
     "metadata": {},
     "output_type": "execute_result"
    }
   ],
   "source": [
    "pmsg()"
   ]
  },
  {
   "cell_type": "code",
   "execution_count": 46,
   "id": "cd2cb27f-0f9c-4b69-af69-5ae32c8ba6c8",
   "metadata": {},
   "outputs": [],
   "source": [
    "## Applying Multiple Decorators to a Single Function\n",
    "# We can use multiple decorators to a single function. However, the decorators will be applied in the order that we've called them. \n",
    "# Below we'll define another decorator that splits the sentence into a list. We'll then apply the uppercase_decorator and split_string decorator to a single function.\n",
    "\n",
    "# Adding @split_string, @uppercase_decorator to adding specified function in there.\n",
    "import functools\n",
    "def split_string(function):\n",
    "    @functools.wraps(function)\n",
    "    def wrapper():\n",
    "        func = function()\n",
    "        splitted_string = func.split()\n",
    "        return splitted_string\n",
    "\n",
    "    return wrapper "
   ]
  },
  {
   "cell_type": "code",
   "execution_count": 47,
   "id": "b6780006-b408-4f22-84d7-dd2a8c97b3bb",
   "metadata": {},
   "outputs": [
    {
     "data": {
      "text/plain": [
       "['HELLO', 'THERE']"
      ]
     },
     "execution_count": 47,
     "metadata": {},
     "output_type": "execute_result"
    }
   ],
   "source": [
    "@split_string\n",
    "@uppercase_decorator\n",
    "def say_hi():\n",
    "    return 'hello there'\n",
    "say_hi()\n"
   ]
  },
  {
   "cell_type": "code",
   "execution_count": 54,
   "id": "ec76d6b9-18a8-402f-b117-4ffc3bc39d57",
   "metadata": {},
   "outputs": [
    {
     "name": "stdout",
     "output_type": "stream",
     "text": [
      "My arguments are: Nairobi, Accra\n",
      "Cities I love are Nairobi and Accra\n"
     ]
    }
   ],
   "source": [
    "## Accepting Arguments in Decorator Functions\n",
    "\n",
    "# Sometimes we might need to define a decorator that accepts arguments. We achieve this by passing the arguments to the wrapper function. The arguments will then be passed to the function that is being decorated at call time.\n",
    "def decorator_with_arguments(function):\n",
    "    def wrapper_accepting_arguments(arg1, arg2):\n",
    "        print(\"My arguments are: {0}, {1}\".format(arg1,arg2))\n",
    "        function(arg1, arg2)\n",
    "    return wrapper_accepting_arguments\n",
    "\n",
    "\n",
    "@decorator_with_arguments\n",
    "def cities(city_one, city_two):\n",
    "    print(\"Cities I love are {0} and {1}\".format(city_one, city_two))\n",
    "\n",
    "cities(\"Nairobi\", \"Accra\")\n"
   ]
  },
  {
   "cell_type": "code",
   "execution_count": null,
   "id": "045a0688-c840-4ab9-bbb0-325490dc8334",
   "metadata": {},
   "outputs": [],
   "source": []
  }
 ],
 "metadata": {
  "kernelspec": {
   "display_name": "Python 3 (ipykernel)",
   "language": "python",
   "name": "python3"
  },
  "language_info": {
   "codemirror_mode": {
    "name": "ipython",
    "version": 3
   },
   "file_extension": ".py",
   "mimetype": "text/x-python",
   "name": "python",
   "nbconvert_exporter": "python",
   "pygments_lexer": "ipython3",
   "version": "3.12.7"
  }
 },
 "nbformat": 4,
 "nbformat_minor": 5
}
