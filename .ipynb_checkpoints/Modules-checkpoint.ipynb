{
 "cells": [
  {
   "cell_type": "code",
   "execution_count": 1,
   "id": "eabc3fa7-ef12-4466-9435-78de14fcaa1f",
   "metadata": {},
   "outputs": [
    {
     "name": "stdout",
     "output_type": "stream",
     "text": [
      "2024-11-29 17:41:48.919526\n",
      "2024\n",
      "Friday\n",
      "November\n",
      "29\n",
      "48\n"
     ]
    }
   ],
   "source": [
    "# DataTime module\n",
    "# strftime function for extract part in format\n",
    "## Another reference https://docs.python.org/3/library/datetime.html#datetime.timedelta\n",
    "\n",
    "import datetime\n",
    "\n",
    "x = datetime.datetime.now()\n",
    "\n",
    "print(x)\n",
    "print(x.year)\n",
    "print(x.strftime(\"%A\")) \n",
    "print(x.strftime(\"%B\")) \n",
    "print(x.strftime(\"%d\")) \n",
    "print(x.strftime(\"%S\")) "
   ]
  },
  {
   "cell_type": "code",
   "execution_count": 2,
   "id": "a077bbec-1c7d-4914-9acb-c174cc931a91",
   "metadata": {},
   "outputs": [
    {
     "name": "stdout",
     "output_type": "stream",
     "text": [
      "2024-11-28 00:00:00\n"
     ]
    }
   ],
   "source": [
    "x1 = datetime.datetime(2024, 11, 28)\n",
    "\n",
    "print(x1) "
   ]
  },
  {
   "cell_type": "code",
   "execution_count": 7,
   "id": "d930043b-7f23-46ca-86c2-a9b71770448c",
   "metadata": {},
   "outputs": [
    {
     "name": "stdout",
     "output_type": "stream",
     "text": [
      "1\n",
      "150342.956498\n"
     ]
    }
   ],
   "source": [
    "x = datetime.datetime.now()\n",
    "\n",
    "y = x - x1\n",
    "print(y.days)\n",
    "print(y.total_seconds())"
   ]
  },
  {
   "cell_type": "code",
   "execution_count": 4,
   "id": "0e45100b-0df8-4291-8b05-25de764af08a",
   "metadata": {},
   "outputs": [
    {
     "name": "stdout",
     "output_type": "stream",
     "text": [
      "41\n"
     ]
    }
   ],
   "source": [
    "def second_to_hours(sec):\n",
    "    return sec / (60 * 60)\n",
    "\n",
    "print(int(second_to_hours(y.total_seconds())))"
   ]
  },
  {
   "cell_type": "code",
   "execution_count": 5,
   "id": "70d5a656-869d-47d4-bff3-7e19bf3adefa",
   "metadata": {},
   "outputs": [
    {
     "name": "stdout",
     "output_type": "stream",
     "text": [
      "['MAXYEAR', 'MINYEAR', 'UTC', '__all__', '__builtins__', '__cached__', '__doc__', '__file__', '__loader__', '__name__', '__package__', '__spec__', 'date', 'datetime', 'datetime_CAPI', 'time', 'timedelta', 'timezone', 'tzinfo']\n"
     ]
    }
   ],
   "source": [
    "print(dir(datetime))"
   ]
  },
  {
   "cell_type": "code",
   "execution_count": 63,
   "id": "2aeab332-2119-4c5b-8ec2-18571c2d03b2",
   "metadata": {},
   "outputs": [
    {
     "name": "stdout",
     "output_type": "stream",
     "text": [
      "3\n",
      "13\n",
      "40\n",
      "1234\n",
      "176\n",
      "106694302\n",
      "1778238\n",
      "29637\n",
      "2024-11-29 21:19:24.428088\n",
      "2024-11-29 21:19:22.428088\n",
      "2024-11-30 02:18:22.428088\n",
      "2024-11-30 21:18:22.428088\n",
      "2025-01-29 21:18:22.428088\n",
      "2026-11-29 21:18:22.428088\n",
      "55\n"
     ]
    }
   ],
   "source": [
    "from math import ceil\n",
    "from dateutil.relativedelta import relativedelta\n",
    "\n",
    "def datediff(datepart , startdate , enddate):\n",
    "    if datepart == \"year\" or datepart == \"yy\":\n",
    "        if enddate.month < startdate.month:\n",
    "            adj = -1\n",
    "        elif enddate.month == startdate.month and enddate.day > startdate.day:\n",
    "            adj = -1\n",
    "        else:\n",
    "            adj = 0\n",
    "        return enddate.year - startdate.year + adj\n",
    "    elif datepart == \"quarter\" or datepart == \"qq\":\n",
    "        return ((enddate.year - startdate.year) * 12 + enddate.month - startdate.month) // 3\n",
    "    elif datepart == \"month\" or datepart == \"mm\":\n",
    "        return (enddate.year - startdate.year) * 12 + enddate.month - startdate.month\n",
    "    elif datepart == \"day\" or datepart == \"dd\" or datepart == \"d\":\n",
    "        return (enddate - startdate).days\n",
    "    elif datepart == \"week\" or datepart == \"wk\":\n",
    "        return (enddate - startdate).days // 7\n",
    "    elif datepart == \"second\" or datepart == \"ss\":\n",
    "        return (enddate - startdate).seconds + ((enddate - startdate).days * 24 * 60 * 60)\n",
    "    elif datepart == \"minute\" or datepart == \"mi\":\n",
    "        return ((enddate - startdate).seconds // 60) + ((enddate - startdate).days * 24 * 60)\n",
    "    elif datepart == \"hour\" or datepart == \"hh\":\n",
    "        return ((enddate - startdate).seconds // 60 // 60) + ((enddate - startdate).days * 24)\n",
    "\n",
    "def dateadd(datepart, number, date):\n",
    "    if datepart == \"minute\" or datepart == \"mi\":\n",
    "        change = datetime.timedelta(minutes=number)\n",
    "        return date + change\n",
    "    elif datepart == \"hour\" or datepart == \"hh\":\n",
    "        change = datetime.timedelta(hours=number)\n",
    "        return date + change\n",
    "    elif datepart == \"second\" or datepart == \"ss\":\n",
    "        change = datetime.timedelta(seconds=number)\n",
    "        return date + change\n",
    "    elif datepart == \"millisecond\" or datepart == \"ms\":\n",
    "        change = datetime.timedelta(milliseconds=number)\n",
    "        return date + change\n",
    "    elif datepart == \"microsecond\" or datepart == \"mcs\":\n",
    "        change = datetime.timedelta(microseconds=number)\n",
    "        return date + change\n",
    "    elif datepart == \"day\" or datepart == \"dd\":\n",
    "        change = datetime.timedelta(days=number)\n",
    "        return date + change\n",
    "    elif datepart == \"month\" or datepart == \"mm\":\n",
    "        return date + relativedelta(months=number)\n",
    "    elif datepart == \"quarter\" or datepart == \"qq\":\n",
    "        return date + (relativedelta(months=number) * 3)\n",
    "    elif datepart == \"year\" or datepart == \"yy\":\n",
    "        return date + relativedelta(years=number)\n",
    "\n",
    "x1 = datetime.datetime(2021, 7, 14)\n",
    "#x = datetime.datetime(2024, 11, 29)\n",
    "x = datetime.datetime.now()\n",
    "\n",
    "print(datediff(\"year\", x1, x))\n",
    "print(datediff(\"quarter\", x1, x))\n",
    "print(datediff(\"month\", x1, x))\n",
    "print(datediff(\"day\", x1, x))\n",
    "print(datediff(\"week\", x1, x))\n",
    "print(datediff(\"second\", x1, x))\n",
    "print(datediff(\"minute\", x1, x))\n",
    "print(datediff(\"hour\", x1, x))\n",
    "\n",
    "print(dateadd(\"second\", 62, x))\n",
    "print(dateadd(\"minute\", 1, x))\n",
    "print(dateadd(\"hour\", 5, x))\n",
    "print(dateadd(\"day\", 1, x))\n",
    "print(dateadd(\"month\", 2, x))\n",
    "print(dateadd(\"year\", 2, x))\n",
    "\n",
    "print(datediff('year',datetime.datetime(1969, 10, 6), datetime.datetime.now()))"
   ]
  },
  {
   "cell_type": "code",
   "execution_count": 39,
   "id": "6680d0dc-5762-45db-bea5-5205389c4e71",
   "metadata": {},
   "outputs": [
    {
     "name": "stdout",
     "output_type": "stream",
     "text": [
      "3.28\n",
      "32\n",
      "89\n"
     ]
    }
   ],
   "source": [
    "print(round(3.276, 2))\n",
    "print(min(32, 64, 89))\n",
    "print(max(32, 64, 89))"
   ]
  },
  {
   "cell_type": "code",
   "execution_count": 40,
   "id": "366934a1-09a3-4cd0-9921-9f273f06065a",
   "metadata": {},
   "outputs": [
    {
     "name": "stdout",
     "output_type": "stream",
     "text": [
      "{\"name\": \"John\", \"age\": 30}\n",
      "[\"apple\", \"bananas\"]\n",
      "[\"apple\", \"bananas\"]\n",
      "\"hello\"\n",
      "42\n",
      "31.76\n",
      "true\n",
      "false\n",
      "null\n"
     ]
    }
   ],
   "source": [
    "#json\n",
    "import json\n",
    "\n",
    "print(json.dumps({\"name\": \"John\", \"age\": 30}))\n",
    "print(json.dumps([\"apple\", \"bananas\"]))\n",
    "print(json.dumps((\"apple\", \"bananas\")))\n",
    "print(json.dumps(\"hello\"))\n",
    "print(json.dumps(42))\n",
    "print(json.dumps(31.76))\n",
    "print(json.dumps(True))\n",
    "print(json.dumps(False))\n",
    "print(json.dumps(None))"
   ]
  },
  {
   "cell_type": "code",
   "execution_count": 41,
   "id": "a400a665-2b2b-43e8-a74c-f5e4f4d8f984",
   "metadata": {},
   "outputs": [
    {
     "name": "stdout",
     "output_type": "stream",
     "text": [
      "{\"name\": \"John\", \"age\": 30, \"married\": true, \"divorced\": false, \"children\": [\"Ann\", \"Billy\"], \"pets\": null, \"cars\": [{\"model\": \"BMW 230\", \"mpg\": 27.5}, {\"model\": \"Ford Edge\", \"mpg\": 24.1}]}\n"
     ]
    }
   ],
   "source": [
    "import json\n",
    "\n",
    "x = {\n",
    "  \"name\": \"John\",\n",
    "  \"age\": 30,\n",
    "  \"married\": True,\n",
    "  \"divorced\": False,\n",
    "  \"children\": (\"Ann\",\"Billy\"),\n",
    "  \"pets\": None,\n",
    "  \"cars\": [\n",
    "    {\"model\": \"BMW 230\", \"mpg\": 27.5},\n",
    "    {\"model\": \"Ford Edge\", \"mpg\": 24.1}\n",
    "  ]\n",
    "}\n",
    "\n",
    "print(json.dumps(x))"
   ]
  },
  {
   "cell_type": "code",
   "execution_count": 42,
   "id": "6a789eb7-96d2-4132-958d-6f130bb4e31c",
   "metadata": {},
   "outputs": [
    {
     "name": "stdout",
     "output_type": "stream",
     "text": [
      "{\n",
      "    \"name\": \"John\",\n",
      "    \"age\": 30,\n",
      "    \"married\": true,\n",
      "    \"divorced\": false,\n",
      "    \"children\": [\n",
      "        \"Ann\",\n",
      "        \"Billy\"\n",
      "    ],\n",
      "    \"pets\": null,\n",
      "    \"cars\": [\n",
      "        {\n",
      "            \"model\": \"BMW 230\",\n",
      "            \"mpg\": 27.5\n",
      "        },\n",
      "        {\n",
      "            \"model\": \"Ford Edge\",\n",
      "            \"mpg\": 24.1\n",
      "        }\n",
      "    ]\n",
      "}\n"
     ]
    }
   ],
   "source": [
    "import json\n",
    "\n",
    "x = {\n",
    "  \"name\": \"John\",\n",
    "  \"age\": 30,\n",
    "  \"married\": True,\n",
    "  \"divorced\": False,\n",
    "  \"children\": (\"Ann\",\"Billy\"),\n",
    "  \"pets\": None,\n",
    "  \"cars\": [\n",
    "    {\"model\": \"BMW 230\", \"mpg\": 27.5},\n",
    "    {\"model\": \"Ford Edge\", \"mpg\": 24.1}\n",
    "  ]\n",
    "}\n",
    "\n",
    "# use four indents to make it easier to read the result:\n",
    "print(json.dumps(x, indent=4))"
   ]
  },
  {
   "cell_type": "code",
   "execution_count": 6,
   "id": "8d40aae4-d5a9-4230-9bf4-86f297b0594b",
   "metadata": {},
   "outputs": [
    {
     "name": "stdout",
     "output_type": "stream",
     "text": [
      "<class 'datetime.datetime'>\n"
     ]
    }
   ],
   "source": [
    "from datetime import datetime\n",
    "\n",
    "date1 = \"2024-11-04\"\n",
    "print(type(datetime.strptime(date1,'%Y-%m-%d')))"
   ]
  },
  {
   "cell_type": "code",
   "execution_count": 10,
   "id": "ee97676d-df91-431e-b839-0ca7be5ca45b",
   "metadata": {},
   "outputs": [
    {
     "name": "stdout",
     "output_type": "stream",
     "text": [
      "0\n"
     ]
    }
   ],
   "source": [
    "from datetime import datetime\n",
    "def days_between_dates(date1, date2):\n",
    "    # Write your code here\n",
    "    \n",
    "    return abs(datetime.strptime(date1,'%Y-%m-%d') - datetime.strptime(date2,'%Y-%m-%d')).days\n",
    "    #pass\n",
    "\n",
    "if __name__ == '__main__':\n",
    "    date1 = '2023-01-01'\n",
    "    #date2 = '2023-12-31'\n",
    "    date2 = '2023-01-01'\n",
    "    print(days_between_dates(date1, date2))\n"
   ]
  },
  {
   "cell_type": "code",
   "execution_count": 5,
   "id": "b17d07f9-b028-4cbd-8bba-fe479d015521",
   "metadata": {},
   "outputs": [
    {
     "ename": "FileExistsError",
     "evalue": "[Errno 17] File exists: 'myfile.txt'",
     "output_type": "error",
     "traceback": [
      "\u001b[1;31m---------------------------------------------------------------------------\u001b[0m",
      "\u001b[1;31mFileExistsError\u001b[0m                           Traceback (most recent call last)",
      "Cell \u001b[1;32mIn[5], line 2\u001b[0m\n\u001b[0;32m      1\u001b[0m \u001b[38;5;66;03m#f = open(\"myfile.txt\", \"w\")\u001b[39;00m\n\u001b[1;32m----> 2\u001b[0m f \u001b[38;5;241m=\u001b[39m \u001b[38;5;28;43mopen\u001b[39;49m\u001b[43m(\u001b[49m\u001b[38;5;124;43m\"\u001b[39;49m\u001b[38;5;124;43mmyfile.txt\u001b[39;49m\u001b[38;5;124;43m\"\u001b[39;49m\u001b[43m,\u001b[49m\u001b[43m \u001b[49m\u001b[38;5;124;43m\"\u001b[39;49m\u001b[38;5;124;43mx\u001b[39;49m\u001b[38;5;124;43m\"\u001b[39;49m\u001b[43m)\u001b[49m\n",
      "File \u001b[1;32m~\\.virtualenvs\\jupyter-LyAXZOQu\\Lib\\site-packages\\IPython\\core\\interactiveshell.py:324\u001b[0m, in \u001b[0;36m_modified_open\u001b[1;34m(file, *args, **kwargs)\u001b[0m\n\u001b[0;32m    317\u001b[0m \u001b[38;5;28;01mif\u001b[39;00m file \u001b[38;5;129;01min\u001b[39;00m {\u001b[38;5;241m0\u001b[39m, \u001b[38;5;241m1\u001b[39m, \u001b[38;5;241m2\u001b[39m}:\n\u001b[0;32m    318\u001b[0m     \u001b[38;5;28;01mraise\u001b[39;00m \u001b[38;5;167;01mValueError\u001b[39;00m(\n\u001b[0;32m    319\u001b[0m         \u001b[38;5;124mf\u001b[39m\u001b[38;5;124m\"\u001b[39m\u001b[38;5;124mIPython won\u001b[39m\u001b[38;5;124m'\u001b[39m\u001b[38;5;124mt let you open fd=\u001b[39m\u001b[38;5;132;01m{\u001b[39;00mfile\u001b[38;5;132;01m}\u001b[39;00m\u001b[38;5;124m by default \u001b[39m\u001b[38;5;124m\"\u001b[39m\n\u001b[0;32m    320\u001b[0m         \u001b[38;5;124m\"\u001b[39m\u001b[38;5;124mas it is likely to crash IPython. If you know what you are doing, \u001b[39m\u001b[38;5;124m\"\u001b[39m\n\u001b[0;32m    321\u001b[0m         \u001b[38;5;124m\"\u001b[39m\u001b[38;5;124myou can use builtins\u001b[39m\u001b[38;5;124m'\u001b[39m\u001b[38;5;124m open.\u001b[39m\u001b[38;5;124m\"\u001b[39m\n\u001b[0;32m    322\u001b[0m     )\n\u001b[1;32m--> 324\u001b[0m \u001b[38;5;28;01mreturn\u001b[39;00m \u001b[43mio_open\u001b[49m\u001b[43m(\u001b[49m\u001b[43mfile\u001b[49m\u001b[43m,\u001b[49m\u001b[43m \u001b[49m\u001b[38;5;241;43m*\u001b[39;49m\u001b[43margs\u001b[49m\u001b[43m,\u001b[49m\u001b[43m \u001b[49m\u001b[38;5;241;43m*\u001b[39;49m\u001b[38;5;241;43m*\u001b[39;49m\u001b[43mkwargs\u001b[49m\u001b[43m)\u001b[49m\n",
      "\u001b[1;31mFileExistsError\u001b[0m: [Errno 17] File exists: 'myfile.txt'"
     ]
    }
   ],
   "source": [
    "# Create a new file if it does not exist:\n",
    "#f = open(\"myfile.txt\", \"w\")\n",
    "\n",
    "#Create a file called \"myfile.txt\":\n",
    "#f = open(\"myfile.txt\", \"x\")"
   ]
  },
  {
   "cell_type": "code",
   "execution_count": 2,
   "id": "6e643825-0936-4afa-950c-2765e12e64c9",
   "metadata": {},
   "outputs": [
    {
     "name": "stdout",
     "output_type": "stream",
     "text": [
      "Now the file has more content!\n"
     ]
    }
   ],
   "source": [
    "f = open(\"demofile2.txt\", \"a\")\n",
    "f.write(\"Now the file has more content!\")\n",
    "f.close()\n",
    "\n",
    "#open and read the file after the appending:\n",
    "f = open(\"demofile2.txt\", \"r\")\n",
    "print(f.read()) "
   ]
  },
  {
   "cell_type": "code",
   "execution_count": 3,
   "id": "c8e3172c-6142-4ca1-9aaa-0337ffcc5d08",
   "metadata": {},
   "outputs": [
    {
     "name": "stdout",
     "output_type": "stream",
     "text": [
      "Woops! I have deleted the content!\n"
     ]
    }
   ],
   "source": [
    "f = open(\"demofile2.txt\", \"w\")\n",
    "f.write(\"Woops! I have deleted the content!\")\n",
    "f.close()\n",
    "\n",
    "#open and read the file after the overwriting:\n",
    "f = open(\"demofile2.txt\", \"r\")\n",
    "print(f.read()) "
   ]
  },
  {
   "cell_type": "code",
   "execution_count": null,
   "id": "7444db3f-eeea-4751-a255-d7a979ac6552",
   "metadata": {},
   "outputs": [],
   "source": []
  }
 ],
 "metadata": {
  "kernelspec": {
   "display_name": "Python 3 (ipykernel)",
   "language": "python",
   "name": "python3"
  },
  "language_info": {
   "codemirror_mode": {
    "name": "ipython",
    "version": 3
   },
   "file_extension": ".py",
   "mimetype": "text/x-python",
   "name": "python",
   "nbconvert_exporter": "python",
   "pygments_lexer": "ipython3",
   "version": "3.12.8"
  }
 },
 "nbformat": 4,
 "nbformat_minor": 5
}
